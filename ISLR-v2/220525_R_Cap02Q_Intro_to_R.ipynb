{
 "cells": [
  {
   "cell_type": "markdown",
   "id": "7302a6a5-4bd9-40d8-86bf-3a951b977c40",
   "metadata": {},
   "source": [
    "# Practice Questions from Lab"
   ]
  },
  {
   "cell_type": "markdown",
   "id": "4bc4eadf-ef9d-46cc-8072-57a7329dd190",
   "metadata": {},
   "source": [
    "- 1. create a vector with the first 10 digits of pi. check it's length."
   ]
  },
  {
   "cell_type": "code",
   "execution_count": 2,
   "id": "04de2b0f-7993-4eaf-b9c6-ee40891350d2",
   "metadata": {},
   "outputs": [
    {
     "data": {
      "text/html": [
       "3.14159265358979"
      ],
      "text/latex": [
       "3.14159265358979"
      ],
      "text/markdown": [
       "3.14159265358979"
      ],
      "text/plain": [
       "[1] 3.141593"
      ]
     },
     "metadata": {},
     "output_type": "display_data"
    },
    {
     "data": {
      "text/html": [
       "10"
      ],
      "text/latex": [
       "10"
      ],
      "text/markdown": [
       "10"
      ],
      "text/plain": [
       "[1] 10"
      ]
     },
     "metadata": {},
     "output_type": "display_data"
    }
   ],
   "source": [
    "pi\n",
    "x <- c(3, 1, 4, 1, 5, 9, 2, 6, 5, 3)\n",
    "length(x)"
   ]
  },
  {
   "cell_type": "markdown",
   "id": "683d4194-0330-4cbd-8757-7eaa8a711420",
   "metadata": {},
   "source": [
    "- 2. check the documentation for the command 'with'"
   ]
  },
  {
   "cell_type": "code",
   "execution_count": 3,
   "id": "d9fbd0e5-3002-4543-bcec-bd1bf2082aac",
   "metadata": {},
   "outputs": [
    {
     "data": {
      "text/html": [
       "\n",
       "<table width=\"100%\" summary=\"page for with {base}\"><tr><td>with {base}</td><td style=\"text-align: right;\">R Documentation</td></tr></table>\n",
       "\n",
       "<h2>Evaluate an Expression in a Data Environment</h2>\n",
       "\n",
       "<h3>Description</h3>\n",
       "\n",
       "<p>Evaluate an <span style=\"font-family: Courier New, Courier; color: #666666;\"><b>R</b></span> expression in an environment constructed from data,\n",
       "possibly modifying (a copy of) the original data.\n",
       "</p>\n",
       "\n",
       "\n",
       "<h3>Usage</h3>\n",
       "\n",
       "<pre>\n",
       "with(data, expr, ...)\n",
       "within(data, expr, ...)\n",
       "## S3 method for class 'list'\n",
       "within(data, expr, keepAttrs = TRUE, ...)\n",
       "</pre>\n",
       "\n",
       "\n",
       "<h3>Arguments</h3>\n",
       "\n",
       "<table summary=\"R argblock\">\n",
       "<tr valign=\"top\"><td><code>data</code></td>\n",
       "<td>\n",
       "<p>data to use for constructing an environment. For the\n",
       "default <code>with</code> method this may be an environment, a list, a\n",
       "data frame, or an integer as in <code>sys.call</code>. For <code>within</code>,\n",
       "it can be a list or a data frame.</p>\n",
       "</td></tr>\n",
       "<tr valign=\"top\"><td><code>expr</code></td>\n",
       "<td>\n",
       "<p>expression to evaluate; particularly for <code>within()</code>\n",
       "often a &ldquo;compound&rdquo; expression, i.e., of the form </p>\n",
       "<pre>   {\n",
       "     a &lt;- somefun()\n",
       "     b &lt;- otherfun()\n",
       "     .....\n",
       "     rm(unused1, temp)\n",
       "   }\n",
       "</pre></td></tr>\n",
       "<tr valign=\"top\"><td><code>keepAttrs</code></td>\n",
       "<td>\n",
       "<p>for the <code>list</code> method of <code>within()</code>,\n",
       "a <code>logical</code> specifying if the resulting list should keep\n",
       "the <code>attributes</code> from <code>data</code> and have its\n",
       "<code>names</code> in the same order.  Often this is unneeded as\n",
       "the result is a <em>named</em> list anyway, and then <code>keepAttrs =\n",
       "      FALSE</code> is more efficient.</p>\n",
       "</td></tr>\n",
       "<tr valign=\"top\"><td><code>...</code></td>\n",
       "<td>\n",
       "<p>arguments to be passed to (future) methods.</p>\n",
       "</td></tr>\n",
       "</table>\n",
       "\n",
       "\n",
       "<h3>Details</h3>\n",
       "\n",
       "<p><code>with</code> is a generic function that evaluates <code>expr</code> in a\n",
       "local environment constructed from <code>data</code>.  The environment has\n",
       "the caller's environment as its parent.  This is useful for\n",
       "simplifying calls to modeling functions.  (Note: if <code>data</code> is\n",
       "already an environment then this is used with its existing parent.)\n",
       "</p>\n",
       "<p>Note that assignments within <code>expr</code> take place in the constructed\n",
       "environment and not in the user's workspace.\n",
       "</p>\n",
       "<p><code>within</code> is similar, except that it examines the environment\n",
       "after the evaluation of <code>expr</code> and makes the corresponding\n",
       "modifications to a copy of <code>data</code> (this may fail in the data\n",
       "frame case if objects are created which cannot be stored in a data\n",
       "frame), and returns it.  <code>within</code> can be used as an alternative\n",
       "to <code>transform</code>.\n",
       "</p>\n",
       "\n",
       "\n",
       "<h3>Value</h3>\n",
       "\n",
       "<p>For <code>with</code>, the value of the evaluated <code>expr</code>.  For\n",
       "<code>within</code>, the modified object.\n",
       "</p>\n",
       "\n",
       "\n",
       "<h3>Note</h3>\n",
       "\n",
       "<p>For <em>interactive</em> use this is very effective and nice to read.  For\n",
       "<em>programming</em> however, i.e., in one's functions, more care is\n",
       "needed, and typically one should refrain from using <code>with()</code>, as,\n",
       "e.g., variables in <code>data</code> may accidentally override local\n",
       "variables, see the reference.\n",
       "</p>\n",
       "<p>Further, when using modeling or graphics functions with an explicit\n",
       "<code>data</code> argument (and typically using <code>formula</code>s),\n",
       "it is typically preferred to use the <code>data</code> argument of that\n",
       "function rather than to use <code>with(data, ...)</code>.\n",
       "</p>\n",
       "\n",
       "\n",
       "<h3>References</h3>\n",
       "\n",
       "<p>Thomas Lumley (2003)  <em>Standard nonstandard evaluation rules</em>.\n",
       "<a href=\"http://developer.r-project.org/nonstandard-eval.pdf\">http://developer.r-project.org/nonstandard-eval.pdf</a>\n",
       "</p>\n",
       "\n",
       "\n",
       "<h3>See Also</h3>\n",
       "\n",
       "<p><code>evalq</code>, <code>attach</code>, <code>assign</code>,\n",
       "<code>transform</code>.\n",
       "</p>\n",
       "\n",
       "\n",
       "<h3>Examples</h3>\n",
       "\n",
       "<pre>\n",
       "with(mtcars, mpg[cyl == 8  &amp;  disp &gt; 350])\n",
       "    # is the same as, but nicer than\n",
       "mtcars$mpg[mtcars$cyl == 8  &amp;  mtcars$disp &gt; 350]\n",
       "\n",
       "require(stats); require(graphics)\n",
       "\n",
       "# examples from glm:\n",
       "with(data.frame(u = c(5,10,15,20,30,40,60,80,100),\n",
       "                lot1 = c(118,58,42,35,27,25,21,19,18),\n",
       "                lot2 = c(69,35,26,21,18,16,13,12,12)),\n",
       "    list(summary(glm(lot1 ~ log(u), family = Gamma)),\n",
       "         summary(glm(lot2 ~ log(u), family = Gamma))))\n",
       "\n",
       "aq &lt;- within(airquality, {     # Notice that multiple vars can be changed\n",
       "    lOzone &lt;- log(Ozone)\n",
       "    Month &lt;- factor(month.abb[Month])\n",
       "    cTemp &lt;- round((Temp - 32) * 5/9, 1) # From Fahrenheit to Celsius\n",
       "    S.cT &lt;- Solar.R / cTemp  # using the newly created variable\n",
       "    rm(Day, Temp)\n",
       "})\n",
       "head(aq)\n",
       "\n",
       "\n",
       "\n",
       "\n",
       "# example from boxplot:\n",
       "with(ToothGrowth, {\n",
       "    boxplot(len ~ dose, boxwex = 0.25, at = 1:3 - 0.2,\n",
       "            subset = (supp == \"VC\"), col = \"yellow\",\n",
       "            main = \"Guinea Pigs' Tooth Growth\",\n",
       "            xlab = \"Vitamin C dose mg\",\n",
       "            ylab = \"tooth length\", ylim = c(0, 35))\n",
       "    boxplot(len ~ dose, add = TRUE, boxwex = 0.25, at = 1:3 + 0.2,\n",
       "            subset = supp == \"OJ\", col = \"orange\")\n",
       "    legend(2, 9, c(\"Ascorbic acid\", \"Orange juice\"),\n",
       "           fill = c(\"yellow\", \"orange\"))\n",
       "})\n",
       "\n",
       "# alternate form that avoids subset argument:\n",
       "with(subset(ToothGrowth, supp == \"VC\"),\n",
       "     boxplot(len ~ dose, boxwex = 0.25, at = 1:3 - 0.2,\n",
       "             col = \"yellow\", main = \"Guinea Pigs' Tooth Growth\",\n",
       "             xlab = \"Vitamin C dose mg\",\n",
       "             ylab = \"tooth length\", ylim = c(0, 35)))\n",
       "with(subset(ToothGrowth,  supp == \"OJ\"),\n",
       "     boxplot(len ~ dose, add = TRUE, boxwex = 0.25, at = 1:3 + 0.2,\n",
       "             col = \"orange\"))\n",
       "legend(2, 9, c(\"Ascorbic acid\", \"Orange juice\"),\n",
       "       fill = c(\"yellow\", \"orange\"))\n",
       "</pre>\n",
       "\n",
       "<hr /><div style=\"text-align: center;\">[Package <em>base</em> version 3.6.3 ]</div>"
      ],
      "text/latex": [
       "\\inputencoding{utf8}\n",
       "\\HeaderA{with}{Evaluate an Expression in a Data Environment}{with}\n",
       "\\methaliasA{with.default}{with}{with.default}\n",
       "\\aliasA{within}{with}{within}\n",
       "\\methaliasA{within.data.frame}{with}{within.data.frame}\n",
       "\\methaliasA{within.list}{with}{within.list}\n",
       "\\keyword{data}{with}\n",
       "\\keyword{programming}{with}\n",
       "%\n",
       "\\begin{Description}\\relax\n",
       "Evaluate an \\R{} expression in an environment constructed from data,\n",
       "possibly modifying (a copy of) the original data.\n",
       "\\end{Description}\n",
       "%\n",
       "\\begin{Usage}\n",
       "\\begin{verbatim}\n",
       "with(data, expr, ...)\n",
       "within(data, expr, ...)\n",
       "## S3 method for class 'list'\n",
       "within(data, expr, keepAttrs = TRUE, ...)\n",
       "\\end{verbatim}\n",
       "\\end{Usage}\n",
       "%\n",
       "\\begin{Arguments}\n",
       "\\begin{ldescription}\n",
       "\\item[\\code{data}] data to use for constructing an environment. For the\n",
       "default \\code{with} method this may be an environment, a list, a\n",
       "data frame, or an integer as in \\code{sys.call}. For \\code{within},\n",
       "it can be a list or a data frame.\n",
       "\\item[\\code{expr}] expression to evaluate; particularly for \\code{within()}\n",
       "often a ``compound'' expression, i.e., of the form \\begin{alltt}   \\{\n",
       "     a <- somefun()\n",
       "     b <- otherfun()\n",
       "     .....\n",
       "     rm(unused1, temp)\n",
       "   \\}\n",
       "\\end{alltt}\n",
       "\n",
       "\\item[\\code{keepAttrs}] for the \\code{\\LinkA{list}{list}} method of \\code{within()},\n",
       "a \\code{\\LinkA{logical}{logical}} specifying if the resulting list should keep\n",
       "the \\code{\\LinkA{attributes}{attributes}} from \\code{data} and have its\n",
       "\\code{\\LinkA{names}{names}} in the same order.  Often this is unneeded as\n",
       "the result is a \\emph{named} list anyway, and then \\code{keepAttrs =\n",
       "      FALSE} is more efficient.\n",
       "\\item[\\code{...}] arguments to be passed to (future) methods.\n",
       "\\end{ldescription}\n",
       "\\end{Arguments}\n",
       "%\n",
       "\\begin{Details}\\relax\n",
       "\\code{with} is a generic function that evaluates \\code{expr} in a\n",
       "local environment constructed from \\code{data}.  The environment has\n",
       "the caller's environment as its parent.  This is useful for\n",
       "simplifying calls to modeling functions.  (Note: if \\code{data} is\n",
       "already an environment then this is used with its existing parent.)\n",
       "\n",
       "Note that assignments within \\code{expr} take place in the constructed\n",
       "environment and not in the user's workspace.\n",
       "\n",
       "\\code{within} is similar, except that it examines the environment\n",
       "after the evaluation of \\code{expr} and makes the corresponding\n",
       "modifications to a copy of \\code{data} (this may fail in the data\n",
       "frame case if objects are created which cannot be stored in a data\n",
       "frame), and returns it.  \\code{within} can be used as an alternative\n",
       "to \\code{transform}.\n",
       "\\end{Details}\n",
       "%\n",
       "\\begin{Value}\n",
       "For \\code{with}, the value of the evaluated \\code{expr}.  For\n",
       "\\code{within}, the modified object.\n",
       "\\end{Value}\n",
       "%\n",
       "\\begin{Note}\\relax\n",
       "For \\emph{interactive} use this is very effective and nice to read.  For\n",
       "\\emph{programming} however, i.e., in one's functions, more care is\n",
       "needed, and typically one should refrain from using \\code{with()}, as,\n",
       "e.g., variables in \\code{data} may accidentally override local\n",
       "variables, see the reference.\n",
       "\n",
       "Further, when using modeling or graphics functions with an explicit\n",
       "\\code{data} argument (and typically using \\code{\\LinkA{formula}{formula}}s),\n",
       "it is typically preferred to use the \\code{data} argument of that\n",
       "function rather than to use \\code{with(data, ...)}.\n",
       "\\end{Note}\n",
       "%\n",
       "\\begin{References}\\relax\n",
       "Thomas Lumley (2003)  \\emph{Standard nonstandard evaluation rules}.\n",
       "\\url{http://developer.r-project.org/nonstandard-eval.pdf}\n",
       "\\end{References}\n",
       "%\n",
       "\\begin{SeeAlso}\\relax\n",
       "\\code{\\LinkA{evalq}{evalq}}, \\code{\\LinkA{attach}{attach}}, \\code{\\LinkA{assign}{assign}},\n",
       "\\code{\\LinkA{transform}{transform}}.\n",
       "\\end{SeeAlso}\n",
       "%\n",
       "\\begin{Examples}\n",
       "\\begin{ExampleCode}\n",
       "with(mtcars, mpg[cyl == 8  &  disp > 350])\n",
       "    # is the same as, but nicer than\n",
       "mtcars$mpg[mtcars$cyl == 8  &  mtcars$disp > 350]\n",
       "\n",
       "require(stats); require(graphics)\n",
       "\n",
       "# examples from glm:\n",
       "with(data.frame(u = c(5,10,15,20,30,40,60,80,100),\n",
       "                lot1 = c(118,58,42,35,27,25,21,19,18),\n",
       "                lot2 = c(69,35,26,21,18,16,13,12,12)),\n",
       "    list(summary(glm(lot1 ~ log(u), family = Gamma)),\n",
       "         summary(glm(lot2 ~ log(u), family = Gamma))))\n",
       "\n",
       "aq <- within(airquality, {     # Notice that multiple vars can be changed\n",
       "    lOzone <- log(Ozone)\n",
       "    Month <- factor(month.abb[Month])\n",
       "    cTemp <- round((Temp - 32) * 5/9, 1) # From Fahrenheit to Celsius\n",
       "    S.cT <- Solar.R / cTemp  # using the newly created variable\n",
       "    rm(Day, Temp)\n",
       "})\n",
       "head(aq)\n",
       "\n",
       "\n",
       "\n",
       "\n",
       "# example from boxplot:\n",
       "with(ToothGrowth, {\n",
       "    boxplot(len ~ dose, boxwex = 0.25, at = 1:3 - 0.2,\n",
       "            subset = (supp == \"VC\"), col = \"yellow\",\n",
       "            main = \"Guinea Pigs' Tooth Growth\",\n",
       "            xlab = \"Vitamin C dose mg\",\n",
       "            ylab = \"tooth length\", ylim = c(0, 35))\n",
       "    boxplot(len ~ dose, add = TRUE, boxwex = 0.25, at = 1:3 + 0.2,\n",
       "            subset = supp == \"OJ\", col = \"orange\")\n",
       "    legend(2, 9, c(\"Ascorbic acid\", \"Orange juice\"),\n",
       "           fill = c(\"yellow\", \"orange\"))\n",
       "})\n",
       "\n",
       "# alternate form that avoids subset argument:\n",
       "with(subset(ToothGrowth, supp == \"VC\"),\n",
       "     boxplot(len ~ dose, boxwex = 0.25, at = 1:3 - 0.2,\n",
       "             col = \"yellow\", main = \"Guinea Pigs' Tooth Growth\",\n",
       "             xlab = \"Vitamin C dose mg\",\n",
       "             ylab = \"tooth length\", ylim = c(0, 35)))\n",
       "with(subset(ToothGrowth,  supp == \"OJ\"),\n",
       "     boxplot(len ~ dose, add = TRUE, boxwex = 0.25, at = 1:3 + 0.2,\n",
       "             col = \"orange\"))\n",
       "legend(2, 9, c(\"Ascorbic acid\", \"Orange juice\"),\n",
       "       fill = c(\"yellow\", \"orange\"))\n",
       "\\end{ExampleCode}\n",
       "\\end{Examples}"
      ],
      "text/plain": [
       "with                   package:base                    R Documentation\n",
       "\n",
       "_\bE_\bv_\ba_\bl_\bu_\ba_\bt_\be _\ba_\bn _\bE_\bx_\bp_\br_\be_\bs_\bs_\bi_\bo_\bn _\bi_\bn _\ba _\bD_\ba_\bt_\ba _\bE_\bn_\bv_\bi_\br_\bo_\bn_\bm_\be_\bn_\bt\n",
       "\n",
       "_\bD_\be_\bs_\bc_\br_\bi_\bp_\bt_\bi_\bo_\bn:\n",
       "\n",
       "     Evaluate an R expression in an environment constructed from data,\n",
       "     possibly modifying (a copy of) the original data.\n",
       "\n",
       "_\bU_\bs_\ba_\bg_\be:\n",
       "\n",
       "     with(data, expr, ...)\n",
       "     within(data, expr, ...)\n",
       "     ## S3 method for class 'list'\n",
       "     within(data, expr, keepAttrs = TRUE, ...)\n",
       "     \n",
       "_\bA_\br_\bg_\bu_\bm_\be_\bn_\bt_\bs:\n",
       "\n",
       "    data: data to use for constructing an environment. For the default\n",
       "          ‘with’ method this may be an environment, a list, a data\n",
       "          frame, or an integer as in ‘sys.call’. For ‘within’, it can\n",
       "          be a list or a data frame.\n",
       "\n",
       "    expr: expression to evaluate; particularly for ‘within()’ often a\n",
       "          “compound” expression, i.e., of the form\n",
       "          \n",
       "             {\n",
       "               a <- somefun()\n",
       "               b <- otherfun()\n",
       "               .....\n",
       "               rm(unused1, temp)\n",
       "             }\n",
       "\n",
       "keepAttrs: for the ‘list’ method of ‘within()’, a ‘logical’ specifying\n",
       "          if the resulting list should keep the ‘attributes’ from\n",
       "          ‘data’ and have its ‘names’ in the same order.  Often this is\n",
       "          unneeded as the result is a _named_ list anyway, and then\n",
       "          ‘keepAttrs = FALSE’ is more efficient.\n",
       "\n",
       "     ...: arguments to be passed to (future) methods.\n",
       "\n",
       "_\bD_\be_\bt_\ba_\bi_\bl_\bs:\n",
       "\n",
       "     ‘with’ is a generic function that evaluates ‘expr’ in a local\n",
       "     environment constructed from ‘data’.  The environment has the\n",
       "     caller's environment as its parent.  This is useful for\n",
       "     simplifying calls to modeling functions.  (Note: if ‘data’ is\n",
       "     already an environment then this is used with its existing\n",
       "     parent.)\n",
       "\n",
       "     Note that assignments within ‘expr’ take place in the constructed\n",
       "     environment and not in the user's workspace.\n",
       "\n",
       "     ‘within’ is similar, except that it examines the environment after\n",
       "     the evaluation of ‘expr’ and makes the corresponding modifications\n",
       "     to a copy of ‘data’ (this may fail in the data frame case if\n",
       "     objects are created which cannot be stored in a data frame), and\n",
       "     returns it.  ‘within’ can be used as an alternative to\n",
       "     ‘transform’.\n",
       "\n",
       "_\bV_\ba_\bl_\bu_\be:\n",
       "\n",
       "     For ‘with’, the value of the evaluated ‘expr’.  For ‘within’, the\n",
       "     modified object.\n",
       "\n",
       "_\bN_\bo_\bt_\be:\n",
       "\n",
       "     For _interactive_ use this is very effective and nice to read.\n",
       "     For _programming_ however, i.e., in one's functions, more care is\n",
       "     needed, and typically one should refrain from using ‘with()’, as,\n",
       "     e.g., variables in ‘data’ may accidentally override local\n",
       "     variables, see the reference.\n",
       "\n",
       "     Further, when using modeling or graphics functions with an\n",
       "     explicit ‘data’ argument (and typically using ‘formula’s), it is\n",
       "     typically preferred to use the ‘data’ argument of that function\n",
       "     rather than to use ‘with(data, ...)’.\n",
       "\n",
       "_\bR_\be_\bf_\be_\br_\be_\bn_\bc_\be_\bs:\n",
       "\n",
       "     Thomas Lumley (2003) _Standard nonstandard evaluation rules_.\n",
       "     <URL: http://developer.r-project.org/nonstandard-eval.pdf>\n",
       "\n",
       "_\bS_\be_\be _\bA_\bl_\bs_\bo:\n",
       "\n",
       "     ‘evalq’, ‘attach’, ‘assign’, ‘transform’.\n",
       "\n",
       "_\bE_\bx_\ba_\bm_\bp_\bl_\be_\bs:\n",
       "\n",
       "     with(mtcars, mpg[cyl == 8  &  disp > 350])\n",
       "         # is the same as, but nicer than\n",
       "     mtcars$mpg[mtcars$cyl == 8  &  mtcars$disp > 350]\n",
       "     \n",
       "     require(stats); require(graphics)\n",
       "     \n",
       "     # examples from glm:\n",
       "     with(data.frame(u = c(5,10,15,20,30,40,60,80,100),\n",
       "                     lot1 = c(118,58,42,35,27,25,21,19,18),\n",
       "                     lot2 = c(69,35,26,21,18,16,13,12,12)),\n",
       "         list(summary(glm(lot1 ~ log(u), family = Gamma)),\n",
       "              summary(glm(lot2 ~ log(u), family = Gamma))))\n",
       "     \n",
       "     aq <- within(airquality, {     # Notice that multiple vars can be changed\n",
       "         lOzone <- log(Ozone)\n",
       "         Month <- factor(month.abb[Month])\n",
       "         cTemp <- round((Temp - 32) * 5/9, 1) # From Fahrenheit to Celsius\n",
       "         S.cT <- Solar.R / cTemp  # using the newly created variable\n",
       "         rm(Day, Temp)\n",
       "     })\n",
       "     head(aq)\n",
       "     \n",
       "     \n",
       "     \n",
       "     \n",
       "     # example from boxplot:\n",
       "     with(ToothGrowth, {\n",
       "         boxplot(len ~ dose, boxwex = 0.25, at = 1:3 - 0.2,\n",
       "                 subset = (supp == \"VC\"), col = \"yellow\",\n",
       "                 main = \"Guinea Pigs' Tooth Growth\",\n",
       "                 xlab = \"Vitamin C dose mg\",\n",
       "                 ylab = \"tooth length\", ylim = c(0, 35))\n",
       "         boxplot(len ~ dose, add = TRUE, boxwex = 0.25, at = 1:3 + 0.2,\n",
       "                 subset = supp == \"OJ\", col = \"orange\")\n",
       "         legend(2, 9, c(\"Ascorbic acid\", \"Orange juice\"),\n",
       "                fill = c(\"yellow\", \"orange\"))\n",
       "     })\n",
       "     \n",
       "     # alternate form that avoids subset argument:\n",
       "     with(subset(ToothGrowth, supp == \"VC\"),\n",
       "          boxplot(len ~ dose, boxwex = 0.25, at = 1:3 - 0.2,\n",
       "                  col = \"yellow\", main = \"Guinea Pigs' Tooth Growth\",\n",
       "                  xlab = \"Vitamin C dose mg\",\n",
       "                  ylab = \"tooth length\", ylim = c(0, 35)))\n",
       "     with(subset(ToothGrowth,  supp == \"OJ\"),\n",
       "          boxplot(len ~ dose, add = TRUE, boxwex = 0.25, at = 1:3 + 0.2,\n",
       "                  col = \"orange\"))\n",
       "     legend(2, 9, c(\"Ascorbic acid\", \"Orange juice\"),\n",
       "            fill = c(\"yellow\", \"orange\"))\n",
       "     "
      ]
     },
     "metadata": {},
     "output_type": "display_data"
    }
   ],
   "source": [
    "?with"
   ]
  },
  {
   "cell_type": "markdown",
   "id": "4a3bc8c1-62f8-4d06-b005-2bb17b0c5072",
   "metadata": {},
   "source": [
    "- 3. add the first 10 digits of e to the first 10 digits of pi"
   ]
  },
  {
   "cell_type": "code",
   "execution_count": 5,
   "id": "442f6d05-c41e-4f6c-9279-39058887a210",
   "metadata": {},
   "outputs": [
    {
     "data": {
      "text/html": [
       "2.71828182845905"
      ],
      "text/latex": [
       "2.71828182845905"
      ],
      "text/markdown": [
       "2.71828182845905"
      ],
      "text/plain": [
       "[1] 2.718282"
      ]
     },
     "metadata": {},
     "output_type": "display_data"
    },
    {
     "data": {
      "text/html": [
       "3.14159265358979"
      ],
      "text/latex": [
       "3.14159265358979"
      ],
      "text/markdown": [
       "3.14159265358979"
      ],
      "text/plain": [
       "[1] 3.141593"
      ]
     },
     "metadata": {},
     "output_type": "display_data"
    },
    {
     "data": {
      "text/html": [
       "<style>\n",
       ".list-inline {list-style: none; margin:0; padding: 0}\n",
       ".list-inline>li {display: inline-block}\n",
       ".list-inline>li:not(:last-child)::after {content: \"\\00b7\"; padding: 0 .5ex}\n",
       "</style>\n",
       "<ol class=list-inline><li>5</li><li>8</li><li>5</li><li>9</li><li>7</li><li>17</li><li>3</li><li>14</li><li>7</li><li>11</li></ol>\n"
      ],
      "text/latex": [
       "\\begin{enumerate*}\n",
       "\\item 5\n",
       "\\item 8\n",
       "\\item 5\n",
       "\\item 9\n",
       "\\item 7\n",
       "\\item 17\n",
       "\\item 3\n",
       "\\item 14\n",
       "\\item 7\n",
       "\\item 11\n",
       "\\end{enumerate*}\n"
      ],
      "text/markdown": [
       "1. 5\n",
       "2. 8\n",
       "3. 5\n",
       "4. 9\n",
       "5. 7\n",
       "6. 17\n",
       "7. 3\n",
       "8. 14\n",
       "9. 7\n",
       "10. 11\n",
       "\n",
       "\n"
      ],
      "text/plain": [
       " [1]  5  8  5  9  7 17  3 14  7 11"
      ]
     },
     "metadata": {},
     "output_type": "display_data"
    }
   ],
   "source": [
    "x <- c(2, 7, 1, 8, 2, 8, 1, 8, 2, 8)\n",
    "exp(1)\n",
    "y <- c(3, 1, 4, 1, 5, 9, 2, 6, 5, 3)\n",
    "pi\n",
    "x + y"
   ]
  },
  {
   "cell_type": "markdown",
   "id": "a8015d89-730b-482c-b75a-c874bce93920",
   "metadata": {},
   "source": [
    "- 4. create variables x, y, z with values 1, 2, 3 respectively. What objects are in the environment? Delete y from the environment and check that it's deleted. Delete all elements from environment and check that they're deleted."
   ]
  },
  {
   "cell_type": "code",
   "execution_count": 6,
   "id": "99e1ead2-763d-48af-86f1-6edf5a8143ce",
   "metadata": {},
   "outputs": [
    {
     "data": {
      "text/html": [
       "<style>\n",
       ".list-inline {list-style: none; margin:0; padding: 0}\n",
       ".list-inline>li {display: inline-block}\n",
       ".list-inline>li:not(:last-child)::after {content: \"\\00b7\"; padding: 0 .5ex}\n",
       "</style>\n",
       "<ol class=list-inline><li>'x'</li><li>'y'</li><li>'z'</li></ol>\n"
      ],
      "text/latex": [
       "\\begin{enumerate*}\n",
       "\\item 'x'\n",
       "\\item 'y'\n",
       "\\item 'z'\n",
       "\\end{enumerate*}\n"
      ],
      "text/markdown": [
       "1. 'x'\n",
       "2. 'y'\n",
       "3. 'z'\n",
       "\n",
       "\n"
      ],
      "text/plain": [
       "[1] \"x\" \"y\" \"z\""
      ]
     },
     "metadata": {},
     "output_type": "display_data"
    }
   ],
   "source": [
    "x <- 1\n",
    "y <- 2\n",
    "z <- 3\n",
    "\n",
    "ls()"
   ]
  },
  {
   "cell_type": "code",
   "execution_count": 7,
   "id": "92beba49-48fa-4326-8ab1-c25c2a44ea22",
   "metadata": {},
   "outputs": [
    {
     "data": {
      "text/html": [
       "<style>\n",
       ".list-inline {list-style: none; margin:0; padding: 0}\n",
       ".list-inline>li {display: inline-block}\n",
       ".list-inline>li:not(:last-child)::after {content: \"\\00b7\"; padding: 0 .5ex}\n",
       "</style>\n",
       "<ol class=list-inline><li>'x'</li><li>'z'</li></ol>\n"
      ],
      "text/latex": [
       "\\begin{enumerate*}\n",
       "\\item 'x'\n",
       "\\item 'z'\n",
       "\\end{enumerate*}\n"
      ],
      "text/markdown": [
       "1. 'x'\n",
       "2. 'z'\n",
       "\n",
       "\n"
      ],
      "text/plain": [
       "[1] \"x\" \"z\""
      ]
     },
     "metadata": {},
     "output_type": "display_data"
    }
   ],
   "source": [
    "rm(y)\n",
    "ls()"
   ]
  },
  {
   "cell_type": "code",
   "execution_count": 8,
   "id": "b97a84c2-3d36-46c4-afad-c565d1cef0b9",
   "metadata": {},
   "outputs": [
    {
     "data": {
      "text/html": [],
      "text/latex": [],
      "text/markdown": [],
      "text/plain": [
       "character(0)"
      ]
     },
     "metadata": {},
     "output_type": "display_data"
    }
   ],
   "source": [
    "rm(list = ls())\n",
    "ls()"
   ]
  },
  {
   "cell_type": "code",
   "execution_count": null,
   "id": "a1ff2a61-8801-4a53-b676-a3f67684858e",
   "metadata": {},
   "outputs": [],
   "source": []
  }
 ],
 "metadata": {
  "kernelspec": {
   "display_name": "R",
   "language": "R",
   "name": "ir"
  },
  "language_info": {
   "codemirror_mode": "r",
   "file_extension": ".r",
   "mimetype": "text/x-r-source",
   "name": "R",
   "pygments_lexer": "r",
   "version": "3.6.3"
  }
 },
 "nbformat": 4,
 "nbformat_minor": 5
}
