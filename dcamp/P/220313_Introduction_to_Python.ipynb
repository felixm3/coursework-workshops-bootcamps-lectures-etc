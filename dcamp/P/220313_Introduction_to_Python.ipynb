{
 "cells": [
  {
   "cell_type": "markdown",
   "id": "db5c965e-6916-43ed-ac78-3da4905f11a7",
   "metadata": {},
   "source": [
    "# 220313 Introduction to Python"
   ]
  },
  {
   "cell_type": "code",
   "execution_count": 1,
   "id": "d5ae3608-05b4-4545-855d-049bfe917f8e",
   "metadata": {},
   "outputs": [
    {
     "data": {
      "text/plain": [
       "12"
      ]
     },
     "execution_count": 1,
     "metadata": {},
     "output_type": "execute_result"
    }
   ],
   "source": [
    "# comments start with hashtag #\n",
    "# Python as a calculator\n",
    "\n",
    "7 + 5"
   ]
  },
  {
   "cell_type": "code",
   "execution_count": 2,
   "id": "21789ba5-9958-4942-9fbe-0a4f162c27e4",
   "metadata": {},
   "outputs": [
    {
     "name": "stdout",
     "output_type": "stream",
     "text": [
      "1.75\n"
     ]
    }
   ],
   "source": [
    "# print function (useful for debugging)\n",
    "\n",
    "print(7/4)"
   ]
  },
  {
   "cell_type": "code",
   "execution_count": 3,
   "id": "6a9e739e-5718-4786-b17d-ae1d0d8c6dc3",
   "metadata": {},
   "outputs": [
    {
     "data": {
      "text/plain": [
       "0.6666666666666666"
      ]
     },
     "execution_count": 3,
     "metadata": {},
     "output_type": "execute_result"
    }
   ],
   "source": [
    "# Python as a calculator\n",
    "# If you don't use print function, only last calculation is printed\n",
    "\n",
    "7 + 4\n",
    "2/3"
   ]
  },
  {
   "cell_type": "code",
   "execution_count": 4,
   "id": "446fa554-b293-4e12-bc91-e671e3c38b97",
   "metadata": {},
   "outputs": [
    {
     "name": "stdout",
     "output_type": "stream",
     "text": [
      "11\n",
      "0.6666666666666666\n",
      "6\n",
      "8\n",
      "2\n"
     ]
    }
   ],
   "source": [
    "# Python as a calculator\n",
    "\n",
    "print(7+4)\n",
    "print(2/3)\n",
    "print(2*3)\n",
    "print(2**3) # exponentiation\n",
    "print(2%3) # modulo (remainder)\n",
    "\n",
    "# See PEP8 Python style guide sections on spaces around operators https://peps.python.org/pep-0008/"
   ]
  },
  {
   "cell_type": "code",
   "execution_count": 5,
   "id": "547fe265-4a65-4964-8464-f8804bb802e0",
   "metadata": {},
   "outputs": [
    {
     "name": "stdout",
     "output_type": "stream",
     "text": [
      "3.6.9 |Intel Corporation| (default, Sep 11 2019, 16:40:08) \n",
      "[GCC 4.8.2 20140120 (Red Hat 4.8.2-15)]\n",
      "sys.version_info(major=3, minor=6, micro=9, releaselevel='final', serial=0)\n"
     ]
    }
   ],
   "source": [
    "# what version of Python do I have?\n",
    "# using import statement to gain access to Python modules/packages\n",
    "\n",
    "import sys\n",
    "print(sys.version)\n",
    "print(sys.version_info)\n",
    "\n"
   ]
  },
  {
   "cell_type": "code",
   "execution_count": null,
   "id": "49ea046c-ce4b-43b8-ab27-76b9cc4e526f",
   "metadata": {},
   "outputs": [],
   "source": []
  }
 ],
 "metadata": {
  "kernelspec": {
   "display_name": "Python3 (base)",
   "language": "python",
   "name": "base"
  },
  "language_info": {
   "codemirror_mode": {
    "name": "ipython",
    "version": 3
   },
   "file_extension": ".py",
   "mimetype": "text/x-python",
   "name": "python",
   "nbconvert_exporter": "python",
   "pygments_lexer": "ipython3",
   "version": "3.6.9"
  }
 },
 "nbformat": 4,
 "nbformat_minor": 5
}
