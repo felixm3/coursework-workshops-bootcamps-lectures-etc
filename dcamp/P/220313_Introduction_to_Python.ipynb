{
 "cells": [
  {
   "cell_type": "markdown",
   "id": "db5c965e-6916-43ed-ac78-3da4905f11a7",
   "metadata": {},
   "source": [
    "# 220313 Introduction to Python"
   ]
  },
  {
   "cell_type": "code",
   "execution_count": 1,
   "id": "d5ae3608-05b4-4545-855d-049bfe917f8e",
   "metadata": {},
   "outputs": [
    {
     "data": {
      "text/plain": [
       "12"
      ]
     },
     "execution_count": 1,
     "metadata": {},
     "output_type": "execute_result"
    }
   ],
   "source": [
    "# comments start with hashtag #\n",
    "# Python as a calculator\n",
    "\n",
    "7 + 5"
   ]
  },
  {
   "cell_type": "code",
   "execution_count": 2,
   "id": "21789ba5-9958-4942-9fbe-0a4f162c27e4",
   "metadata": {},
   "outputs": [
    {
     "name": "stdout",
     "output_type": "stream",
     "text": [
      "1.75\n"
     ]
    }
   ],
   "source": [
    "# print function (useful for debugging)\n",
    "\n",
    "print(7/4)"
   ]
  },
  {
   "cell_type": "code",
   "execution_count": 3,
   "id": "6a9e739e-5718-4786-b17d-ae1d0d8c6dc3",
   "metadata": {},
   "outputs": [
    {
     "data": {
      "text/plain": [
       "0.6666666666666666"
      ]
     },
     "execution_count": 3,
     "metadata": {},
     "output_type": "execute_result"
    }
   ],
   "source": [
    "# Python as a calculator\n",
    "# If you don't use print function, only last calculation is printed\n",
    "\n",
    "7 + 4\n",
    "2/3"
   ]
  },
  {
   "cell_type": "code",
   "execution_count": 4,
   "id": "446fa554-b293-4e12-bc91-e671e3c38b97",
   "metadata": {},
   "outputs": [
    {
     "name": "stdout",
     "output_type": "stream",
     "text": [
      "11\n",
      "0.6666666666666666\n",
      "6\n",
      "8\n",
      "2\n"
     ]
    }
   ],
   "source": [
    "# Python as a calculator\n",
    "\n",
    "print(7+4)\n",
    "print(2/3)\n",
    "print(2*3)\n",
    "print(2**3) # exponentiation\n",
    "print(2%3) # modulo (remainder)\n",
    "\n",
    "# See PEP8 Python style guide sections on spaces around operators https://peps.python.org/pep-0008/"
   ]
  },
  {
   "cell_type": "code",
   "execution_count": 5,
   "id": "547fe265-4a65-4964-8464-f8804bb802e0",
   "metadata": {},
   "outputs": [
    {
     "name": "stdout",
     "output_type": "stream",
     "text": [
      "3.9.7 | packaged by conda-forge | (default, Sep 29 2021, 20:33:18) \n",
      "[Clang 11.1.0 ]\n",
      "sys.version_info(major=3, minor=9, micro=7, releaselevel='final', serial=0)\n"
     ]
    }
   ],
   "source": [
    "# what version of Python do I have?\n",
    "# using import statement to gain access to Python modules/packages\n",
    "\n",
    "import sys\n",
    "print(sys.version)\n",
    "print(sys.version_info)\n",
    "\n"
   ]
  },
  {
   "cell_type": "code",
   "execution_count": 6,
   "id": "49ea046c-ce4b-43b8-ab27-76b9cc4e526f",
   "metadata": {},
   "outputs": [
    {
     "name": "stdout",
     "output_type": "stream",
     "text": [
      "3\n"
     ]
    }
   ],
   "source": [
    "# Variable assignment\n",
    "\n",
    "x = 3\n",
    "print(x)"
   ]
  },
  {
   "cell_type": "code",
   "execution_count": 7,
   "id": "e1fa7393-eb6f-4f3e-a67e-45bc47b4f9bc",
   "metadata": {},
   "outputs": [
    {
     "name": "stdout",
     "output_type": "stream",
     "text": [
      "6\n",
      "9\n",
      "1\n"
     ]
    }
   ],
   "source": [
    "# Calculations with variables\n",
    "\n",
    "print(x*2)\n",
    "print(x**2)\n",
    "print(x%2)"
   ]
  },
  {
   "cell_type": "code",
   "execution_count": 8,
   "id": "fc48a62f-9780-42d6-bb34-bd3cbe16488c",
   "metadata": {},
   "outputs": [
    {
     "name": "stdout",
     "output_type": "stream",
     "text": [
      "<class 'int'>\n",
      "<class 'float'>\n",
      "<class 'str'>\n",
      "<class 'bool'>\n"
     ]
    }
   ],
   "source": [
    "# Variable types\n",
    "\n",
    "x = 3\n",
    "print(type(x)) # integer\n",
    "\n",
    "y = 3.14\n",
    "print(type(y)) # float\n",
    "\n",
    "z = 'hello world'\n",
    "print(type(z)) # string\n",
    "\n",
    "w = False\n",
    "print(type(w)) # boolean"
   ]
  },
  {
   "cell_type": "code",
   "execution_count": 9,
   "id": "b301e360-f919-4748-b981-0c37e49ad83c",
   "metadata": {},
   "outputs": [
    {
     "name": "stdout",
     "output_type": "stream",
     "text": [
      "6\n",
      "6.28\n",
      "hello worldhello world\n",
      "0\n"
     ]
    }
   ],
   "source": [
    "# Same operation can behave differently on different variable types\n",
    "\n",
    "print(x + x)\n",
    "print(y + y)\n",
    "print(z + z) # pastes/concatenates the two strings\n",
    "print(w + w)"
   ]
  },
  {
   "cell_type": "code",
   "execution_count": 10,
   "id": "876cd68a-6981-41ee-8be8-5e3837d19dc2",
   "metadata": {},
   "outputs": [
    {
     "data": {
      "text/plain": [
       "'hello world3'"
      ]
     },
     "execution_count": 10,
     "metadata": {},
     "output_type": "execute_result"
    }
   ],
   "source": [
    "# To paste string and int/float, need to convert type\n",
    "\n",
    "# z + x ## Error message: TypeError: must be str, not int\n",
    "\n",
    "z + str(x) # converts type of x to str, see also int(), float(), bool()"
   ]
  },
  {
   "cell_type": "code",
   "execution_count": 11,
   "id": "771a6538-4408-4e6f-8256-c3adf8f7038d",
   "metadata": {},
   "outputs": [
    {
     "name": "stdout",
     "output_type": "stream",
     "text": [
      "2.7182.718\n",
      "<class 'str'>\n",
      "5.436\n"
     ]
    }
   ],
   "source": [
    "# convert string to float\n",
    "\n",
    "w = '2.718'\n",
    "print(2*w)\n",
    "print(type(w))\n",
    "print(2*float(w))"
   ]
  },
  {
   "cell_type": "code",
   "execution_count": 12,
   "id": "ca69451f-0a75-4239-90f8-b7017d5cd660",
   "metadata": {},
   "outputs": [
    {
     "name": "stdout",
     "output_type": "stream",
     "text": [
      "['hello', 42, 'hello world', 7, True, 2.718]\n"
     ]
    },
    {
     "data": {
      "text/plain": [
       "list"
      ]
     },
     "execution_count": 12,
     "metadata": {},
     "output_type": "execute_result"
    }
   ],
   "source": [
    "# Lists\n",
    "\n",
    "x = 42\n",
    "a = ['hello', x, 'hello world', 7, True, 2.718]\n",
    "print(a)\n",
    "type(a)"
   ]
  },
  {
   "cell_type": "code",
   "execution_count": 13,
   "id": "fb583c89-a0a1-4489-95fb-4439a4a401a5",
   "metadata": {},
   "outputs": [
    {
     "name": "stdout",
     "output_type": "stream",
     "text": [
      "[['0th', 2], ['1st', 1], ['2nd', 7]]\n",
      "<class 'list'>\n"
     ]
    }
   ],
   "source": [
    "# List of lists\n",
    "\n",
    "x = [['0th', 2], \n",
    "    ['1st', 1], \n",
    "    ['2nd', 7]]\n",
    "print(x)\n",
    "print(type(x))"
   ]
  },
  {
   "cell_type": "code",
   "execution_count": 14,
   "id": "33e68dda-096c-4ce7-8d6f-5b8b46a711d7",
   "metadata": {},
   "outputs": [
    {
     "name": "stdout",
     "output_type": "stream",
     "text": [
      "[['1st', 2], ['2nd', 1], ['3rd', 7], ['4th', 8]]\n",
      "\n",
      "['2nd', 1]\n",
      "\n",
      "['4th', 8]\n",
      "\n"
     ]
    }
   ],
   "source": [
    "# Subsetting lists\n",
    "\n",
    "x = [['1st', 2], \n",
    "    ['2nd', 1], \n",
    "    ['3rd', 7], \n",
    "    ['4th', 8]]\n",
    "print(x)\n",
    "print('')\n",
    "\n",
    "print(x[1]) # Python uses zero-based array indexing\n",
    "print('')\n",
    "\n",
    "print(x[-1]) # negative indexing\n",
    "print('')"
   ]
  },
  {
   "cell_type": "code",
   "execution_count": 15,
   "id": "c5513227-61ad-45b1-8b08-78f6cc23cf3b",
   "metadata": {},
   "outputs": [
    {
     "name": "stdout",
     "output_type": "stream",
     "text": [
      "2\n",
      "8\n"
     ]
    },
    {
     "data": {
      "text/plain": [
       "10"
      ]
     },
     "execution_count": 15,
     "metadata": {},
     "output_type": "execute_result"
    }
   ],
   "source": [
    "# Subsetting lists\n",
    "\n",
    "print(x[0][1])\n",
    "print(x[-1][1])\n",
    "x[0][1] + x[-1][1]"
   ]
  },
  {
   "cell_type": "code",
   "execution_count": 16,
   "id": "934c0019-9504-4912-a2aa-89a5a7a6a2c5",
   "metadata": {},
   "outputs": [
    {
     "name": "stdout",
     "output_type": "stream",
     "text": [
      "[2, 7]\n",
      "<class 'list'>\n",
      "[2]\n",
      "<class 'list'>\n",
      "2\n",
      "<class 'int'>\n"
     ]
    }
   ],
   "source": [
    "# Subsetting lists: slicing\n",
    "\n",
    "x = [2, 7, 1, 8]\n",
    "\n",
    "print(x[0:2])\n",
    "\n",
    "print(type(x[0:2]))\n",
    "\n",
    "print(x[0:1])\n",
    "print(type(x[0:1]))\n",
    "\n",
    "print(x[0])\n",
    "print(type(x[0]))"
   ]
  },
  {
   "cell_type": "code",
   "execution_count": 17,
   "id": "287ce621-24e3-4b5c-8b6f-1f4562dc31b3",
   "metadata": {},
   "outputs": [
    {
     "name": "stdout",
     "output_type": "stream",
     "text": [
      "[2, 7, 1, 8]\n",
      "[2, 7]\n",
      "[7, 1, 8]\n"
     ]
    }
   ],
   "source": [
    "# Subsetting lists: slicing\n",
    "\n",
    "print(x)\n",
    "\n",
    "print(x[:2]) # first two elements\n",
    "\n",
    "print(x[-3:]) # last three elements\n",
    "\n",
    "# See PEP8 Python style guide sections on spaces around operators https://peps.python.org/pep-0008/"
   ]
  },
  {
   "cell_type": "code",
   "execution_count": 18,
   "id": "7b1c24dd-b325-4ef8-a499-b0d18f043853",
   "metadata": {},
   "outputs": [
    {
     "name": "stdout",
     "output_type": "stream",
     "text": [
      "[2, 7, 1, 8]\n",
      "\n",
      "[2, 6, 1, 8]\n",
      "\n",
      "[2, 6, 3, 9]\n",
      "\n"
     ]
    }
   ],
   "source": [
    "# replace list elements\n",
    "\n",
    "x = [2, 7, 1, 8]\n",
    "print(x)\n",
    "print('')\n",
    "\n",
    "x[1] = 6 # replace 2nd element\n",
    "print(x)\n",
    "print('')\n",
    "\n",
    "x[-2:] = [3, 9] # replace the last 2 elements\n",
    "print(x)\n",
    "print('')"
   ]
  },
  {
   "cell_type": "code",
   "execution_count": 19,
   "id": "d0922850-c7cf-4ee4-b40b-b8b473ff36dc",
   "metadata": {},
   "outputs": [
    {
     "name": "stdout",
     "output_type": "stream",
     "text": [
      "[2, 7, 1, 8]\n",
      "\n"
     ]
    },
    {
     "data": {
      "text/plain": [
       "[2, 7, 1, 8, 2, 8]"
      ]
     },
     "execution_count": 19,
     "metadata": {},
     "output_type": "execute_result"
    }
   ],
   "source": [
    "# extend (add elements to) a list\n",
    "\n",
    "x = [2, 7, 1, 8]\n",
    "print(x)\n",
    "print('')\n",
    "\n",
    "x + [2, 8]"
   ]
  },
  {
   "cell_type": "code",
   "execution_count": 20,
   "id": "b3764943-e2dc-49d2-a168-bccaa392f10a",
   "metadata": {},
   "outputs": [
    {
     "data": {
      "text/plain": [
       "3"
      ]
     },
     "execution_count": 20,
     "metadata": {},
     "output_type": "execute_result"
    }
   ],
   "source": [
    "# access previous output/result of last evaluation\n",
    "\n",
    "1 + 2"
   ]
  },
  {
   "cell_type": "code",
   "execution_count": 21,
   "id": "8fe8f617-276b-4752-b146-61096033c93c",
   "metadata": {},
   "outputs": [
    {
     "data": {
      "text/plain": [
       "7"
      ]
     },
     "execution_count": 21,
     "metadata": {},
     "output_type": "execute_result"
    }
   ],
   "source": [
    "# access previous output/result of last evaluation\n",
    "\n",
    "4 + _"
   ]
  },
  {
   "cell_type": "code",
   "execution_count": 22,
   "id": "1bbe5c5a-bee9-4b6f-8b33-f27533b7f3c2",
   "metadata": {},
   "outputs": [
    {
     "data": {
      "text/plain": [
       "11"
      ]
     },
     "execution_count": 22,
     "metadata": {},
     "output_type": "execute_result"
    }
   ],
   "source": [
    "# access previous output/result of last evaluation\n",
    "\n",
    "8 + _20 # in a jupyter shell you can also access previous outputs by their number e.g. [20] would be _20"
   ]
  },
  {
   "cell_type": "code",
   "execution_count": 23,
   "id": "20add82b-d11c-4b98-af1b-c2bb54cc0e6e",
   "metadata": {},
   "outputs": [
    {
     "name": "stdout",
     "output_type": "stream",
     "text": [
      "[2, 7, 1, 8]\n",
      "\n",
      "[2, 1, 8]\n",
      "\n",
      "[2, 1]\n",
      "\n"
     ]
    }
   ],
   "source": [
    "# delete list elements\n",
    "\n",
    "x = [2, 7, 1, 8]\n",
    "print(x)\n",
    "print('')\n",
    "\n",
    "del(x[1])\n",
    "print(x)\n",
    "print('')\n",
    "\n",
    "del(x[-1])\n",
    "print(x)\n",
    "print('')"
   ]
  },
  {
   "cell_type": "code",
   "execution_count": 24,
   "id": "d4e1a561-61e6-4446-a6e7-8a46eb1098aa",
   "metadata": {},
   "outputs": [
    {
     "name": "stdout",
     "output_type": "stream",
     "text": [
      "[2, 7, 1, 8]\n",
      "\n",
      "[2, 7, 1, 8]\n",
      "\n",
      "[2, 7, 1]\n",
      "\n",
      "[2, 7, 1]\n",
      "\n"
     ]
    }
   ],
   "source": [
    "# copying lists (shallow vs deep?)\n",
    "\n",
    "x = [2, 7, 1, 8]\n",
    "print(x)\n",
    "print('')\n",
    "\n",
    "x_copy = x\n",
    "print(x_copy)\n",
    "print('')\n",
    "\n",
    "del(x_copy[-1])\n",
    "print(x_copy)\n",
    "print('')\n",
    "\n",
    "print(x)\n",
    "print('')\n",
    "\n",
    "# changing x_copy also changes x"
   ]
  },
  {
   "cell_type": "code",
   "execution_count": 25,
   "id": "71b7e58e-4764-45ae-b753-373505ae190c",
   "metadata": {},
   "outputs": [
    {
     "name": "stdout",
     "output_type": "stream",
     "text": [
      "[2, 7, 1, 8]\n",
      "\n",
      "[2, 7, 1, 8]\n",
      "\n",
      "[2, 7, 1]\n",
      "\n",
      "[2, 7, 1, 8]\n",
      "\n"
     ]
    }
   ],
   "source": [
    "# copying lists (shallow vs deep?)\n",
    "\n",
    "x = [2, 7, 1, 8]\n",
    "print(x)\n",
    "print('')\n",
    "\n",
    "x_copy = x[:] # copy using slicing\n",
    "print(x_copy)\n",
    "print('')\n",
    "\n",
    "del(x_copy[-1])\n",
    "print(x_copy)\n",
    "print('')\n",
    "\n",
    "print(x)\n",
    "print('')\n",
    "\n",
    "# changing x_copy does NOT change x"
   ]
  },
  {
   "cell_type": "code",
   "execution_count": 26,
   "id": "fbe39fa7-62bf-4606-b127-2e0558b1df84",
   "metadata": {},
   "outputs": [],
   "source": [
    "# https://campus.datacamp.com/courses/intro-to-python-for-data-science/chapter-3-functions-and-packages?ex=1\n",
    "# https://stackoverflow.com/questions/4794244/how-can-i-create-a-copy-of-an-object-in-python"
   ]
  },
  {
   "cell_type": "code",
   "execution_count": 27,
   "id": "bd2da95e-9ec9-41ca-b89b-d4036635441c",
   "metadata": {},
   "outputs": [
    {
     "name": "stdout",
     "output_type": "stream",
     "text": [
      "[2, 7, 1, 8]\n",
      "\n",
      "8\n",
      "\n"
     ]
    }
   ],
   "source": [
    "# Functions\n",
    "\n",
    "x = [2, 7, 1, 8]\n",
    "print(x)\n",
    "print('')\n",
    "\n",
    "print(max(x))\n",
    "print('')"
   ]
  },
  {
   "cell_type": "code",
   "execution_count": 28,
   "id": "c6aff393-cbbc-4ab1-bf6c-d6e87c79bc7c",
   "metadata": {},
   "outputs": [
    {
     "name": "stdout",
     "output_type": "stream",
     "text": [
      "2.718\n",
      "\n",
      "2.72\n",
      "\n",
      "3\n",
      "\n"
     ]
    }
   ],
   "source": [
    "# Functions\n",
    "\n",
    "x = 2.718\n",
    "print(x)\n",
    "print('')\n",
    "\n",
    "print(round(x, 2))\n",
    "print('')\n",
    "\n",
    "print(round(x))\n",
    "print('')"
   ]
  },
  {
   "cell_type": "code",
   "execution_count": 29,
   "id": "397da754-5744-439a-b339-0b12440985a1",
   "metadata": {},
   "outputs": [
    {
     "name": "stdout",
     "output_type": "stream",
     "text": [
      "Help on built-in function round in module builtins:\n",
      "\n",
      "round(number, ndigits=None)\n",
      "    Round a number to a given precision in decimal digits.\n",
      "    \n",
      "    The return value is an integer if ndigits is omitted or None.  Otherwise\n",
      "    the return value has the same type as the number.  ndigits may be negative.\n",
      "\n"
     ]
    }
   ],
   "source": [
    "# Get help on a function\n",
    "\n",
    "help(round)"
   ]
  },
  {
   "cell_type": "code",
   "execution_count": 30,
   "id": "76234c6d-b301-4e2e-9463-a9de105b01b5",
   "metadata": {},
   "outputs": [
    {
     "name": "stdout",
     "output_type": "stream",
     "text": [
      "2.718\n",
      "\n",
      "0.0\n",
      "\n"
     ]
    }
   ],
   "source": [
    "# function round with negative ndigits\n",
    "\n",
    "x = 2.718\n",
    "print(x)\n",
    "print('')\n",
    "\n",
    "print(round(x, -1))\n",
    "print('')"
   ]
  },
  {
   "cell_type": "code",
   "execution_count": 31,
   "id": "16c20825-2ac2-4be1-8b24-43c480bef06f",
   "metadata": {},
   "outputs": [
    {
     "name": "stdout",
     "output_type": "stream",
     "text": [
      "[2, 7, 1, 8]\n",
      "\n"
     ]
    },
    {
     "data": {
      "text/plain": [
       "4"
      ]
     },
     "execution_count": 31,
     "metadata": {},
     "output_type": "execute_result"
    }
   ],
   "source": [
    "# get length of a list\n",
    "\n",
    "x = [2, 7, 1, 8]\n",
    "print(x)\n",
    "print('')\n",
    "\n",
    "len(x)"
   ]
  },
  {
   "cell_type": "code",
   "execution_count": 32,
   "id": "2e44442c-d153-4490-9506-ee1c76b6b669",
   "metadata": {
    "tags": []
   },
   "outputs": [
    {
     "name": "stdout",
     "output_type": "stream",
     "text": [
      "Help on built-in function sorted in module builtins:\n",
      "\n",
      "sorted(iterable, /, *, key=None, reverse=False)\n",
      "    Return a new list containing all items from the iterable in ascending order.\n",
      "    \n",
      "    A custom key function can be supplied to customize the sort order, and the\n",
      "    reverse flag can be set to request the result in descending order.\n",
      "\n",
      "[2, 7, 1, 8]\n",
      "\n",
      "[1, 2, 7, 8]\n",
      "\n",
      "[8, 7, 2, 1]\n",
      "\n"
     ]
    }
   ],
   "source": [
    "# sort a list\n",
    "\n",
    "help(sorted)\n",
    "\n",
    "x = [2, 7, 1, 8]\n",
    "print(x)\n",
    "print('')\n",
    "\n",
    "print(sorted(x)) # default is ascending\n",
    "print('')\n",
    "\n",
    "print(sorted(x, reverse=True)) # sort descending\n",
    "print('')"
   ]
  },
  {
   "cell_type": "code",
   "execution_count": 33,
   "id": "0998467c-caf4-4b93-8a11-49a8cf872a42",
   "metadata": {},
   "outputs": [
    {
     "name": "stdout",
     "output_type": "stream",
     "text": [
      "[2, 7, 1, 8, 2, 8]\n",
      "\n",
      "0\n",
      "\n",
      "2\n",
      "\n"
     ]
    }
   ],
   "source": [
    "# methods aka functions that belong to objects\n",
    "\n",
    "x = [2, 7, 1, 8, 2, 8]\n",
    "print(x)\n",
    "print('')\n",
    "\n",
    "print(x.index(2)) # returns first index of 2\n",
    "print('')\n",
    "\n",
    "print(x.count(2))\n",
    "print('')"
   ]
  },
  {
   "cell_type": "code",
   "execution_count": 34,
   "id": "ce5a5c28-8008-467a-89da-95a2427187ca",
   "metadata": {},
   "outputs": [
    {
     "name": "stdout",
     "output_type": "stream",
     "text": [
      "hello world\n",
      "\n",
      "Hello world\n",
      "\n",
      "hello world\n",
      "hello mundo\n",
      "\n"
     ]
    }
   ],
   "source": [
    "# string methods\n",
    "\n",
    "x = 'hello world'\n",
    "print(x)\n",
    "print('')\n",
    "\n",
    "print(x.capitalize())\n",
    "print('')\n",
    "\n",
    "z = x.replace('world', 'mundo')\n",
    "print(x) # the capitalize & replace didn't change x\n",
    "print(z) # the replace applied to z but not x\n",
    "print('')"
   ]
  },
  {
   "cell_type": "code",
   "execution_count": 35,
   "id": "39bdbe33-b082-428a-936f-d2f299527393",
   "metadata": {},
   "outputs": [
    {
     "name": "stdout",
     "output_type": "stream",
     "text": [
      "[2, 7, 1, 8, 2, 8]\n",
      "\n",
      "[2, 7, 1, 8, 2, 8, 1]\n",
      "\n"
     ]
    }
   ],
   "source": [
    "# list methods\n",
    "\n",
    "x = [2, 7, 1, 8, 2, 8]\n",
    "print(x)\n",
    "print('')\n",
    "\n",
    "x.append(1) # method changes the original list x\n",
    "print(x)\n",
    "print('')"
   ]
  },
  {
   "cell_type": "code",
   "execution_count": 36,
   "id": "300b6d7d-c78b-427c-9c18-2d7fadac8586",
   "metadata": {
    "collapsed": true,
    "jupyter": {
     "outputs_hidden": true
    },
    "tags": []
   },
   "outputs": [
    {
     "name": "stdout",
     "output_type": "stream",
     "text": [
      "Help on class str in module builtins:\n",
      "\n",
      "class str(object)\n",
      " |  str(object='') -> str\n",
      " |  str(bytes_or_buffer[, encoding[, errors]]) -> str\n",
      " |  \n",
      " |  Create a new string object from the given object. If encoding or\n",
      " |  errors is specified, then the object must expose a data buffer\n",
      " |  that will be decoded using the given encoding and error handler.\n",
      " |  Otherwise, returns the result of object.__str__() (if defined)\n",
      " |  or repr(object).\n",
      " |  encoding defaults to sys.getdefaultencoding().\n",
      " |  errors defaults to 'strict'.\n",
      " |  \n",
      " |  Methods defined here:\n",
      " |  \n",
      " |  __add__(self, value, /)\n",
      " |      Return self+value.\n",
      " |  \n",
      " |  __contains__(self, key, /)\n",
      " |      Return key in self.\n",
      " |  \n",
      " |  __eq__(self, value, /)\n",
      " |      Return self==value.\n",
      " |  \n",
      " |  __format__(self, format_spec, /)\n",
      " |      Return a formatted version of the string as described by format_spec.\n",
      " |  \n",
      " |  __ge__(self, value, /)\n",
      " |      Return self>=value.\n",
      " |  \n",
      " |  __getattribute__(self, name, /)\n",
      " |      Return getattr(self, name).\n",
      " |  \n",
      " |  __getitem__(self, key, /)\n",
      " |      Return self[key].\n",
      " |  \n",
      " |  __getnewargs__(...)\n",
      " |  \n",
      " |  __gt__(self, value, /)\n",
      " |      Return self>value.\n",
      " |  \n",
      " |  __hash__(self, /)\n",
      " |      Return hash(self).\n",
      " |  \n",
      " |  __iter__(self, /)\n",
      " |      Implement iter(self).\n",
      " |  \n",
      " |  __le__(self, value, /)\n",
      " |      Return self<=value.\n",
      " |  \n",
      " |  __len__(self, /)\n",
      " |      Return len(self).\n",
      " |  \n",
      " |  __lt__(self, value, /)\n",
      " |      Return self<value.\n",
      " |  \n",
      " |  __mod__(self, value, /)\n",
      " |      Return self%value.\n",
      " |  \n",
      " |  __mul__(self, value, /)\n",
      " |      Return self*value.\n",
      " |  \n",
      " |  __ne__(self, value, /)\n",
      " |      Return self!=value.\n",
      " |  \n",
      " |  __repr__(self, /)\n",
      " |      Return repr(self).\n",
      " |  \n",
      " |  __rmod__(self, value, /)\n",
      " |      Return value%self.\n",
      " |  \n",
      " |  __rmul__(self, value, /)\n",
      " |      Return value*self.\n",
      " |  \n",
      " |  __sizeof__(self, /)\n",
      " |      Return the size of the string in memory, in bytes.\n",
      " |  \n",
      " |  __str__(self, /)\n",
      " |      Return str(self).\n",
      " |  \n",
      " |  capitalize(self, /)\n",
      " |      Return a capitalized version of the string.\n",
      " |      \n",
      " |      More specifically, make the first character have upper case and the rest lower\n",
      " |      case.\n",
      " |  \n",
      " |  casefold(self, /)\n",
      " |      Return a version of the string suitable for caseless comparisons.\n",
      " |  \n",
      " |  center(self, width, fillchar=' ', /)\n",
      " |      Return a centered string of length width.\n",
      " |      \n",
      " |      Padding is done using the specified fill character (default is a space).\n",
      " |  \n",
      " |  count(...)\n",
      " |      S.count(sub[, start[, end]]) -> int\n",
      " |      \n",
      " |      Return the number of non-overlapping occurrences of substring sub in\n",
      " |      string S[start:end].  Optional arguments start and end are\n",
      " |      interpreted as in slice notation.\n",
      " |  \n",
      " |  encode(self, /, encoding='utf-8', errors='strict')\n",
      " |      Encode the string using the codec registered for encoding.\n",
      " |      \n",
      " |      encoding\n",
      " |        The encoding in which to encode the string.\n",
      " |      errors\n",
      " |        The error handling scheme to use for encoding errors.\n",
      " |        The default is 'strict' meaning that encoding errors raise a\n",
      " |        UnicodeEncodeError.  Other possible values are 'ignore', 'replace' and\n",
      " |        'xmlcharrefreplace' as well as any other name registered with\n",
      " |        codecs.register_error that can handle UnicodeEncodeErrors.\n",
      " |  \n",
      " |  endswith(...)\n",
      " |      S.endswith(suffix[, start[, end]]) -> bool\n",
      " |      \n",
      " |      Return True if S ends with the specified suffix, False otherwise.\n",
      " |      With optional start, test S beginning at that position.\n",
      " |      With optional end, stop comparing S at that position.\n",
      " |      suffix can also be a tuple of strings to try.\n",
      " |  \n",
      " |  expandtabs(self, /, tabsize=8)\n",
      " |      Return a copy where all tab characters are expanded using spaces.\n",
      " |      \n",
      " |      If tabsize is not given, a tab size of 8 characters is assumed.\n",
      " |  \n",
      " |  find(...)\n",
      " |      S.find(sub[, start[, end]]) -> int\n",
      " |      \n",
      " |      Return the lowest index in S where substring sub is found,\n",
      " |      such that sub is contained within S[start:end].  Optional\n",
      " |      arguments start and end are interpreted as in slice notation.\n",
      " |      \n",
      " |      Return -1 on failure.\n",
      " |  \n",
      " |  format(...)\n",
      " |      S.format(*args, **kwargs) -> str\n",
      " |      \n",
      " |      Return a formatted version of S, using substitutions from args and kwargs.\n",
      " |      The substitutions are identified by braces ('{' and '}').\n",
      " |  \n",
      " |  format_map(...)\n",
      " |      S.format_map(mapping) -> str\n",
      " |      \n",
      " |      Return a formatted version of S, using substitutions from mapping.\n",
      " |      The substitutions are identified by braces ('{' and '}').\n",
      " |  \n",
      " |  index(...)\n",
      " |      S.index(sub[, start[, end]]) -> int\n",
      " |      \n",
      " |      Return the lowest index in S where substring sub is found,\n",
      " |      such that sub is contained within S[start:end].  Optional\n",
      " |      arguments start and end are interpreted as in slice notation.\n",
      " |      \n",
      " |      Raises ValueError when the substring is not found.\n",
      " |  \n",
      " |  isalnum(self, /)\n",
      " |      Return True if the string is an alpha-numeric string, False otherwise.\n",
      " |      \n",
      " |      A string is alpha-numeric if all characters in the string are alpha-numeric and\n",
      " |      there is at least one character in the string.\n",
      " |  \n",
      " |  isalpha(self, /)\n",
      " |      Return True if the string is an alphabetic string, False otherwise.\n",
      " |      \n",
      " |      A string is alphabetic if all characters in the string are alphabetic and there\n",
      " |      is at least one character in the string.\n",
      " |  \n",
      " |  isascii(self, /)\n",
      " |      Return True if all characters in the string are ASCII, False otherwise.\n",
      " |      \n",
      " |      ASCII characters have code points in the range U+0000-U+007F.\n",
      " |      Empty string is ASCII too.\n",
      " |  \n",
      " |  isdecimal(self, /)\n",
      " |      Return True if the string is a decimal string, False otherwise.\n",
      " |      \n",
      " |      A string is a decimal string if all characters in the string are decimal and\n",
      " |      there is at least one character in the string.\n",
      " |  \n",
      " |  isdigit(self, /)\n",
      " |      Return True if the string is a digit string, False otherwise.\n",
      " |      \n",
      " |      A string is a digit string if all characters in the string are digits and there\n",
      " |      is at least one character in the string.\n",
      " |  \n",
      " |  isidentifier(self, /)\n",
      " |      Return True if the string is a valid Python identifier, False otherwise.\n",
      " |      \n",
      " |      Call keyword.iskeyword(s) to test whether string s is a reserved identifier,\n",
      " |      such as \"def\" or \"class\".\n",
      " |  \n",
      " |  islower(self, /)\n",
      " |      Return True if the string is a lowercase string, False otherwise.\n",
      " |      \n",
      " |      A string is lowercase if all cased characters in the string are lowercase and\n",
      " |      there is at least one cased character in the string.\n",
      " |  \n",
      " |  isnumeric(self, /)\n",
      " |      Return True if the string is a numeric string, False otherwise.\n",
      " |      \n",
      " |      A string is numeric if all characters in the string are numeric and there is at\n",
      " |      least one character in the string.\n",
      " |  \n",
      " |  isprintable(self, /)\n",
      " |      Return True if the string is printable, False otherwise.\n",
      " |      \n",
      " |      A string is printable if all of its characters are considered printable in\n",
      " |      repr() or if it is empty.\n",
      " |  \n",
      " |  isspace(self, /)\n",
      " |      Return True if the string is a whitespace string, False otherwise.\n",
      " |      \n",
      " |      A string is whitespace if all characters in the string are whitespace and there\n",
      " |      is at least one character in the string.\n",
      " |  \n",
      " |  istitle(self, /)\n",
      " |      Return True if the string is a title-cased string, False otherwise.\n",
      " |      \n",
      " |      In a title-cased string, upper- and title-case characters may only\n",
      " |      follow uncased characters and lowercase characters only cased ones.\n",
      " |  \n",
      " |  isupper(self, /)\n",
      " |      Return True if the string is an uppercase string, False otherwise.\n",
      " |      \n",
      " |      A string is uppercase if all cased characters in the string are uppercase and\n",
      " |      there is at least one cased character in the string.\n",
      " |  \n",
      " |  join(self, iterable, /)\n",
      " |      Concatenate any number of strings.\n",
      " |      \n",
      " |      The string whose method is called is inserted in between each given string.\n",
      " |      The result is returned as a new string.\n",
      " |      \n",
      " |      Example: '.'.join(['ab', 'pq', 'rs']) -> 'ab.pq.rs'\n",
      " |  \n",
      " |  ljust(self, width, fillchar=' ', /)\n",
      " |      Return a left-justified string of length width.\n",
      " |      \n",
      " |      Padding is done using the specified fill character (default is a space).\n",
      " |  \n",
      " |  lower(self, /)\n",
      " |      Return a copy of the string converted to lowercase.\n",
      " |  \n",
      " |  lstrip(self, chars=None, /)\n",
      " |      Return a copy of the string with leading whitespace removed.\n",
      " |      \n",
      " |      If chars is given and not None, remove characters in chars instead.\n",
      " |  \n",
      " |  partition(self, sep, /)\n",
      " |      Partition the string into three parts using the given separator.\n",
      " |      \n",
      " |      This will search for the separator in the string.  If the separator is found,\n",
      " |      returns a 3-tuple containing the part before the separator, the separator\n",
      " |      itself, and the part after it.\n",
      " |      \n",
      " |      If the separator is not found, returns a 3-tuple containing the original string\n",
      " |      and two empty strings.\n",
      " |  \n",
      " |  removeprefix(self, prefix, /)\n",
      " |      Return a str with the given prefix string removed if present.\n",
      " |      \n",
      " |      If the string starts with the prefix string, return string[len(prefix):].\n",
      " |      Otherwise, return a copy of the original string.\n",
      " |  \n",
      " |  removesuffix(self, suffix, /)\n",
      " |      Return a str with the given suffix string removed if present.\n",
      " |      \n",
      " |      If the string ends with the suffix string and that suffix is not empty,\n",
      " |      return string[:-len(suffix)]. Otherwise, return a copy of the original\n",
      " |      string.\n",
      " |  \n",
      " |  replace(self, old, new, count=-1, /)\n",
      " |      Return a copy with all occurrences of substring old replaced by new.\n",
      " |      \n",
      " |        count\n",
      " |          Maximum number of occurrences to replace.\n",
      " |          -1 (the default value) means replace all occurrences.\n",
      " |      \n",
      " |      If the optional argument count is given, only the first count occurrences are\n",
      " |      replaced.\n",
      " |  \n",
      " |  rfind(...)\n",
      " |      S.rfind(sub[, start[, end]]) -> int\n",
      " |      \n",
      " |      Return the highest index in S where substring sub is found,\n",
      " |      such that sub is contained within S[start:end].  Optional\n",
      " |      arguments start and end are interpreted as in slice notation.\n",
      " |      \n",
      " |      Return -1 on failure.\n",
      " |  \n",
      " |  rindex(...)\n",
      " |      S.rindex(sub[, start[, end]]) -> int\n",
      " |      \n",
      " |      Return the highest index in S where substring sub is found,\n",
      " |      such that sub is contained within S[start:end].  Optional\n",
      " |      arguments start and end are interpreted as in slice notation.\n",
      " |      \n",
      " |      Raises ValueError when the substring is not found.\n",
      " |  \n",
      " |  rjust(self, width, fillchar=' ', /)\n",
      " |      Return a right-justified string of length width.\n",
      " |      \n",
      " |      Padding is done using the specified fill character (default is a space).\n",
      " |  \n",
      " |  rpartition(self, sep, /)\n",
      " |      Partition the string into three parts using the given separator.\n",
      " |      \n",
      " |      This will search for the separator in the string, starting at the end. If\n",
      " |      the separator is found, returns a 3-tuple containing the part before the\n",
      " |      separator, the separator itself, and the part after it.\n",
      " |      \n",
      " |      If the separator is not found, returns a 3-tuple containing two empty strings\n",
      " |      and the original string.\n",
      " |  \n",
      " |  rsplit(self, /, sep=None, maxsplit=-1)\n",
      " |      Return a list of the words in the string, using sep as the delimiter string.\n",
      " |      \n",
      " |        sep\n",
      " |          The delimiter according which to split the string.\n",
      " |          None (the default value) means split according to any whitespace,\n",
      " |          and discard empty strings from the result.\n",
      " |        maxsplit\n",
      " |          Maximum number of splits to do.\n",
      " |          -1 (the default value) means no limit.\n",
      " |      \n",
      " |      Splits are done starting at the end of the string and working to the front.\n",
      " |  \n",
      " |  rstrip(self, chars=None, /)\n",
      " |      Return a copy of the string with trailing whitespace removed.\n",
      " |      \n",
      " |      If chars is given and not None, remove characters in chars instead.\n",
      " |  \n",
      " |  split(self, /, sep=None, maxsplit=-1)\n",
      " |      Return a list of the words in the string, using sep as the delimiter string.\n",
      " |      \n",
      " |      sep\n",
      " |        The delimiter according which to split the string.\n",
      " |        None (the default value) means split according to any whitespace,\n",
      " |        and discard empty strings from the result.\n",
      " |      maxsplit\n",
      " |        Maximum number of splits to do.\n",
      " |        -1 (the default value) means no limit.\n",
      " |  \n",
      " |  splitlines(self, /, keepends=False)\n",
      " |      Return a list of the lines in the string, breaking at line boundaries.\n",
      " |      \n",
      " |      Line breaks are not included in the resulting list unless keepends is given and\n",
      " |      true.\n",
      " |  \n",
      " |  startswith(...)\n",
      " |      S.startswith(prefix[, start[, end]]) -> bool\n",
      " |      \n",
      " |      Return True if S starts with the specified prefix, False otherwise.\n",
      " |      With optional start, test S beginning at that position.\n",
      " |      With optional end, stop comparing S at that position.\n",
      " |      prefix can also be a tuple of strings to try.\n",
      " |  \n",
      " |  strip(self, chars=None, /)\n",
      " |      Return a copy of the string with leading and trailing whitespace removed.\n",
      " |      \n",
      " |      If chars is given and not None, remove characters in chars instead.\n",
      " |  \n",
      " |  swapcase(self, /)\n",
      " |      Convert uppercase characters to lowercase and lowercase characters to uppercase.\n",
      " |  \n",
      " |  title(self, /)\n",
      " |      Return a version of the string where each word is titlecased.\n",
      " |      \n",
      " |      More specifically, words start with uppercased characters and all remaining\n",
      " |      cased characters have lower case.\n",
      " |  \n",
      " |  translate(self, table, /)\n",
      " |      Replace each character in the string using the given translation table.\n",
      " |      \n",
      " |        table\n",
      " |          Translation table, which must be a mapping of Unicode ordinals to\n",
      " |          Unicode ordinals, strings, or None.\n",
      " |      \n",
      " |      The table must implement lookup/indexing via __getitem__, for instance a\n",
      " |      dictionary or list.  If this operation raises LookupError, the character is\n",
      " |      left untouched.  Characters mapped to None are deleted.\n",
      " |  \n",
      " |  upper(self, /)\n",
      " |      Return a copy of the string converted to uppercase.\n",
      " |  \n",
      " |  zfill(self, width, /)\n",
      " |      Pad a numeric string with zeros on the left, to fill a field of the given width.\n",
      " |      \n",
      " |      The string is never truncated.\n",
      " |  \n",
      " |  ----------------------------------------------------------------------\n",
      " |  Static methods defined here:\n",
      " |  \n",
      " |  __new__(*args, **kwargs) from builtins.type\n",
      " |      Create and return a new object.  See help(type) for accurate signature.\n",
      " |  \n",
      " |  maketrans(...)\n",
      " |      Return a translation table usable for str.translate().\n",
      " |      \n",
      " |      If there is only one argument, it must be a dictionary mapping Unicode\n",
      " |      ordinals (integers) or characters to Unicode ordinals, strings or None.\n",
      " |      Character keys will be then converted to ordinals.\n",
      " |      If there are two arguments, they must be strings of equal length, and\n",
      " |      in the resulting dictionary, each character in x will be mapped to the\n",
      " |      character at the same position in y. If there is a third argument, it\n",
      " |      must be a string, whose characters will be mapped to None in the result.\n",
      "\n"
     ]
    }
   ],
   "source": [
    "# what are the methods for strings?\n",
    "\n",
    "help(str)"
   ]
  },
  {
   "cell_type": "code",
   "execution_count": 37,
   "id": "3f4a1d04-2617-426c-a77d-6ccf4c0ee93b",
   "metadata": {},
   "outputs": [
    {
     "name": "stdout",
     "output_type": "stream",
     "text": [
      "hello world\n",
      "\n",
      "HELLO WORLD\n",
      "hello world\n",
      "\n"
     ]
    },
    {
     "data": {
      "text/plain": [
       "2"
      ]
     },
     "execution_count": 37,
     "metadata": {},
     "output_type": "execute_result"
    }
   ],
   "source": [
    "# string methods\n",
    "\n",
    "x = 'hello world'\n",
    "print(x)\n",
    "print('')\n",
    "\n",
    "y = x.upper()\n",
    "print(y)\n",
    "print(x)\n",
    "print('')\n",
    "\n",
    "x.count('o')"
   ]
  },
  {
   "cell_type": "code",
   "execution_count": 40,
   "id": "5f61d4f2-1991-4475-839e-97d03a4a2f49",
   "metadata": {},
   "outputs": [
    {
     "data": {
      "text/plain": [
       "'hello world'"
      ]
     },
     "execution_count": 40,
     "metadata": {},
     "output_type": "execute_result"
    }
   ],
   "source": [
    "# list methods\n",
    "\n",
    "x"
   ]
  },
  {
   "cell_type": "code",
   "execution_count": 39,
   "id": "c5c473c9-ca0b-4c6b-9e99-6a994a3db04b",
   "metadata": {},
   "outputs": [],
   "source": [
    "# https://campus.datacamp.com/courses/intro-to-python-for-data-science/chapter-3-functions-and-packages?ex=7"
   ]
  }
 ],
 "metadata": {
  "kernelspec": {
   "display_name": "Python 3 (ipykernel)",
   "language": "python",
   "name": "python3"
  },
  "language_info": {
   "codemirror_mode": {
    "name": "ipython",
    "version": 3
   },
   "file_extension": ".py",
   "mimetype": "text/x-python",
   "name": "python",
   "nbconvert_exporter": "python",
   "pygments_lexer": "ipython3",
   "version": "3.9.7"
  }
 },
 "nbformat": 4,
 "nbformat_minor": 5
}
