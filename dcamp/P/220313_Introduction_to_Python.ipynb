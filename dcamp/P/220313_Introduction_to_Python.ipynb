{
 "cells": [
  {
   "cell_type": "markdown",
   "id": "db5c965e-6916-43ed-ac78-3da4905f11a7",
   "metadata": {},
   "source": [
    "# 220313 Introduction to Python"
   ]
  },
  {
   "cell_type": "code",
   "execution_count": 1,
   "id": "d5ae3608-05b4-4545-855d-049bfe917f8e",
   "metadata": {},
   "outputs": [
    {
     "data": {
      "text/plain": [
       "12"
      ]
     },
     "execution_count": 1,
     "metadata": {},
     "output_type": "execute_result"
    }
   ],
   "source": [
    "# comments start with hashtag #\n",
    "# Python as a calculator\n",
    "\n",
    "7 + 5"
   ]
  },
  {
   "cell_type": "code",
   "execution_count": 2,
   "id": "21789ba5-9958-4942-9fbe-0a4f162c27e4",
   "metadata": {},
   "outputs": [
    {
     "name": "stdout",
     "output_type": "stream",
     "text": [
      "1.75\n"
     ]
    }
   ],
   "source": [
    "# print function (useful for debugging)\n",
    "\n",
    "print(7/4)"
   ]
  },
  {
   "cell_type": "code",
   "execution_count": 3,
   "id": "6a9e739e-5718-4786-b17d-ae1d0d8c6dc3",
   "metadata": {},
   "outputs": [
    {
     "data": {
      "text/plain": [
       "0.6666666666666666"
      ]
     },
     "execution_count": 3,
     "metadata": {},
     "output_type": "execute_result"
    }
   ],
   "source": [
    "# Python as a calculator\n",
    "# If you don't use print function, only last calculation is printed\n",
    "\n",
    "7 + 4\n",
    "2/3"
   ]
  },
  {
   "cell_type": "code",
   "execution_count": 4,
   "id": "446fa554-b293-4e12-bc91-e671e3c38b97",
   "metadata": {},
   "outputs": [
    {
     "name": "stdout",
     "output_type": "stream",
     "text": [
      "11\n",
      "0.6666666666666666\n",
      "6\n",
      "8\n",
      "2\n"
     ]
    }
   ],
   "source": [
    "# Python as a calculator\n",
    "\n",
    "print(7+4)\n",
    "print(2/3)\n",
    "print(2*3)\n",
    "print(2**3) # exponentiation\n",
    "print(2%3) # modulo (remainder)\n",
    "\n",
    "# See PEP8 Python style guide sections on spaces around operators https://peps.python.org/pep-0008/"
   ]
  },
  {
   "cell_type": "code",
   "execution_count": 5,
   "id": "547fe265-4a65-4964-8464-f8804bb802e0",
   "metadata": {},
   "outputs": [
    {
     "name": "stdout",
     "output_type": "stream",
     "text": [
      "3.9.7 | packaged by conda-forge | (default, Sep 29 2021, 20:33:18) \n",
      "[Clang 11.1.0 ]\n",
      "sys.version_info(major=3, minor=9, micro=7, releaselevel='final', serial=0)\n"
     ]
    }
   ],
   "source": [
    "# what version of Python do I have?\n",
    "# using import statement to gain access to Python modules/packages\n",
    "\n",
    "import sys\n",
    "print(sys.version)\n",
    "print(sys.version_info)\n",
    "\n"
   ]
  },
  {
   "cell_type": "code",
   "execution_count": 6,
   "id": "49ea046c-ce4b-43b8-ab27-76b9cc4e526f",
   "metadata": {},
   "outputs": [
    {
     "name": "stdout",
     "output_type": "stream",
     "text": [
      "3\n"
     ]
    }
   ],
   "source": [
    "# Variable assignment\n",
    "\n",
    "x = 3\n",
    "print(x)"
   ]
  },
  {
   "cell_type": "code",
   "execution_count": 7,
   "id": "e1fa7393-eb6f-4f3e-a67e-45bc47b4f9bc",
   "metadata": {},
   "outputs": [
    {
     "name": "stdout",
     "output_type": "stream",
     "text": [
      "6\n",
      "9\n",
      "1\n"
     ]
    }
   ],
   "source": [
    "# Calculations with variables\n",
    "\n",
    "print(x*2)\n",
    "print(x**2)\n",
    "print(x%2)"
   ]
  },
  {
   "cell_type": "code",
   "execution_count": 8,
   "id": "fc48a62f-9780-42d6-bb34-bd3cbe16488c",
   "metadata": {},
   "outputs": [
    {
     "name": "stdout",
     "output_type": "stream",
     "text": [
      "<class 'int'>\n",
      "<class 'float'>\n",
      "<class 'str'>\n",
      "<class 'bool'>\n"
     ]
    }
   ],
   "source": [
    "# Variable types\n",
    "\n",
    "x = 3\n",
    "print(type(x)) # integer\n",
    "\n",
    "y = 3.14\n",
    "print(type(y)) # float\n",
    "\n",
    "z = 'hello world'\n",
    "print(type(z)) # string\n",
    "\n",
    "w = False\n",
    "print(type(w)) # boolean"
   ]
  },
  {
   "cell_type": "code",
   "execution_count": 9,
   "id": "b301e360-f919-4748-b981-0c37e49ad83c",
   "metadata": {},
   "outputs": [
    {
     "name": "stdout",
     "output_type": "stream",
     "text": [
      "6\n",
      "6.28\n",
      "hello worldhello world\n",
      "0\n"
     ]
    }
   ],
   "source": [
    "# Same operation can behave differently on different variable types\n",
    "\n",
    "print(x + x)\n",
    "print(y + y)\n",
    "print(z + z) # pastes/concatenates the two strings\n",
    "print(w + w)"
   ]
  },
  {
   "cell_type": "code",
   "execution_count": 10,
   "id": "876cd68a-6981-41ee-8be8-5e3837d19dc2",
   "metadata": {},
   "outputs": [
    {
     "data": {
      "text/plain": [
       "'hello world3'"
      ]
     },
     "execution_count": 10,
     "metadata": {},
     "output_type": "execute_result"
    }
   ],
   "source": [
    "# To paste string and int/float, need to convert type\n",
    "\n",
    "# z + x ## Error message: TypeError: must be str, not int\n",
    "\n",
    "z + str(x) # converts type of x to str, see also int(), float(), bool()"
   ]
  },
  {
   "cell_type": "code",
   "execution_count": 11,
   "id": "771a6538-4408-4e6f-8256-c3adf8f7038d",
   "metadata": {},
   "outputs": [
    {
     "name": "stdout",
     "output_type": "stream",
     "text": [
      "2.7182.718\n",
      "<class 'str'>\n",
      "5.436\n"
     ]
    }
   ],
   "source": [
    "# convert string to float\n",
    "\n",
    "w = '2.718'\n",
    "print(2*w)\n",
    "print(type(w))\n",
    "print(2*float(w))"
   ]
  },
  {
   "cell_type": "code",
   "execution_count": 12,
   "id": "ca69451f-0a75-4239-90f8-b7017d5cd660",
   "metadata": {},
   "outputs": [
    {
     "name": "stdout",
     "output_type": "stream",
     "text": [
      "['hello', 42, 'hello world', 7, True, 2.718]\n"
     ]
    },
    {
     "data": {
      "text/plain": [
       "list"
      ]
     },
     "execution_count": 12,
     "metadata": {},
     "output_type": "execute_result"
    }
   ],
   "source": [
    "# Lists\n",
    "\n",
    "x = 42\n",
    "a = ['hello', x, 'hello world', 7, True, 2.718]\n",
    "print(a)\n",
    "type(a)"
   ]
  },
  {
   "cell_type": "code",
   "execution_count": 13,
   "id": "fb583c89-a0a1-4489-95fb-4439a4a401a5",
   "metadata": {},
   "outputs": [
    {
     "name": "stdout",
     "output_type": "stream",
     "text": [
      "[['0th', 2], ['1st', 1], ['2nd', 7]]\n",
      "<class 'list'>\n"
     ]
    }
   ],
   "source": [
    "# List of lists\n",
    "\n",
    "x = [['0th', 2], \n",
    "    ['1st', 1], \n",
    "    ['2nd', 7]]\n",
    "print(x)\n",
    "print(type(x))"
   ]
  },
  {
   "cell_type": "code",
   "execution_count": 14,
   "id": "33e68dda-096c-4ce7-8d6f-5b8b46a711d7",
   "metadata": {},
   "outputs": [
    {
     "name": "stdout",
     "output_type": "stream",
     "text": [
      "[['1st', 2], ['2nd', 1], ['3rd', 7], ['4th', 8]]\n",
      "\n",
      "['2nd', 1]\n",
      "\n",
      "['4th', 8]\n",
      "\n"
     ]
    }
   ],
   "source": [
    "# Subsetting lists\n",
    "\n",
    "x = [['1st', 2], \n",
    "    ['2nd', 1], \n",
    "    ['3rd', 7], \n",
    "    ['4th', 8]]\n",
    "print(x)\n",
    "print('')\n",
    "\n",
    "print(x[1]) # Python uses zero-based array indexing\n",
    "print('')\n",
    "\n",
    "print(x[-1]) # negative indexing\n",
    "print('')"
   ]
  },
  {
   "cell_type": "code",
   "execution_count": 15,
   "id": "c5513227-61ad-45b1-8b08-78f6cc23cf3b",
   "metadata": {},
   "outputs": [
    {
     "name": "stdout",
     "output_type": "stream",
     "text": [
      "2\n",
      "8\n"
     ]
    },
    {
     "data": {
      "text/plain": [
       "10"
      ]
     },
     "execution_count": 15,
     "metadata": {},
     "output_type": "execute_result"
    }
   ],
   "source": [
    "# Subsetting lists\n",
    "\n",
    "print(x[0][1])\n",
    "print(x[-1][1])\n",
    "x[0][1] + x[-1][1]"
   ]
  },
  {
   "cell_type": "code",
   "execution_count": 16,
   "id": "934c0019-9504-4912-a2aa-89a5a7a6a2c5",
   "metadata": {},
   "outputs": [
    {
     "name": "stdout",
     "output_type": "stream",
     "text": [
      "[2, 7]\n",
      "<class 'list'>\n",
      "[2]\n",
      "<class 'list'>\n",
      "2\n",
      "<class 'int'>\n"
     ]
    }
   ],
   "source": [
    "# Subsetting lists: slicing\n",
    "\n",
    "x = [2, 7, 1, 8]\n",
    "\n",
    "print(x[0:2])\n",
    "\n",
    "print(type(x[0:2]))\n",
    "\n",
    "print(x[0:1])\n",
    "print(type(x[0:1]))\n",
    "\n",
    "print(x[0])\n",
    "print(type(x[0]))"
   ]
  },
  {
   "cell_type": "code",
   "execution_count": 17,
   "id": "287ce621-24e3-4b5c-8b6f-1f4562dc31b3",
   "metadata": {},
   "outputs": [
    {
     "name": "stdout",
     "output_type": "stream",
     "text": [
      "[2, 7, 1, 8]\n",
      "[2, 7]\n",
      "[7, 1, 8]\n"
     ]
    }
   ],
   "source": [
    "# Subsetting lists: slicing\n",
    "\n",
    "print(x)\n",
    "\n",
    "print(x[:2]) # first two elements\n",
    "\n",
    "print(x[-3:]) # last three elements\n",
    "\n",
    "# See PEP8 Python style guide sections on spaces around operators https://peps.python.org/pep-0008/"
   ]
  },
  {
   "cell_type": "code",
   "execution_count": 18,
   "id": "7b1c24dd-b325-4ef8-a499-b0d18f043853",
   "metadata": {},
   "outputs": [
    {
     "name": "stdout",
     "output_type": "stream",
     "text": [
      "[2, 7, 1, 8]\n",
      "\n",
      "[2, 6, 1, 8]\n",
      "\n",
      "[2, 6, 3, 9]\n",
      "\n"
     ]
    }
   ],
   "source": [
    "# replace list elements\n",
    "\n",
    "x = [2, 7, 1, 8]\n",
    "print(x)\n",
    "print('')\n",
    "\n",
    "x[1] = 6 # replace 2nd element\n",
    "print(x)\n",
    "print('')\n",
    "\n",
    "x[-2:] = [3, 9] # replace the last 2 elements\n",
    "print(x)\n",
    "print('')"
   ]
  },
  {
   "cell_type": "code",
   "execution_count": 19,
   "id": "d0922850-c7cf-4ee4-b40b-b8b473ff36dc",
   "metadata": {},
   "outputs": [
    {
     "name": "stdout",
     "output_type": "stream",
     "text": [
      "[2, 7, 1, 8]\n",
      "\n"
     ]
    },
    {
     "data": {
      "text/plain": [
       "[2, 7, 1, 8, 2, 8]"
      ]
     },
     "execution_count": 19,
     "metadata": {},
     "output_type": "execute_result"
    }
   ],
   "source": [
    "# extend (add elements to) a list\n",
    "\n",
    "x = [2, 7, 1, 8]\n",
    "print(x)\n",
    "print('')\n",
    "\n",
    "x + [2, 8]"
   ]
  },
  {
   "cell_type": "code",
   "execution_count": 20,
   "id": "b3764943-e2dc-49d2-a168-bccaa392f10a",
   "metadata": {},
   "outputs": [
    {
     "data": {
      "text/plain": [
       "3"
      ]
     },
     "execution_count": 20,
     "metadata": {},
     "output_type": "execute_result"
    }
   ],
   "source": [
    "# access previous output/result of last evaluation\n",
    "\n",
    "1 + 2"
   ]
  },
  {
   "cell_type": "code",
   "execution_count": 21,
   "id": "8fe8f617-276b-4752-b146-61096033c93c",
   "metadata": {},
   "outputs": [
    {
     "data": {
      "text/plain": [
       "7"
      ]
     },
     "execution_count": 21,
     "metadata": {},
     "output_type": "execute_result"
    }
   ],
   "source": [
    "# access previous output/result of last evaluation\n",
    "\n",
    "4 + _"
   ]
  },
  {
   "cell_type": "code",
   "execution_count": 22,
   "id": "1bbe5c5a-bee9-4b6f-8b33-f27533b7f3c2",
   "metadata": {},
   "outputs": [
    {
     "data": {
      "text/plain": [
       "11"
      ]
     },
     "execution_count": 22,
     "metadata": {},
     "output_type": "execute_result"
    }
   ],
   "source": [
    "# access previous output/result of last evaluation\n",
    "\n",
    "8 + _20 # in a jupyter shell you can also access previous outputs by their number e.g. [20] would be _20"
   ]
  },
  {
   "cell_type": "code",
   "execution_count": 23,
   "id": "20add82b-d11c-4b98-af1b-c2bb54cc0e6e",
   "metadata": {},
   "outputs": [
    {
     "name": "stdout",
     "output_type": "stream",
     "text": [
      "[2, 7, 1, 8]\n",
      "\n",
      "[2, 1, 8]\n",
      "\n",
      "[2, 1]\n",
      "\n"
     ]
    }
   ],
   "source": [
    "# delete list elements\n",
    "\n",
    "x = [2, 7, 1, 8]\n",
    "print(x)\n",
    "print('')\n",
    "\n",
    "del(x[1])\n",
    "print(x)\n",
    "print('')\n",
    "\n",
    "del(x[-1])\n",
    "print(x)\n",
    "print('')"
   ]
  },
  {
   "cell_type": "code",
   "execution_count": 24,
   "id": "d4e1a561-61e6-4446-a6e7-8a46eb1098aa",
   "metadata": {},
   "outputs": [
    {
     "name": "stdout",
     "output_type": "stream",
     "text": [
      "[2, 7, 1, 8]\n",
      "\n",
      "[2, 7, 1, 8]\n",
      "\n",
      "[2, 7, 1]\n",
      "\n",
      "[2, 7, 1]\n",
      "\n"
     ]
    }
   ],
   "source": [
    "# copying lists (shallow vs deep?)\n",
    "\n",
    "x = [2, 7, 1, 8]\n",
    "print(x)\n",
    "print('')\n",
    "\n",
    "x_copy = x\n",
    "print(x_copy)\n",
    "print('')\n",
    "\n",
    "del(x_copy[-1])\n",
    "print(x_copy)\n",
    "print('')\n",
    "\n",
    "print(x)\n",
    "print('')\n",
    "\n",
    "# changing x_copy also changes x"
   ]
  },
  {
   "cell_type": "code",
   "execution_count": 25,
   "id": "71b7e58e-4764-45ae-b753-373505ae190c",
   "metadata": {},
   "outputs": [
    {
     "name": "stdout",
     "output_type": "stream",
     "text": [
      "[2, 7, 1, 8]\n",
      "\n",
      "[2, 7, 1, 8]\n",
      "\n",
      "[2, 7, 1]\n",
      "\n",
      "[2, 7, 1, 8]\n",
      "\n"
     ]
    }
   ],
   "source": [
    "# copying lists (shallow vs deep?)\n",
    "\n",
    "x = [2, 7, 1, 8]\n",
    "print(x)\n",
    "print('')\n",
    "\n",
    "x_copy = x[:] # copy using slicing\n",
    "print(x_copy)\n",
    "print('')\n",
    "\n",
    "del(x_copy[-1])\n",
    "print(x_copy)\n",
    "print('')\n",
    "\n",
    "print(x)\n",
    "print('')\n",
    "\n",
    "# changing x_copy does NOT change x"
   ]
  },
  {
   "cell_type": "code",
   "execution_count": 26,
   "id": "fbe39fa7-62bf-4606-b127-2e0558b1df84",
   "metadata": {},
   "outputs": [],
   "source": [
    "# https://campus.datacamp.com/courses/intro-to-python-for-data-science/chapter-3-functions-and-packages?ex=1\n",
    "# https://stackoverflow.com/questions/4794244/how-can-i-create-a-copy-of-an-object-in-python"
   ]
  },
  {
   "cell_type": "code",
   "execution_count": null,
   "id": "bd2da95e-9ec9-41ca-b89b-d4036635441c",
   "metadata": {},
   "outputs": [],
   "source": []
  }
 ],
 "metadata": {
  "kernelspec": {
   "display_name": "Python 3 (ipykernel)",
   "language": "python",
   "name": "python3"
  },
  "language_info": {
   "codemirror_mode": {
    "name": "ipython",
    "version": 3
   },
   "file_extension": ".py",
   "mimetype": "text/x-python",
   "name": "python",
   "nbconvert_exporter": "python",
   "pygments_lexer": "ipython3",
   "version": "3.9.7"
  }
 },
 "nbformat": 4,
 "nbformat_minor": 5
}
