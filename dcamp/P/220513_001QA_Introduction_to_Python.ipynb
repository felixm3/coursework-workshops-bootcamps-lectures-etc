{
 "cells": [
  {
   "cell_type": "markdown",
   "id": "d1b8371a-2118-4262-bbd0-9fbca0a89a17",
   "metadata": {},
   "source": [
    "# Test Yourself"
   ]
  },
  {
   "cell_type": "markdown",
   "id": "db80d32c-f0b9-4bdf-bf80-81e8b89e7c3b",
   "metadata": {},
   "source": [
    "- 01. Print out the value of $1.003^{240}$"
   ]
  },
  {
   "cell_type": "code",
   "execution_count": 1,
   "id": "e1ac326a-053c-4cc0-b563-69dc6c2f7d30",
   "metadata": {},
   "outputs": [
    {
     "name": "stdout",
     "output_type": "stream",
     "text": [
      "2.0522200433311872\n"
     ]
    }
   ],
   "source": [
    "# print value of 1.003^240\n",
    "\n",
    "print(1.003**240)"
   ]
  },
  {
   "cell_type": "markdown",
   "id": "ae65d6ed-a95f-4e80-af99-a6e8eee8e18e",
   "metadata": {},
   "source": [
    "- 02. What's the remainder when 97 is divided by 23?"
   ]
  },
  {
   "cell_type": "code",
   "execution_count": 2,
   "id": "f44a7ff1-d1dd-4795-8088-af230106bc91",
   "metadata": {},
   "outputs": [
    {
     "name": "stdout",
     "output_type": "stream",
     "text": [
      "5\n"
     ]
    }
   ],
   "source": [
    "# print 97 modulo 23\n",
    "\n",
    "print(97%23)"
   ]
  },
  {
   "cell_type": "markdown",
   "id": "9be18a99-6e5a-456f-8967-1f50fe565e24",
   "metadata": {},
   "source": [
    "- 03. Check what version of Python you're running (two ways)"
   ]
  },
  {
   "cell_type": "code",
   "execution_count": 3,
   "id": "5e362961-e6a3-4e15-96b6-f327120d12ee",
   "metadata": {},
   "outputs": [
    {
     "name": "stdout",
     "output_type": "stream",
     "text": [
      "3.9.7 (default, Sep 16 2021, 08:50:36) \n",
      "[Clang 10.0.0 ]\n",
      "sys.version_info(major=3, minor=9, micro=7, releaselevel='final', serial=0)\n"
     ]
    }
   ],
   "source": [
    "# check Python version\n",
    "\n",
    "import sys\n",
    "\n",
    "print(sys.version)\n",
    "print(sys.version_info)"
   ]
  },
  {
   "cell_type": "code",
   "execution_count": null,
   "id": "676953d7-9e3c-4c18-8425-fe6372bd40f6",
   "metadata": {},
   "outputs": [],
   "source": []
  }
 ],
 "metadata": {
  "kernelspec": {
   "display_name": "Python 3 (ipykernel)",
   "language": "python",
   "name": "python3"
  },
  "language_info": {
   "codemirror_mode": {
    "name": "ipython",
    "version": 3
   },
   "file_extension": ".py",
   "mimetype": "text/x-python",
   "name": "python",
   "nbconvert_exporter": "python",
   "pygments_lexer": "ipython3",
   "version": "3.9.7"
  }
 },
 "nbformat": 4,
 "nbformat_minor": 5
}
