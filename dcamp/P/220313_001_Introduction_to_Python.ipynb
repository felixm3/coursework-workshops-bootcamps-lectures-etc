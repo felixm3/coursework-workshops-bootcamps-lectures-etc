{
 "cells": [
  {
   "cell_type": "markdown",
   "id": "db5c965e-6916-43ed-ac78-3da4905f11a7",
   "metadata": {},
   "source": [
    "# 220313 Introduction to Python"
   ]
  },
  {
   "cell_type": "markdown",
   "id": "296d842e-47aa-4e22-bf4b-96c1068ca93b",
   "metadata": {},
   "source": [
    "## Python Basics"
   ]
  },
  {
   "cell_type": "code",
   "execution_count": 1,
   "id": "d5ae3608-05b4-4545-855d-049bfe917f8e",
   "metadata": {},
   "outputs": [
    {
     "data": {
      "text/plain": [
       "12"
      ]
     },
     "execution_count": 1,
     "metadata": {},
     "output_type": "execute_result"
    }
   ],
   "source": [
    "# comments start with hashtag #\n",
    "# Python as a calculator\n",
    "\n",
    "7 + 5"
   ]
  },
  {
   "cell_type": "code",
   "execution_count": 2,
   "id": "21789ba5-9958-4942-9fbe-0a4f162c27e4",
   "metadata": {},
   "outputs": [
    {
     "name": "stdout",
     "output_type": "stream",
     "text": [
      "1.75\n"
     ]
    }
   ],
   "source": [
    "# print function (useful for debugging)\n",
    "\n",
    "print(7/4)"
   ]
  },
  {
   "cell_type": "code",
   "execution_count": 3,
   "id": "6a9e739e-5718-4786-b17d-ae1d0d8c6dc3",
   "metadata": {},
   "outputs": [
    {
     "data": {
      "text/plain": [
       "0.6666666666666666"
      ]
     },
     "execution_count": 3,
     "metadata": {},
     "output_type": "execute_result"
    }
   ],
   "source": [
    "# Python as a calculator\n",
    "# If you don't use print function, only last calculation is printed\n",
    "\n",
    "7 + 4\n",
    "2/3"
   ]
  },
  {
   "cell_type": "code",
   "execution_count": 4,
   "id": "446fa554-b293-4e12-bc91-e671e3c38b97",
   "metadata": {},
   "outputs": [
    {
     "name": "stdout",
     "output_type": "stream",
     "text": [
      "11\n",
      "0.6666666666666666\n",
      "6\n",
      "8\n",
      "2\n"
     ]
    }
   ],
   "source": [
    "# Python as a calculator\n",
    "\n",
    "print(7+4)\n",
    "print(2/3)\n",
    "print(2*3)\n",
    "print(2**3) # exponentiation\n",
    "print(2%3) # modulo (remainder)\n",
    "\n",
    "# See PEP8 Python style guide sections on spaces around operators https://peps.python.org/pep-0008/"
   ]
  },
  {
   "cell_type": "code",
   "execution_count": 5,
   "id": "547fe265-4a65-4964-8464-f8804bb802e0",
   "metadata": {},
   "outputs": [
    {
     "name": "stdout",
     "output_type": "stream",
     "text": [
      "3.9.12 (main, Apr  5 2022, 01:53:17) \n",
      "[Clang 12.0.0 ]\n",
      "sys.version_info(major=3, minor=9, micro=12, releaselevel='final', serial=0)\n"
     ]
    }
   ],
   "source": [
    "# what version of Python do I have?\n",
    "# using import statement to gain access to Python modules/packages\n",
    "\n",
    "import sys\n",
    "print(sys.version)\n",
    "print(sys.version_info)\n",
    "\n"
   ]
  },
  {
   "cell_type": "code",
   "execution_count": 6,
   "id": "49ea046c-ce4b-43b8-ab27-76b9cc4e526f",
   "metadata": {},
   "outputs": [
    {
     "name": "stdout",
     "output_type": "stream",
     "text": [
      "3\n"
     ]
    }
   ],
   "source": [
    "# Variable assignment\n",
    "\n",
    "x = 3\n",
    "print(x)"
   ]
  },
  {
   "cell_type": "code",
   "execution_count": 7,
   "id": "e1fa7393-eb6f-4f3e-a67e-45bc47b4f9bc",
   "metadata": {},
   "outputs": [
    {
     "name": "stdout",
     "output_type": "stream",
     "text": [
      "6\n",
      "9\n",
      "1\n"
     ]
    }
   ],
   "source": [
    "# Calculations with variables\n",
    "\n",
    "print(x*2)\n",
    "print(x**2)\n",
    "print(x%2)"
   ]
  },
  {
   "cell_type": "code",
   "execution_count": 8,
   "id": "fc48a62f-9780-42d6-bb34-bd3cbe16488c",
   "metadata": {},
   "outputs": [
    {
     "name": "stdout",
     "output_type": "stream",
     "text": [
      "<class 'int'>\n",
      "<class 'float'>\n",
      "<class 'str'>\n",
      "<class 'bool'>\n"
     ]
    }
   ],
   "source": [
    "# Variable types\n",
    "\n",
    "x = 3\n",
    "print(type(x)) # integer\n",
    "\n",
    "y = 3.14\n",
    "print(type(y)) # float\n",
    "\n",
    "z = 'hello world'\n",
    "print(type(z)) # string\n",
    "\n",
    "w = False\n",
    "print(type(w)) # boolean"
   ]
  },
  {
   "cell_type": "code",
   "execution_count": 9,
   "id": "b301e360-f919-4748-b981-0c37e49ad83c",
   "metadata": {},
   "outputs": [
    {
     "name": "stdout",
     "output_type": "stream",
     "text": [
      "6\n",
      "6.28\n",
      "hello worldhello world\n",
      "0\n"
     ]
    }
   ],
   "source": [
    "# Same operation can behave differently on different variable types\n",
    "\n",
    "print(x + x)\n",
    "print(y + y)\n",
    "print(z + z) # pastes/concatenates the two strings\n",
    "print(w + w)"
   ]
  },
  {
   "cell_type": "code",
   "execution_count": 10,
   "id": "876cd68a-6981-41ee-8be8-5e3837d19dc2",
   "metadata": {},
   "outputs": [
    {
     "data": {
      "text/plain": [
       "'hello world3'"
      ]
     },
     "execution_count": 10,
     "metadata": {},
     "output_type": "execute_result"
    }
   ],
   "source": [
    "# To paste string and int/float, need to convert type\n",
    "\n",
    "# z + x ## Error message: TypeError: must be str, not int\n",
    "\n",
    "z + str(x) # converts type of x to str, see also int(), float(), bool()"
   ]
  },
  {
   "cell_type": "code",
   "execution_count": 11,
   "id": "771a6538-4408-4e6f-8256-c3adf8f7038d",
   "metadata": {},
   "outputs": [
    {
     "name": "stdout",
     "output_type": "stream",
     "text": [
      "2.7182.718\n",
      "<class 'str'>\n",
      "5.436\n"
     ]
    }
   ],
   "source": [
    "# convert string to float\n",
    "\n",
    "w = '2.718'\n",
    "print(2*w)\n",
    "print(type(w))\n",
    "print(2*float(w))"
   ]
  },
  {
   "cell_type": "markdown",
   "id": "77b56e0f-81e5-4bfd-91c9-6a2cbc7bdf92",
   "metadata": {},
   "source": [
    "## Python Lists"
   ]
  },
  {
   "cell_type": "code",
   "execution_count": 12,
   "id": "ca69451f-0a75-4239-90f8-b7017d5cd660",
   "metadata": {},
   "outputs": [
    {
     "name": "stdout",
     "output_type": "stream",
     "text": [
      "['hello', 42, 'hello world', 7, True, 2.718]\n"
     ]
    },
    {
     "data": {
      "text/plain": [
       "list"
      ]
     },
     "execution_count": 12,
     "metadata": {},
     "output_type": "execute_result"
    }
   ],
   "source": [
    "# Lists\n",
    "\n",
    "x = 42\n",
    "a = ['hello', x, 'hello world', 7, True, 2.718]\n",
    "print(a)\n",
    "type(a)"
   ]
  },
  {
   "cell_type": "code",
   "execution_count": 13,
   "id": "fb583c89-a0a1-4489-95fb-4439a4a401a5",
   "metadata": {},
   "outputs": [
    {
     "name": "stdout",
     "output_type": "stream",
     "text": [
      "[['0th', 2], ['1st', 1], ['2nd', 7]]\n",
      "<class 'list'>\n"
     ]
    }
   ],
   "source": [
    "# List of lists\n",
    "\n",
    "x = [['0th', 2], \n",
    "    ['1st', 1], \n",
    "    ['2nd', 7]]\n",
    "print(x)\n",
    "print(type(x))"
   ]
  },
  {
   "cell_type": "code",
   "execution_count": 14,
   "id": "33e68dda-096c-4ce7-8d6f-5b8b46a711d7",
   "metadata": {},
   "outputs": [
    {
     "name": "stdout",
     "output_type": "stream",
     "text": [
      "[['1st', 2], ['2nd', 1], ['3rd', 7], ['4th', 8]]\n",
      "\n",
      "['2nd', 1]\n",
      "\n",
      "['4th', 8]\n",
      "\n"
     ]
    }
   ],
   "source": [
    "# Subsetting lists\n",
    "\n",
    "x = [['1st', 2], \n",
    "    ['2nd', 1], \n",
    "    ['3rd', 7], \n",
    "    ['4th', 8]]\n",
    "print(x)\n",
    "print('')\n",
    "\n",
    "print(x[1]) # Python uses zero-based array indexing\n",
    "print('')\n",
    "\n",
    "print(x[-1]) # negative indexing\n",
    "print('')"
   ]
  },
  {
   "cell_type": "code",
   "execution_count": 15,
   "id": "c5513227-61ad-45b1-8b08-78f6cc23cf3b",
   "metadata": {},
   "outputs": [
    {
     "name": "stdout",
     "output_type": "stream",
     "text": [
      "2\n",
      "8\n"
     ]
    },
    {
     "data": {
      "text/plain": [
       "10"
      ]
     },
     "execution_count": 15,
     "metadata": {},
     "output_type": "execute_result"
    }
   ],
   "source": [
    "# Subsetting lists\n",
    "\n",
    "print(x[0][1])\n",
    "print(x[-1][1])\n",
    "x[0][1] + x[-1][1]"
   ]
  },
  {
   "cell_type": "code",
   "execution_count": 16,
   "id": "934c0019-9504-4912-a2aa-89a5a7a6a2c5",
   "metadata": {},
   "outputs": [
    {
     "name": "stdout",
     "output_type": "stream",
     "text": [
      "[2, 7]\n",
      "<class 'list'>\n",
      "[2]\n",
      "<class 'list'>\n",
      "2\n",
      "<class 'int'>\n"
     ]
    }
   ],
   "source": [
    "# Subsetting lists: slicing\n",
    "\n",
    "x = [2, 7, 1, 8]\n",
    "\n",
    "print(x[0:2])\n",
    "\n",
    "print(type(x[0:2]))\n",
    "\n",
    "print(x[0:1])\n",
    "print(type(x[0:1]))\n",
    "\n",
    "print(x[0])\n",
    "print(type(x[0]))"
   ]
  },
  {
   "cell_type": "code",
   "execution_count": 17,
   "id": "287ce621-24e3-4b5c-8b6f-1f4562dc31b3",
   "metadata": {},
   "outputs": [
    {
     "name": "stdout",
     "output_type": "stream",
     "text": [
      "[2, 7, 1, 8]\n",
      "[2, 7]\n",
      "[7, 1, 8]\n"
     ]
    }
   ],
   "source": [
    "# Subsetting lists: slicing\n",
    "\n",
    "print(x)\n",
    "\n",
    "print(x[:2]) # first two elements\n",
    "\n",
    "print(x[-3:]) # last three elements\n",
    "\n",
    "# See PEP8 Python style guide sections on spaces around operators https://peps.python.org/pep-0008/"
   ]
  },
  {
   "cell_type": "code",
   "execution_count": 18,
   "id": "7b1c24dd-b325-4ef8-a499-b0d18f043853",
   "metadata": {},
   "outputs": [
    {
     "name": "stdout",
     "output_type": "stream",
     "text": [
      "[2, 7, 1, 8]\n",
      "\n",
      "[2, 6, 1, 8]\n",
      "\n",
      "[2, 6, 3, 9]\n",
      "\n"
     ]
    }
   ],
   "source": [
    "# replace list elements\n",
    "\n",
    "x = [2, 7, 1, 8]\n",
    "print(x)\n",
    "print('')\n",
    "\n",
    "x[1] = 6 # replace 2nd element\n",
    "print(x)\n",
    "print('')\n",
    "\n",
    "x[-2:] = [3, 9] # replace the last 2 elements\n",
    "print(x)\n",
    "print('')"
   ]
  },
  {
   "cell_type": "code",
   "execution_count": 19,
   "id": "d0922850-c7cf-4ee4-b40b-b8b473ff36dc",
   "metadata": {},
   "outputs": [
    {
     "name": "stdout",
     "output_type": "stream",
     "text": [
      "[2, 7, 1, 8]\n",
      "\n"
     ]
    },
    {
     "data": {
      "text/plain": [
       "[2, 7, 1, 8, 2, 8]"
      ]
     },
     "execution_count": 19,
     "metadata": {},
     "output_type": "execute_result"
    }
   ],
   "source": [
    "# extend (add elements to) a list\n",
    "\n",
    "x = [2, 7, 1, 8]\n",
    "print(x)\n",
    "print('')\n",
    "\n",
    "x + [2, 8]"
   ]
  },
  {
   "cell_type": "code",
   "execution_count": 20,
   "id": "b3764943-e2dc-49d2-a168-bccaa392f10a",
   "metadata": {},
   "outputs": [
    {
     "data": {
      "text/plain": [
       "3"
      ]
     },
     "execution_count": 20,
     "metadata": {},
     "output_type": "execute_result"
    }
   ],
   "source": [
    "# access previous output/result of last evaluation\n",
    "\n",
    "1 + 2"
   ]
  },
  {
   "cell_type": "code",
   "execution_count": 21,
   "id": "8fe8f617-276b-4752-b146-61096033c93c",
   "metadata": {},
   "outputs": [
    {
     "data": {
      "text/plain": [
       "7"
      ]
     },
     "execution_count": 21,
     "metadata": {},
     "output_type": "execute_result"
    }
   ],
   "source": [
    "# access previous output/result of last evaluation\n",
    "\n",
    "4 + _"
   ]
  },
  {
   "cell_type": "code",
   "execution_count": 22,
   "id": "1bbe5c5a-bee9-4b6f-8b33-f27533b7f3c2",
   "metadata": {},
   "outputs": [
    {
     "data": {
      "text/plain": [
       "11"
      ]
     },
     "execution_count": 22,
     "metadata": {},
     "output_type": "execute_result"
    }
   ],
   "source": [
    "# access previous output/result of last evaluation\n",
    "\n",
    "8 + _20 # in a jupyter shell you can also access previous outputs by their number e.g. [20] would be _20"
   ]
  },
  {
   "cell_type": "code",
   "execution_count": 23,
   "id": "20add82b-d11c-4b98-af1b-c2bb54cc0e6e",
   "metadata": {},
   "outputs": [
    {
     "name": "stdout",
     "output_type": "stream",
     "text": [
      "[2, 7, 1, 8]\n",
      "\n",
      "[2, 1, 8]\n",
      "\n",
      "[2, 1]\n",
      "\n"
     ]
    }
   ],
   "source": [
    "# delete list elements\n",
    "\n",
    "x = [2, 7, 1, 8]\n",
    "print(x)\n",
    "print('')\n",
    "\n",
    "del(x[1])\n",
    "print(x)\n",
    "print('')\n",
    "\n",
    "del(x[-1])\n",
    "print(x)\n",
    "print('')"
   ]
  },
  {
   "cell_type": "code",
   "execution_count": 24,
   "id": "d4e1a561-61e6-4446-a6e7-8a46eb1098aa",
   "metadata": {},
   "outputs": [
    {
     "name": "stdout",
     "output_type": "stream",
     "text": [
      "[2, 7, 1, 8]\n",
      "\n",
      "[2, 7, 1, 8]\n",
      "\n",
      "[2, 7, 1]\n",
      "\n",
      "[2, 7, 1]\n",
      "\n"
     ]
    }
   ],
   "source": [
    "# copying lists (shallow vs deep?)\n",
    "\n",
    "x = [2, 7, 1, 8]\n",
    "print(x)\n",
    "print('')\n",
    "\n",
    "x_copy = x\n",
    "print(x_copy)\n",
    "print('')\n",
    "\n",
    "del(x_copy[-1])\n",
    "print(x_copy)\n",
    "print('')\n",
    "\n",
    "print(x)\n",
    "print('')\n",
    "\n",
    "# changing x_copy also changes x"
   ]
  },
  {
   "cell_type": "code",
   "execution_count": 25,
   "id": "71b7e58e-4764-45ae-b753-373505ae190c",
   "metadata": {},
   "outputs": [
    {
     "name": "stdout",
     "output_type": "stream",
     "text": [
      "[2, 7, 1, 8]\n",
      "\n",
      "[2, 7, 1, 8]\n",
      "\n",
      "[2, 7, 1]\n",
      "\n",
      "[2, 7, 1, 8]\n",
      "\n"
     ]
    }
   ],
   "source": [
    "# copying lists (shallow vs deep?)\n",
    "\n",
    "x = [2, 7, 1, 8]\n",
    "print(x)\n",
    "print('')\n",
    "\n",
    "x_copy = x[:] # copy using slicing\n",
    "print(x_copy)\n",
    "print('')\n",
    "\n",
    "del(x_copy[-1])\n",
    "print(x_copy)\n",
    "print('')\n",
    "\n",
    "print(x)\n",
    "print('')\n",
    "\n",
    "# changing x_copy does NOT change x"
   ]
  },
  {
   "cell_type": "code",
   "execution_count": 26,
   "id": "fbe39fa7-62bf-4606-b127-2e0558b1df84",
   "metadata": {},
   "outputs": [],
   "source": [
    "# https://campus.datacamp.com/courses/intro-to-python-for-data-science/chapter-3-functions-and-packages?ex=1\n",
    "# https://stackoverflow.com/questions/4794244/how-can-i-create-a-copy-of-an-object-in-python"
   ]
  },
  {
   "cell_type": "markdown",
   "id": "6a774592-0bc2-4d6d-88b5-a9777a088e7a",
   "metadata": {},
   "source": [
    "## Functions and Packages"
   ]
  },
  {
   "cell_type": "code",
   "execution_count": 27,
   "id": "bd2da95e-9ec9-41ca-b89b-d4036635441c",
   "metadata": {},
   "outputs": [
    {
     "name": "stdout",
     "output_type": "stream",
     "text": [
      "[2, 7, 1, 8] \n",
      "\n",
      "8 \n",
      "\n"
     ]
    }
   ],
   "source": [
    "# Functions\n",
    "\n",
    "x = [2, 7, 1, 8]\n",
    "print(x, '\\n')\n",
    "\n",
    "print(max(x), '\\n')"
   ]
  },
  {
   "cell_type": "code",
   "execution_count": 28,
   "id": "c6aff393-cbbc-4ab1-bf6c-d6e87c79bc7c",
   "metadata": {},
   "outputs": [
    {
     "name": "stdout",
     "output_type": "stream",
     "text": [
      "2.718 \n",
      "\n",
      "2.72 \n",
      "\n",
      "3 \n",
      "\n"
     ]
    }
   ],
   "source": [
    "# Functions\n",
    "\n",
    "x = 2.718\n",
    "print(x, '\\n')\n",
    "\n",
    "print(round(x, 2), '\\n')\n",
    "\n",
    "print(round(x), '\\n')"
   ]
  },
  {
   "cell_type": "code",
   "execution_count": 29,
   "id": "397da754-5744-439a-b339-0b12440985a1",
   "metadata": {},
   "outputs": [
    {
     "name": "stdout",
     "output_type": "stream",
     "text": [
      "Help on built-in function round in module builtins:\n",
      "\n",
      "round(number, ndigits=None)\n",
      "    Round a number to a given precision in decimal digits.\n",
      "    \n",
      "    The return value is an integer if ndigits is omitted or None.  Otherwise\n",
      "    the return value has the same type as the number.  ndigits may be negative.\n",
      "\n"
     ]
    }
   ],
   "source": [
    "# Get help on a function\n",
    "\n",
    "help(round)"
   ]
  },
  {
   "cell_type": "code",
   "execution_count": 30,
   "id": "76234c6d-b301-4e2e-9463-a9de105b01b5",
   "metadata": {},
   "outputs": [
    {
     "name": "stdout",
     "output_type": "stream",
     "text": [
      "2.718 \n",
      "\n",
      "0.0 \n",
      "\n"
     ]
    }
   ],
   "source": [
    "# function round with negative ndigits\n",
    "\n",
    "x = 2.718\n",
    "print(x, '\\n')\n",
    "\n",
    "print(round(x, -1), '\\n')"
   ]
  },
  {
   "cell_type": "code",
   "execution_count": 31,
   "id": "16c20825-2ac2-4be1-8b24-43c480bef06f",
   "metadata": {},
   "outputs": [
    {
     "name": "stdout",
     "output_type": "stream",
     "text": [
      "[2, 7, 1, 8] \n",
      "\n"
     ]
    },
    {
     "data": {
      "text/plain": [
       "4"
      ]
     },
     "execution_count": 31,
     "metadata": {},
     "output_type": "execute_result"
    }
   ],
   "source": [
    "# get length of a list\n",
    "\n",
    "x = [2, 7, 1, 8]\n",
    "print(x, '\\n')\n",
    "\n",
    "len(x)"
   ]
  },
  {
   "cell_type": "code",
   "execution_count": 32,
   "id": "2e44442c-d153-4490-9506-ee1c76b6b669",
   "metadata": {
    "tags": []
   },
   "outputs": [
    {
     "name": "stdout",
     "output_type": "stream",
     "text": [
      "Help on built-in function sorted in module builtins:\n",
      "\n",
      "sorted(iterable, /, *, key=None, reverse=False)\n",
      "    Return a new list containing all items from the iterable in ascending order.\n",
      "    \n",
      "    A custom key function can be supplied to customize the sort order, and the\n",
      "    reverse flag can be set to request the result in descending order.\n",
      "\n",
      "[2, 7, 1, 8] \n",
      "\n",
      "[1, 2, 7, 8] \n",
      "\n",
      "[8, 7, 2, 1] \n",
      "\n"
     ]
    }
   ],
   "source": [
    "# sort a list\n",
    "\n",
    "help(sorted)\n",
    "\n",
    "x = [2, 7, 1, 8]\n",
    "print(x, '\\n')\n",
    "\n",
    "print(sorted(x), '\\n') # default is ascending\n",
    "\n",
    "print(sorted(x, reverse=True), '\\n') # sort descending"
   ]
  },
  {
   "cell_type": "code",
   "execution_count": 33,
   "id": "0998467c-caf4-4b93-8a11-49a8cf872a42",
   "metadata": {},
   "outputs": [
    {
     "name": "stdout",
     "output_type": "stream",
     "text": [
      "[2, 7, 1, 8, 2, 8] \n",
      "\n",
      "0 \n",
      "\n",
      "2 \n",
      "\n"
     ]
    }
   ],
   "source": [
    "# methods aka functions that belong to objects\n",
    "\n",
    "x = [2, 7, 1, 8, 2, 8]\n",
    "print(x, '\\n')\n",
    "\n",
    "print(x.index(2), '\\n') # returns first index of 2\n",
    "\n",
    "print(x.count(2), '\\n')"
   ]
  },
  {
   "cell_type": "code",
   "execution_count": 34,
   "id": "ce5a5c28-8008-467a-89da-95a2427187ca",
   "metadata": {},
   "outputs": [
    {
     "name": "stdout",
     "output_type": "stream",
     "text": [
      "hello world \n",
      "\n",
      "Hello world \n",
      "\n",
      "hello world\n",
      "hello mundo\n"
     ]
    }
   ],
   "source": [
    "# string methods\n",
    "\n",
    "x = 'hello world'\n",
    "print(x, '\\n')\n",
    "\n",
    "print(x.capitalize(), '\\n')\n",
    "\n",
    "z = x.replace('world', 'mundo')\n",
    "\n",
    "print(x) # the capitalize & replace didn't change x\n",
    "print(z) # the replace applied to z but not x"
   ]
  },
  {
   "cell_type": "code",
   "execution_count": 35,
   "id": "39bdbe33-b082-428a-936f-d2f299527393",
   "metadata": {},
   "outputs": [
    {
     "name": "stdout",
     "output_type": "stream",
     "text": [
      "[2, 7, 1, 8, 2, 8] \n",
      "\n",
      "[2, 7, 1, 8, 2, 8, 1] \n",
      "\n"
     ]
    }
   ],
   "source": [
    "# list methods\n",
    "\n",
    "x = [2, 7, 1, 8, 2, 8]\n",
    "print(x, '\\n')\n",
    "\n",
    "x.append(1) # method changes the original list x\n",
    "print(x, '\\n')"
   ]
  },
  {
   "cell_type": "code",
   "execution_count": 36,
   "id": "300b6d7d-c78b-427c-9c18-2d7fadac8586",
   "metadata": {
    "tags": []
   },
   "outputs": [
    {
     "name": "stdout",
     "output_type": "stream",
     "text": [
      "Help on class str in module builtins:\n",
      "\n",
      "class str(object)\n",
      " |  str(object='') -> str\n",
      " |  str(bytes_or_buffer[, encoding[, errors]]) -> str\n",
      " |  \n",
      " |  Create a new string object from the given object. If encoding or\n",
      " |  errors is specified, then the object must expose a data buffer\n",
      " |  that will be decoded using the given encoding and error handler.\n",
      " |  Otherwise, returns the result of object.__str__() (if defined)\n",
      " |  or repr(object).\n",
      " |  encoding defaults to sys.getdefaultencoding().\n",
      " |  errors defaults to 'strict'.\n",
      " |  \n",
      " |  Methods defined here:\n",
      " |  \n",
      " |  __add__(self, value, /)\n",
      " |      Return self+value.\n",
      " |  \n",
      " |  __contains__(self, key, /)\n",
      " |      Return key in self.\n",
      " |  \n",
      " |  __eq__(self, value, /)\n",
      " |      Return self==value.\n",
      " |  \n",
      " |  __format__(self, format_spec, /)\n",
      " |      Return a formatted version of the string as described by format_spec.\n",
      " |  \n",
      " |  __ge__(self, value, /)\n",
      " |      Return self>=value.\n",
      " |  \n",
      " |  __getattribute__(self, name, /)\n",
      " |      Return getattr(self, name).\n",
      " |  \n",
      " |  __getitem__(self, key, /)\n",
      " |      Return self[key].\n",
      " |  \n",
      " |  __getnewargs__(...)\n",
      " |  \n",
      " |  __gt__(self, value, /)\n",
      " |      Return self>value.\n",
      " |  \n",
      " |  __hash__(self, /)\n",
      " |      Return hash(self).\n",
      " |  \n",
      " |  __iter__(self, /)\n",
      " |      Implement iter(self).\n",
      " |  \n",
      " |  __le__(self, value, /)\n",
      " |      Return self<=value.\n",
      " |  \n",
      " |  __len__(self, /)\n",
      " |      Return len(self).\n",
      " |  \n",
      " |  __lt__(self, value, /)\n",
      " |      Return self<value.\n",
      " |  \n",
      " |  __mod__(self, value, /)\n",
      " |      Return self%value.\n",
      " |  \n",
      " |  __mul__(self, value, /)\n",
      " |      Return self*value.\n",
      " |  \n",
      " |  __ne__(self, value, /)\n",
      " |      Return self!=value.\n",
      " |  \n",
      " |  __repr__(self, /)\n",
      " |      Return repr(self).\n",
      " |  \n",
      " |  __rmod__(self, value, /)\n",
      " |      Return value%self.\n",
      " |  \n",
      " |  __rmul__(self, value, /)\n",
      " |      Return value*self.\n",
      " |  \n",
      " |  __sizeof__(self, /)\n",
      " |      Return the size of the string in memory, in bytes.\n",
      " |  \n",
      " |  __str__(self, /)\n",
      " |      Return str(self).\n",
      " |  \n",
      " |  capitalize(self, /)\n",
      " |      Return a capitalized version of the string.\n",
      " |      \n",
      " |      More specifically, make the first character have upper case and the rest lower\n",
      " |      case.\n",
      " |  \n",
      " |  casefold(self, /)\n",
      " |      Return a version of the string suitable for caseless comparisons.\n",
      " |  \n",
      " |  center(self, width, fillchar=' ', /)\n",
      " |      Return a centered string of length width.\n",
      " |      \n",
      " |      Padding is done using the specified fill character (default is a space).\n",
      " |  \n",
      " |  count(...)\n",
      " |      S.count(sub[, start[, end]]) -> int\n",
      " |      \n",
      " |      Return the number of non-overlapping occurrences of substring sub in\n",
      " |      string S[start:end].  Optional arguments start and end are\n",
      " |      interpreted as in slice notation.\n",
      " |  \n",
      " |  encode(self, /, encoding='utf-8', errors='strict')\n",
      " |      Encode the string using the codec registered for encoding.\n",
      " |      \n",
      " |      encoding\n",
      " |        The encoding in which to encode the string.\n",
      " |      errors\n",
      " |        The error handling scheme to use for encoding errors.\n",
      " |        The default is 'strict' meaning that encoding errors raise a\n",
      " |        UnicodeEncodeError.  Other possible values are 'ignore', 'replace' and\n",
      " |        'xmlcharrefreplace' as well as any other name registered with\n",
      " |        codecs.register_error that can handle UnicodeEncodeErrors.\n",
      " |  \n",
      " |  endswith(...)\n",
      " |      S.endswith(suffix[, start[, end]]) -> bool\n",
      " |      \n",
      " |      Return True if S ends with the specified suffix, False otherwise.\n",
      " |      With optional start, test S beginning at that position.\n",
      " |      With optional end, stop comparing S at that position.\n",
      " |      suffix can also be a tuple of strings to try.\n",
      " |  \n",
      " |  expandtabs(self, /, tabsize=8)\n",
      " |      Return a copy where all tab characters are expanded using spaces.\n",
      " |      \n",
      " |      If tabsize is not given, a tab size of 8 characters is assumed.\n",
      " |  \n",
      " |  find(...)\n",
      " |      S.find(sub[, start[, end]]) -> int\n",
      " |      \n",
      " |      Return the lowest index in S where substring sub is found,\n",
      " |      such that sub is contained within S[start:end].  Optional\n",
      " |      arguments start and end are interpreted as in slice notation.\n",
      " |      \n",
      " |      Return -1 on failure.\n",
      " |  \n",
      " |  format(...)\n",
      " |      S.format(*args, **kwargs) -> str\n",
      " |      \n",
      " |      Return a formatted version of S, using substitutions from args and kwargs.\n",
      " |      The substitutions are identified by braces ('{' and '}').\n",
      " |  \n",
      " |  format_map(...)\n",
      " |      S.format_map(mapping) -> str\n",
      " |      \n",
      " |      Return a formatted version of S, using substitutions from mapping.\n",
      " |      The substitutions are identified by braces ('{' and '}').\n",
      " |  \n",
      " |  index(...)\n",
      " |      S.index(sub[, start[, end]]) -> int\n",
      " |      \n",
      " |      Return the lowest index in S where substring sub is found,\n",
      " |      such that sub is contained within S[start:end].  Optional\n",
      " |      arguments start and end are interpreted as in slice notation.\n",
      " |      \n",
      " |      Raises ValueError when the substring is not found.\n",
      " |  \n",
      " |  isalnum(self, /)\n",
      " |      Return True if the string is an alpha-numeric string, False otherwise.\n",
      " |      \n",
      " |      A string is alpha-numeric if all characters in the string are alpha-numeric and\n",
      " |      there is at least one character in the string.\n",
      " |  \n",
      " |  isalpha(self, /)\n",
      " |      Return True if the string is an alphabetic string, False otherwise.\n",
      " |      \n",
      " |      A string is alphabetic if all characters in the string are alphabetic and there\n",
      " |      is at least one character in the string.\n",
      " |  \n",
      " |  isascii(self, /)\n",
      " |      Return True if all characters in the string are ASCII, False otherwise.\n",
      " |      \n",
      " |      ASCII characters have code points in the range U+0000-U+007F.\n",
      " |      Empty string is ASCII too.\n",
      " |  \n",
      " |  isdecimal(self, /)\n",
      " |      Return True if the string is a decimal string, False otherwise.\n",
      " |      \n",
      " |      A string is a decimal string if all characters in the string are decimal and\n",
      " |      there is at least one character in the string.\n",
      " |  \n",
      " |  isdigit(self, /)\n",
      " |      Return True if the string is a digit string, False otherwise.\n",
      " |      \n",
      " |      A string is a digit string if all characters in the string are digits and there\n",
      " |      is at least one character in the string.\n",
      " |  \n",
      " |  isidentifier(self, /)\n",
      " |      Return True if the string is a valid Python identifier, False otherwise.\n",
      " |      \n",
      " |      Call keyword.iskeyword(s) to test whether string s is a reserved identifier,\n",
      " |      such as \"def\" or \"class\".\n",
      " |  \n",
      " |  islower(self, /)\n",
      " |      Return True if the string is a lowercase string, False otherwise.\n",
      " |      \n",
      " |      A string is lowercase if all cased characters in the string are lowercase and\n",
      " |      there is at least one cased character in the string.\n",
      " |  \n",
      " |  isnumeric(self, /)\n",
      " |      Return True if the string is a numeric string, False otherwise.\n",
      " |      \n",
      " |      A string is numeric if all characters in the string are numeric and there is at\n",
      " |      least one character in the string.\n",
      " |  \n",
      " |  isprintable(self, /)\n",
      " |      Return True if the string is printable, False otherwise.\n",
      " |      \n",
      " |      A string is printable if all of its characters are considered printable in\n",
      " |      repr() or if it is empty.\n",
      " |  \n",
      " |  isspace(self, /)\n",
      " |      Return True if the string is a whitespace string, False otherwise.\n",
      " |      \n",
      " |      A string is whitespace if all characters in the string are whitespace and there\n",
      " |      is at least one character in the string.\n",
      " |  \n",
      " |  istitle(self, /)\n",
      " |      Return True if the string is a title-cased string, False otherwise.\n",
      " |      \n",
      " |      In a title-cased string, upper- and title-case characters may only\n",
      " |      follow uncased characters and lowercase characters only cased ones.\n",
      " |  \n",
      " |  isupper(self, /)\n",
      " |      Return True if the string is an uppercase string, False otherwise.\n",
      " |      \n",
      " |      A string is uppercase if all cased characters in the string are uppercase and\n",
      " |      there is at least one cased character in the string.\n",
      " |  \n",
      " |  join(self, iterable, /)\n",
      " |      Concatenate any number of strings.\n",
      " |      \n",
      " |      The string whose method is called is inserted in between each given string.\n",
      " |      The result is returned as a new string.\n",
      " |      \n",
      " |      Example: '.'.join(['ab', 'pq', 'rs']) -> 'ab.pq.rs'\n",
      " |  \n",
      " |  ljust(self, width, fillchar=' ', /)\n",
      " |      Return a left-justified string of length width.\n",
      " |      \n",
      " |      Padding is done using the specified fill character (default is a space).\n",
      " |  \n",
      " |  lower(self, /)\n",
      " |      Return a copy of the string converted to lowercase.\n",
      " |  \n",
      " |  lstrip(self, chars=None, /)\n",
      " |      Return a copy of the string with leading whitespace removed.\n",
      " |      \n",
      " |      If chars is given and not None, remove characters in chars instead.\n",
      " |  \n",
      " |  partition(self, sep, /)\n",
      " |      Partition the string into three parts using the given separator.\n",
      " |      \n",
      " |      This will search for the separator in the string.  If the separator is found,\n",
      " |      returns a 3-tuple containing the part before the separator, the separator\n",
      " |      itself, and the part after it.\n",
      " |      \n",
      " |      If the separator is not found, returns a 3-tuple containing the original string\n",
      " |      and two empty strings.\n",
      " |  \n",
      " |  removeprefix(self, prefix, /)\n",
      " |      Return a str with the given prefix string removed if present.\n",
      " |      \n",
      " |      If the string starts with the prefix string, return string[len(prefix):].\n",
      " |      Otherwise, return a copy of the original string.\n",
      " |  \n",
      " |  removesuffix(self, suffix, /)\n",
      " |      Return a str with the given suffix string removed if present.\n",
      " |      \n",
      " |      If the string ends with the suffix string and that suffix is not empty,\n",
      " |      return string[:-len(suffix)]. Otherwise, return a copy of the original\n",
      " |      string.\n",
      " |  \n",
      " |  replace(self, old, new, count=-1, /)\n",
      " |      Return a copy with all occurrences of substring old replaced by new.\n",
      " |      \n",
      " |        count\n",
      " |          Maximum number of occurrences to replace.\n",
      " |          -1 (the default value) means replace all occurrences.\n",
      " |      \n",
      " |      If the optional argument count is given, only the first count occurrences are\n",
      " |      replaced.\n",
      " |  \n",
      " |  rfind(...)\n",
      " |      S.rfind(sub[, start[, end]]) -> int\n",
      " |      \n",
      " |      Return the highest index in S where substring sub is found,\n",
      " |      such that sub is contained within S[start:end].  Optional\n",
      " |      arguments start and end are interpreted as in slice notation.\n",
      " |      \n",
      " |      Return -1 on failure.\n",
      " |  \n",
      " |  rindex(...)\n",
      " |      S.rindex(sub[, start[, end]]) -> int\n",
      " |      \n",
      " |      Return the highest index in S where substring sub is found,\n",
      " |      such that sub is contained within S[start:end].  Optional\n",
      " |      arguments start and end are interpreted as in slice notation.\n",
      " |      \n",
      " |      Raises ValueError when the substring is not found.\n",
      " |  \n",
      " |  rjust(self, width, fillchar=' ', /)\n",
      " |      Return a right-justified string of length width.\n",
      " |      \n",
      " |      Padding is done using the specified fill character (default is a space).\n",
      " |  \n",
      " |  rpartition(self, sep, /)\n",
      " |      Partition the string into three parts using the given separator.\n",
      " |      \n",
      " |      This will search for the separator in the string, starting at the end. If\n",
      " |      the separator is found, returns a 3-tuple containing the part before the\n",
      " |      separator, the separator itself, and the part after it.\n",
      " |      \n",
      " |      If the separator is not found, returns a 3-tuple containing two empty strings\n",
      " |      and the original string.\n",
      " |  \n",
      " |  rsplit(self, /, sep=None, maxsplit=-1)\n",
      " |      Return a list of the words in the string, using sep as the delimiter string.\n",
      " |      \n",
      " |        sep\n",
      " |          The delimiter according which to split the string.\n",
      " |          None (the default value) means split according to any whitespace,\n",
      " |          and discard empty strings from the result.\n",
      " |        maxsplit\n",
      " |          Maximum number of splits to do.\n",
      " |          -1 (the default value) means no limit.\n",
      " |      \n",
      " |      Splits are done starting at the end of the string and working to the front.\n",
      " |  \n",
      " |  rstrip(self, chars=None, /)\n",
      " |      Return a copy of the string with trailing whitespace removed.\n",
      " |      \n",
      " |      If chars is given and not None, remove characters in chars instead.\n",
      " |  \n",
      " |  split(self, /, sep=None, maxsplit=-1)\n",
      " |      Return a list of the words in the string, using sep as the delimiter string.\n",
      " |      \n",
      " |      sep\n",
      " |        The delimiter according which to split the string.\n",
      " |        None (the default value) means split according to any whitespace,\n",
      " |        and discard empty strings from the result.\n",
      " |      maxsplit\n",
      " |        Maximum number of splits to do.\n",
      " |        -1 (the default value) means no limit.\n",
      " |  \n",
      " |  splitlines(self, /, keepends=False)\n",
      " |      Return a list of the lines in the string, breaking at line boundaries.\n",
      " |      \n",
      " |      Line breaks are not included in the resulting list unless keepends is given and\n",
      " |      true.\n",
      " |  \n",
      " |  startswith(...)\n",
      " |      S.startswith(prefix[, start[, end]]) -> bool\n",
      " |      \n",
      " |      Return True if S starts with the specified prefix, False otherwise.\n",
      " |      With optional start, test S beginning at that position.\n",
      " |      With optional end, stop comparing S at that position.\n",
      " |      prefix can also be a tuple of strings to try.\n",
      " |  \n",
      " |  strip(self, chars=None, /)\n",
      " |      Return a copy of the string with leading and trailing whitespace removed.\n",
      " |      \n",
      " |      If chars is given and not None, remove characters in chars instead.\n",
      " |  \n",
      " |  swapcase(self, /)\n",
      " |      Convert uppercase characters to lowercase and lowercase characters to uppercase.\n",
      " |  \n",
      " |  title(self, /)\n",
      " |      Return a version of the string where each word is titlecased.\n",
      " |      \n",
      " |      More specifically, words start with uppercased characters and all remaining\n",
      " |      cased characters have lower case.\n",
      " |  \n",
      " |  translate(self, table, /)\n",
      " |      Replace each character in the string using the given translation table.\n",
      " |      \n",
      " |        table\n",
      " |          Translation table, which must be a mapping of Unicode ordinals to\n",
      " |          Unicode ordinals, strings, or None.\n",
      " |      \n",
      " |      The table must implement lookup/indexing via __getitem__, for instance a\n",
      " |      dictionary or list.  If this operation raises LookupError, the character is\n",
      " |      left untouched.  Characters mapped to None are deleted.\n",
      " |  \n",
      " |  upper(self, /)\n",
      " |      Return a copy of the string converted to uppercase.\n",
      " |  \n",
      " |  zfill(self, width, /)\n",
      " |      Pad a numeric string with zeros on the left, to fill a field of the given width.\n",
      " |      \n",
      " |      The string is never truncated.\n",
      " |  \n",
      " |  ----------------------------------------------------------------------\n",
      " |  Static methods defined here:\n",
      " |  \n",
      " |  __new__(*args, **kwargs) from builtins.type\n",
      " |      Create and return a new object.  See help(type) for accurate signature.\n",
      " |  \n",
      " |  maketrans(...)\n",
      " |      Return a translation table usable for str.translate().\n",
      " |      \n",
      " |      If there is only one argument, it must be a dictionary mapping Unicode\n",
      " |      ordinals (integers) or characters to Unicode ordinals, strings or None.\n",
      " |      Character keys will be then converted to ordinals.\n",
      " |      If there are two arguments, they must be strings of equal length, and\n",
      " |      in the resulting dictionary, each character in x will be mapped to the\n",
      " |      character at the same position in y. If there is a third argument, it\n",
      " |      must be a string, whose characters will be mapped to None in the result.\n",
      "\n"
     ]
    }
   ],
   "source": [
    "# what are the methods for strings?\n",
    "\n",
    "help(str)"
   ]
  },
  {
   "cell_type": "code",
   "execution_count": 37,
   "id": "3f4a1d04-2617-426c-a77d-6ccf4c0ee93b",
   "metadata": {},
   "outputs": [
    {
     "name": "stdout",
     "output_type": "stream",
     "text": [
      "hello world \n",
      "\n",
      "HELLO WORLD\n",
      "hello world \n",
      "\n"
     ]
    },
    {
     "data": {
      "text/plain": [
       "2"
      ]
     },
     "execution_count": 37,
     "metadata": {},
     "output_type": "execute_result"
    }
   ],
   "source": [
    "# string methods\n",
    "\n",
    "x = 'hello world'\n",
    "print(x, '\\n')\n",
    "\n",
    "y = x.upper() # to all caps (uppercase)\n",
    "print(y)\n",
    "print(x, '\\n') # x was not changed\n",
    "\n",
    "x.count('o') # count occurences of 'o'"
   ]
  },
  {
   "cell_type": "code",
   "execution_count": 38,
   "id": "5f61d4f2-1991-4475-839e-97d03a4a2f49",
   "metadata": {},
   "outputs": [
    {
     "name": "stdout",
     "output_type": "stream",
     "text": [
      "[2, 7, 1, 8, 2, 8] \n",
      "\n",
      "3 \n",
      "\n"
     ]
    },
    {
     "data": {
      "text/plain": [
       "2"
      ]
     },
     "execution_count": 38,
     "metadata": {},
     "output_type": "execute_result"
    }
   ],
   "source": [
    "# list methods\n",
    "\n",
    "x = [2, 7, 1, 8, 2, 8]\n",
    "print(x, '\\n')\n",
    "\n",
    "print(x.index(8), '\\n') # returns first location of '8'\n",
    "\n",
    "x.count(2) # how many times does '2' appear in list x?"
   ]
  },
  {
   "cell_type": "code",
   "execution_count": 39,
   "id": "c5c473c9-ca0b-4c6b-9e99-6a994a3db04b",
   "metadata": {},
   "outputs": [
    {
     "name": "stdout",
     "output_type": "stream",
     "text": [
      "[2, 7, 1, 8, 2, 8] \n",
      "\n",
      "[2, 7, 1, 8, 2, 8, 1] \n",
      "\n",
      "[7, 1, 8, 2, 8, 1] \n",
      "\n",
      "[1, 8, 2, 8, 1, 7]\n"
     ]
    }
   ],
   "source": [
    "# list methods\n",
    "\n",
    "x = [2, 7, 1, 8, 2, 8]\n",
    "print(x, '\\n')\n",
    "\n",
    "x.append(1) # add 1 to the end of x\n",
    "print(x, '\\n') # x is changed\n",
    "\n",
    "x.remove(2) # removes first 2 in x\n",
    "print(x, '\\n') # x is changed\n",
    "\n",
    "x.reverse() # reverses x\n",
    "print(x) # x is changed"
   ]
  },
  {
   "cell_type": "code",
   "execution_count": 40,
   "id": "0d83ef3d-c70e-414c-bca3-92353e30e92a",
   "metadata": {},
   "outputs": [
    {
     "name": "stdout",
     "output_type": "stream",
     "text": [
      "Help on class list in module builtins:\n",
      "\n",
      "class list(object)\n",
      " |  list(iterable=(), /)\n",
      " |  \n",
      " |  Built-in mutable sequence.\n",
      " |  \n",
      " |  If no argument is given, the constructor creates a new empty list.\n",
      " |  The argument must be an iterable if specified.\n",
      " |  \n",
      " |  Methods defined here:\n",
      " |  \n",
      " |  __add__(self, value, /)\n",
      " |      Return self+value.\n",
      " |  \n",
      " |  __contains__(self, key, /)\n",
      " |      Return key in self.\n",
      " |  \n",
      " |  __delitem__(self, key, /)\n",
      " |      Delete self[key].\n",
      " |  \n",
      " |  __eq__(self, value, /)\n",
      " |      Return self==value.\n",
      " |  \n",
      " |  __ge__(self, value, /)\n",
      " |      Return self>=value.\n",
      " |  \n",
      " |  __getattribute__(self, name, /)\n",
      " |      Return getattr(self, name).\n",
      " |  \n",
      " |  __getitem__(...)\n",
      " |      x.__getitem__(y) <==> x[y]\n",
      " |  \n",
      " |  __gt__(self, value, /)\n",
      " |      Return self>value.\n",
      " |  \n",
      " |  __iadd__(self, value, /)\n",
      " |      Implement self+=value.\n",
      " |  \n",
      " |  __imul__(self, value, /)\n",
      " |      Implement self*=value.\n",
      " |  \n",
      " |  __init__(self, /, *args, **kwargs)\n",
      " |      Initialize self.  See help(type(self)) for accurate signature.\n",
      " |  \n",
      " |  __iter__(self, /)\n",
      " |      Implement iter(self).\n",
      " |  \n",
      " |  __le__(self, value, /)\n",
      " |      Return self<=value.\n",
      " |  \n",
      " |  __len__(self, /)\n",
      " |      Return len(self).\n",
      " |  \n",
      " |  __lt__(self, value, /)\n",
      " |      Return self<value.\n",
      " |  \n",
      " |  __mul__(self, value, /)\n",
      " |      Return self*value.\n",
      " |  \n",
      " |  __ne__(self, value, /)\n",
      " |      Return self!=value.\n",
      " |  \n",
      " |  __repr__(self, /)\n",
      " |      Return repr(self).\n",
      " |  \n",
      " |  __reversed__(self, /)\n",
      " |      Return a reverse iterator over the list.\n",
      " |  \n",
      " |  __rmul__(self, value, /)\n",
      " |      Return value*self.\n",
      " |  \n",
      " |  __setitem__(self, key, value, /)\n",
      " |      Set self[key] to value.\n",
      " |  \n",
      " |  __sizeof__(self, /)\n",
      " |      Return the size of the list in memory, in bytes.\n",
      " |  \n",
      " |  append(self, object, /)\n",
      " |      Append object to the end of the list.\n",
      " |  \n",
      " |  clear(self, /)\n",
      " |      Remove all items from list.\n",
      " |  \n",
      " |  copy(self, /)\n",
      " |      Return a shallow copy of the list.\n",
      " |  \n",
      " |  count(self, value, /)\n",
      " |      Return number of occurrences of value.\n",
      " |  \n",
      " |  extend(self, iterable, /)\n",
      " |      Extend list by appending elements from the iterable.\n",
      " |  \n",
      " |  index(self, value, start=0, stop=9223372036854775807, /)\n",
      " |      Return first index of value.\n",
      " |      \n",
      " |      Raises ValueError if the value is not present.\n",
      " |  \n",
      " |  insert(self, index, object, /)\n",
      " |      Insert object before index.\n",
      " |  \n",
      " |  pop(self, index=-1, /)\n",
      " |      Remove and return item at index (default last).\n",
      " |      \n",
      " |      Raises IndexError if list is empty or index is out of range.\n",
      " |  \n",
      " |  remove(self, value, /)\n",
      " |      Remove first occurrence of value.\n",
      " |      \n",
      " |      Raises ValueError if the value is not present.\n",
      " |  \n",
      " |  reverse(self, /)\n",
      " |      Reverse *IN PLACE*.\n",
      " |  \n",
      " |  sort(self, /, *, key=None, reverse=False)\n",
      " |      Sort the list in ascending order and return None.\n",
      " |      \n",
      " |      The sort is in-place (i.e. the list itself is modified) and stable (i.e. the\n",
      " |      order of two equal elements is maintained).\n",
      " |      \n",
      " |      If a key function is given, apply it once to each list item and sort them,\n",
      " |      ascending or descending, according to their function values.\n",
      " |      \n",
      " |      The reverse flag can be set to sort in descending order.\n",
      " |  \n",
      " |  ----------------------------------------------------------------------\n",
      " |  Class methods defined here:\n",
      " |  \n",
      " |  __class_getitem__(...) from builtins.type\n",
      " |      See PEP 585\n",
      " |  \n",
      " |  ----------------------------------------------------------------------\n",
      " |  Static methods defined here:\n",
      " |  \n",
      " |  __new__(*args, **kwargs) from builtins.type\n",
      " |      Create and return a new object.  See help(type) for accurate signature.\n",
      " |  \n",
      " |  ----------------------------------------------------------------------\n",
      " |  Data and other attributes defined here:\n",
      " |  \n",
      " |  __hash__ = None\n",
      "\n"
     ]
    }
   ],
   "source": [
    "# what are the list methods?\n",
    "\n",
    "help(list)"
   ]
  },
  {
   "cell_type": "code",
   "execution_count": 41,
   "id": "fbb66b45-8e6d-4305-9843-d45e7fe258c1",
   "metadata": {
    "tags": []
   },
   "outputs": [
    {
     "name": "stdout",
     "output_type": "stream",
     "text": [
      "Help on module math:\n",
      "\n",
      "NAME\n",
      "    math\n",
      "\n",
      "MODULE REFERENCE\n",
      "    https://docs.python.org/3.9/library/math\n",
      "    \n",
      "    The following documentation is automatically generated from the Python\n",
      "    source files.  It may be incomplete, incorrect or include features that\n",
      "    are considered implementation detail and may vary between Python\n",
      "    implementations.  When in doubt, consult the module reference at the\n",
      "    location listed above.\n",
      "\n",
      "DESCRIPTION\n",
      "    This module provides access to the mathematical functions\n",
      "    defined by the C standard.\n",
      "\n",
      "FUNCTIONS\n",
      "    acos(x, /)\n",
      "        Return the arc cosine (measured in radians) of x.\n",
      "        \n",
      "        The result is between 0 and pi.\n",
      "    \n",
      "    acosh(x, /)\n",
      "        Return the inverse hyperbolic cosine of x.\n",
      "    \n",
      "    asin(x, /)\n",
      "        Return the arc sine (measured in radians) of x.\n",
      "        \n",
      "        The result is between -pi/2 and pi/2.\n",
      "    \n",
      "    asinh(x, /)\n",
      "        Return the inverse hyperbolic sine of x.\n",
      "    \n",
      "    atan(x, /)\n",
      "        Return the arc tangent (measured in radians) of x.\n",
      "        \n",
      "        The result is between -pi/2 and pi/2.\n",
      "    \n",
      "    atan2(y, x, /)\n",
      "        Return the arc tangent (measured in radians) of y/x.\n",
      "        \n",
      "        Unlike atan(y/x), the signs of both x and y are considered.\n",
      "    \n",
      "    atanh(x, /)\n",
      "        Return the inverse hyperbolic tangent of x.\n",
      "    \n",
      "    ceil(x, /)\n",
      "        Return the ceiling of x as an Integral.\n",
      "        \n",
      "        This is the smallest integer >= x.\n",
      "    \n",
      "    comb(n, k, /)\n",
      "        Number of ways to choose k items from n items without repetition and without order.\n",
      "        \n",
      "        Evaluates to n! / (k! * (n - k)!) when k <= n and evaluates\n",
      "        to zero when k > n.\n",
      "        \n",
      "        Also called the binomial coefficient because it is equivalent\n",
      "        to the coefficient of k-th term in polynomial expansion of the\n",
      "        expression (1 + x)**n.\n",
      "        \n",
      "        Raises TypeError if either of the arguments are not integers.\n",
      "        Raises ValueError if either of the arguments are negative.\n",
      "    \n",
      "    copysign(x, y, /)\n",
      "        Return a float with the magnitude (absolute value) of x but the sign of y.\n",
      "        \n",
      "        On platforms that support signed zeros, copysign(1.0, -0.0)\n",
      "        returns -1.0.\n",
      "    \n",
      "    cos(x, /)\n",
      "        Return the cosine of x (measured in radians).\n",
      "    \n",
      "    cosh(x, /)\n",
      "        Return the hyperbolic cosine of x.\n",
      "    \n",
      "    degrees(x, /)\n",
      "        Convert angle x from radians to degrees.\n",
      "    \n",
      "    dist(p, q, /)\n",
      "        Return the Euclidean distance between two points p and q.\n",
      "        \n",
      "        The points should be specified as sequences (or iterables) of\n",
      "        coordinates.  Both inputs must have the same dimension.\n",
      "        \n",
      "        Roughly equivalent to:\n",
      "            sqrt(sum((px - qx) ** 2.0 for px, qx in zip(p, q)))\n",
      "    \n",
      "    erf(x, /)\n",
      "        Error function at x.\n",
      "    \n",
      "    erfc(x, /)\n",
      "        Complementary error function at x.\n",
      "    \n",
      "    exp(x, /)\n",
      "        Return e raised to the power of x.\n",
      "    \n",
      "    expm1(x, /)\n",
      "        Return exp(x)-1.\n",
      "        \n",
      "        This function avoids the loss of precision involved in the direct evaluation of exp(x)-1 for small x.\n",
      "    \n",
      "    fabs(x, /)\n",
      "        Return the absolute value of the float x.\n",
      "    \n",
      "    factorial(x, /)\n",
      "        Find x!.\n",
      "        \n",
      "        Raise a ValueError if x is negative or non-integral.\n",
      "    \n",
      "    floor(x, /)\n",
      "        Return the floor of x as an Integral.\n",
      "        \n",
      "        This is the largest integer <= x.\n",
      "    \n",
      "    fmod(x, y, /)\n",
      "        Return fmod(x, y), according to platform C.\n",
      "        \n",
      "        x % y may differ.\n",
      "    \n",
      "    frexp(x, /)\n",
      "        Return the mantissa and exponent of x, as pair (m, e).\n",
      "        \n",
      "        m is a float and e is an int, such that x = m * 2.**e.\n",
      "        If x is 0, m and e are both 0.  Else 0.5 <= abs(m) < 1.0.\n",
      "    \n",
      "    fsum(seq, /)\n",
      "        Return an accurate floating point sum of values in the iterable seq.\n",
      "        \n",
      "        Assumes IEEE-754 floating point arithmetic.\n",
      "    \n",
      "    gamma(x, /)\n",
      "        Gamma function at x.\n",
      "    \n",
      "    gcd(*integers)\n",
      "        Greatest Common Divisor.\n",
      "    \n",
      "    hypot(...)\n",
      "        hypot(*coordinates) -> value\n",
      "        \n",
      "        Multidimensional Euclidean distance from the origin to a point.\n",
      "        \n",
      "        Roughly equivalent to:\n",
      "            sqrt(sum(x**2 for x in coordinates))\n",
      "        \n",
      "        For a two dimensional point (x, y), gives the hypotenuse\n",
      "        using the Pythagorean theorem:  sqrt(x*x + y*y).\n",
      "        \n",
      "        For example, the hypotenuse of a 3/4/5 right triangle is:\n",
      "        \n",
      "            >>> hypot(3.0, 4.0)\n",
      "            5.0\n",
      "    \n",
      "    isclose(a, b, *, rel_tol=1e-09, abs_tol=0.0)\n",
      "        Determine whether two floating point numbers are close in value.\n",
      "        \n",
      "          rel_tol\n",
      "            maximum difference for being considered \"close\", relative to the\n",
      "            magnitude of the input values\n",
      "          abs_tol\n",
      "            maximum difference for being considered \"close\", regardless of the\n",
      "            magnitude of the input values\n",
      "        \n",
      "        Return True if a is close in value to b, and False otherwise.\n",
      "        \n",
      "        For the values to be considered close, the difference between them\n",
      "        must be smaller than at least one of the tolerances.\n",
      "        \n",
      "        -inf, inf and NaN behave similarly to the IEEE 754 Standard.  That\n",
      "        is, NaN is not close to anything, even itself.  inf and -inf are\n",
      "        only close to themselves.\n",
      "    \n",
      "    isfinite(x, /)\n",
      "        Return True if x is neither an infinity nor a NaN, and False otherwise.\n",
      "    \n",
      "    isinf(x, /)\n",
      "        Return True if x is a positive or negative infinity, and False otherwise.\n",
      "    \n",
      "    isnan(x, /)\n",
      "        Return True if x is a NaN (not a number), and False otherwise.\n",
      "    \n",
      "    isqrt(n, /)\n",
      "        Return the integer part of the square root of the input.\n",
      "    \n",
      "    lcm(*integers)\n",
      "        Least Common Multiple.\n",
      "    \n",
      "    ldexp(x, i, /)\n",
      "        Return x * (2**i).\n",
      "        \n",
      "        This is essentially the inverse of frexp().\n",
      "    \n",
      "    lgamma(x, /)\n",
      "        Natural logarithm of absolute value of Gamma function at x.\n",
      "    \n",
      "    log(...)\n",
      "        log(x, [base=math.e])\n",
      "        Return the logarithm of x to the given base.\n",
      "        \n",
      "        If the base not specified, returns the natural logarithm (base e) of x.\n",
      "    \n",
      "    log10(x, /)\n",
      "        Return the base 10 logarithm of x.\n",
      "    \n",
      "    log1p(x, /)\n",
      "        Return the natural logarithm of 1+x (base e).\n",
      "        \n",
      "        The result is computed in a way which is accurate for x near zero.\n",
      "    \n",
      "    log2(x, /)\n",
      "        Return the base 2 logarithm of x.\n",
      "    \n",
      "    modf(x, /)\n",
      "        Return the fractional and integer parts of x.\n",
      "        \n",
      "        Both results carry the sign of x and are floats.\n",
      "    \n",
      "    nextafter(x, y, /)\n",
      "        Return the next floating-point value after x towards y.\n",
      "    \n",
      "    perm(n, k=None, /)\n",
      "        Number of ways to choose k items from n items without repetition and with order.\n",
      "        \n",
      "        Evaluates to n! / (n - k)! when k <= n and evaluates\n",
      "        to zero when k > n.\n",
      "        \n",
      "        If k is not specified or is None, then k defaults to n\n",
      "        and the function returns n!.\n",
      "        \n",
      "        Raises TypeError if either of the arguments are not integers.\n",
      "        Raises ValueError if either of the arguments are negative.\n",
      "    \n",
      "    pow(x, y, /)\n",
      "        Return x**y (x to the power of y).\n",
      "    \n",
      "    prod(iterable, /, *, start=1)\n",
      "        Calculate the product of all the elements in the input iterable.\n",
      "        \n",
      "        The default start value for the product is 1.\n",
      "        \n",
      "        When the iterable is empty, return the start value.  This function is\n",
      "        intended specifically for use with numeric values and may reject\n",
      "        non-numeric types.\n",
      "    \n",
      "    radians(x, /)\n",
      "        Convert angle x from degrees to radians.\n",
      "    \n",
      "    remainder(x, y, /)\n",
      "        Difference between x and the closest integer multiple of y.\n",
      "        \n",
      "        Return x - n*y where n*y is the closest integer multiple of y.\n",
      "        In the case where x is exactly halfway between two multiples of\n",
      "        y, the nearest even value of n is used. The result is always exact.\n",
      "    \n",
      "    sin(x, /)\n",
      "        Return the sine of x (measured in radians).\n",
      "    \n",
      "    sinh(x, /)\n",
      "        Return the hyperbolic sine of x.\n",
      "    \n",
      "    sqrt(x, /)\n",
      "        Return the square root of x.\n",
      "    \n",
      "    tan(x, /)\n",
      "        Return the tangent of x (measured in radians).\n",
      "    \n",
      "    tanh(x, /)\n",
      "        Return the hyperbolic tangent of x.\n",
      "    \n",
      "    trunc(x, /)\n",
      "        Truncates the Real x to the nearest Integral toward 0.\n",
      "        \n",
      "        Uses the __trunc__ magic method.\n",
      "    \n",
      "    ulp(x, /)\n",
      "        Return the value of the least significant bit of the float x.\n",
      "\n",
      "DATA\n",
      "    e = 2.718281828459045\n",
      "    inf = inf\n",
      "    nan = nan\n",
      "    pi = 3.141592653589793\n",
      "    tau = 6.283185307179586\n",
      "\n",
      "FILE\n",
      "    /Users/felix.mbuga/opt/anaconda3/lib/python3.9/lib-dynload/math.cpython-39-darwin.so\n",
      "\n",
      "\n",
      "3.141592653589793\n"
     ]
    }
   ],
   "source": [
    "# python packages\n",
    "\n",
    "import math # import package\n",
    "\n",
    "help(math)\n",
    "\n",
    "print(math.pi)"
   ]
  },
  {
   "cell_type": "code",
   "execution_count": 42,
   "id": "387cca4d-01fe-4655-a5b2-8e302aee4202",
   "metadata": {},
   "outputs": [
    {
     "name": "stdout",
     "output_type": "stream",
     "text": [
      "pi to 15 decimal places is: 3.141592653589793\n"
     ]
    }
   ],
   "source": [
    "# import specific module from package\n",
    "\n",
    "from math import pi # selective import\n",
    "\n",
    "print('pi to 15 decimal places is: ' + str(pi)) # str converts type of pi from float to str allowing concatenation"
   ]
  },
  {
   "cell_type": "markdown",
   "id": "bde454a3-6b61-4f87-941f-be890341f8fb",
   "metadata": {},
   "source": [
    "## Numpy"
   ]
  },
  {
   "cell_type": "code",
   "execution_count": 43,
   "id": "41850953-21ee-4cf2-a330-9c8cc3e75586",
   "metadata": {},
   "outputs": [
    {
     "data": {
      "text/plain": [
       "'1.21.5'"
      ]
     },
     "execution_count": 43,
     "metadata": {},
     "output_type": "execute_result"
    }
   ],
   "source": [
    "# numpy\n",
    "\n",
    "import numpy as np\n",
    "\n",
    "np.__version__ # check version of Python package"
   ]
  },
  {
   "cell_type": "code",
   "execution_count": 44,
   "id": "0cf529ce-2ede-45e3-bfee-ed5654aa4efb",
   "metadata": {},
   "outputs": [
    {
     "name": "stdout",
     "output_type": "stream",
     "text": [
      "[2, 7, 1, 8, 2]\n",
      "<class 'list'> \n",
      "\n",
      "[2 7 1 8 2]\n",
      "<class 'numpy.ndarray'> \n",
      "\n"
     ]
    }
   ],
   "source": [
    "# creating a numpy array from a list\n",
    "\n",
    "import numpy as np\n",
    "\n",
    "x = [2, 7, 1, 8, 2]\n",
    "print(x)\n",
    "print(type(x), '\\n')\n",
    "\n",
    "y = np.array(x)\n",
    "print(y)\n",
    "print(type(y), '\\n')"
   ]
  },
  {
   "cell_type": "code",
   "execution_count": 45,
   "id": "43dcf48d-3c74-4bec-890c-61fb07c585ef",
   "metadata": {},
   "outputs": [
    {
     "name": "stdout",
     "output_type": "stream",
     "text": [
      "[3 1 4 1 5 9] \n",
      "\n",
      "[ 8.15484549  2.71828183 10.87312731  2.71828183 13.59140914 24.46453646]\n"
     ]
    }
   ],
   "source": [
    "# element-wise operation on numpy array\n",
    "\n",
    "import numpy as np\n",
    "import math\n",
    "\n",
    "x = [3, 1, 4, 1, 5, 9]\n",
    "x = np.array(x)\n",
    "print(x, '\\n')\n",
    "\n",
    "print(math.e * x) # would give error if x were a list"
   ]
  },
  {
   "cell_type": "code",
   "execution_count": 46,
   "id": "33d441c1-9c6e-4557-89d3-9dbc8af6408f",
   "metadata": {},
   "outputs": [
    {
     "name": "stdout",
     "output_type": "stream",
     "text": [
      "[3 1 4 1 5 9] \n",
      "\n",
      "[2 7 1 8 2 8] \n",
      "\n",
      "x divided by y is: [1.5        0.14285714 4.         0.125      2.5        1.125     ]\n"
     ]
    }
   ],
   "source": [
    "# element-wise operation on numpy array\n",
    "\n",
    "import numpy as np\n",
    "import math\n",
    "\n",
    "x = np.array([3, 1, 4, 1, 5, 9])\n",
    "y = np.array([2, 7, 1, 8, 2, 8])\n",
    "\n",
    "print(x, '\\n')\n",
    "\n",
    "print(y, '\\n')\n",
    "\n",
    "print('x divided by y is: ' + str(x/y)) # would not work if x & y were lists"
   ]
  },
  {
   "cell_type": "code",
   "execution_count": 47,
   "id": "092ec633-a05e-4a55-a671-4192b47a1389",
   "metadata": {},
   "outputs": [
    {
     "name": "stdout",
     "output_type": "stream",
     "text": [
      "[3 1 4 1 5 9] \n",
      "\n",
      "4 \n",
      "\n",
      "[False False  True False  True  True] \n",
      "\n",
      "[4 5 9]\n"
     ]
    }
   ],
   "source": [
    "# subsetting numpy arrays\n",
    "\n",
    "import numpy as np\n",
    "\n",
    "x = np.array([3, 1, 4, 1, 5, 9])\n",
    "print(x, '\\n')\n",
    "\n",
    "print(x[2], '\\n') # subsetting using square brackets\n",
    "\n",
    "print(x > 3, '\\n') # boolean array\n",
    "\n",
    "print(x[x > 3]) # subsetting using boolean array"
   ]
  },
  {
   "cell_type": "code",
   "execution_count": 48,
   "id": "71dd0f3d-a28f-4a72-a84a-67a25be31e56",
   "metadata": {},
   "outputs": [
    {
     "name": "stdout",
     "output_type": "stream",
     "text": [
      "[2, 7, '1', 8, 2] \n",
      "\n",
      "['2' '7' '1' '8' '2'] \n",
      "\n",
      "[3, 1, [4, 1], 5, 9] \n",
      "\n",
      "[3 1 list([4, 1]) 5 9]\n"
     ]
    },
    {
     "name": "stderr",
     "output_type": "stream",
     "text": [
      "/var/folders/gw/0wg9zm9d27s9dhd46rrzb4_c0000gp/T/ipykernel_60598/878570334.py:14: VisibleDeprecationWarning: Creating an ndarray from ragged nested sequences (which is a list-or-tuple of lists-or-tuples-or ndarrays with different lengths or shapes) is deprecated. If you meant to do this, you must specify 'dtype=object' when creating the ndarray.\n",
      "  print(np.array(x))\n"
     ]
    }
   ],
   "source": [
    "# unlike lists, np.array only contain one type i.e. all str, or all float, or all boolean, etc\n",
    "# if you give np.array list containing heterogeneous elements, will try & force all to be one type (type coercion)\n",
    "\n",
    "import numpy as np\n",
    "\n",
    "y = [2, 7, '1', 8, 2]\n",
    "print(y, '\\n')\n",
    "\n",
    "print(np.array(y), '\\n') # converts all to str\n",
    "\n",
    "x = [3, 1, [4, 1], 5, 9]\n",
    "print(x, '\\n')\n",
    "\n",
    "print(np.array(x))"
   ]
  },
  {
   "cell_type": "code",
   "execution_count": 49,
   "id": "ba1cb703-abba-4b6a-bdb5-16aa5d4baa9d",
   "metadata": {},
   "outputs": [
    {
     "name": "stdout",
     "output_type": "stream",
     "text": [
      "[3, 1, 4, 2, 7, 1] \n",
      "\n",
      "[5 8 5]\n"
     ]
    }
   ],
   "source": [
    "# arithmetic operators + - * / work differently on np.array vs list\n",
    "\n",
    "import numpy as np\n",
    "\n",
    "x = [3, 1, 4]\n",
    "y = [2, 7, 1]\n",
    "\n",
    "print(x + y, '\\n') # concatenates\n",
    "\n",
    "print(np.array(x) + np.array(y)) # adds element-wise"
   ]
  },
  {
   "cell_type": "code",
   "execution_count": 50,
   "id": "6f2a09e4-43d2-4c85-a49d-c4740a139497",
   "metadata": {},
   "outputs": [
    {
     "name": "stdout",
     "output_type": "stream",
     "text": [
      "[[3, 1, 4], [2, 7, 1]] \n",
      "\n",
      "[[3 1 4]\n",
      " [2 7 1]] <class 'numpy.ndarray'> \n",
      "\n",
      "(2, 3) \n",
      "\n",
      "(3,)\n"
     ]
    }
   ],
   "source": [
    "# 2D numpy array\n",
    "\n",
    "# creating 2D numpy array from list of lists\n",
    "\n",
    "import numpy as np\n",
    "\n",
    "x = [3, 1, 4]\n",
    "y = [2, 7, 1]\n",
    "z = [x, y]\n",
    "\n",
    "print(z, '\\n') # list of lists\n",
    "\n",
    "print(np.array(z), type(np.array(z)), '\\n') # np.ndarray\n",
    "\n",
    "print(np.array(z).shape, '\\n') # dimensions/shape of array\n",
    "\n",
    "print(np.array(y).shape) # default is to make column vector from 1D object (elements are rows)"
   ]
  },
  {
   "cell_type": "code",
   "execution_count": 51,
   "id": "2381c652-9317-4af9-ab10-db6b6a81ab1d",
   "metadata": {},
   "outputs": [
    {
     "name": "stdout",
     "output_type": "stream",
     "text": [
      "[[3 1 4 1 5 9]\n",
      " [2 7 1 8 2 8]] \n",
      "\n",
      "(2, 6) \n",
      "\n",
      "[[1 4]\n",
      " [7 1]] \n",
      "\n",
      "[2 7 1 8 2 8] \n",
      "\n",
      "[2 7 1 8 2 8]\n"
     ]
    }
   ],
   "source": [
    "# subsetting 2d numpy arrays\n",
    "\n",
    "import numpy as np\n",
    "\n",
    "x = [3, 1, 4, 1, 5, 9]\n",
    "y = [2, 7, 1, 8, 2, 8]\n",
    "\n",
    "z = np.array([x, y])\n",
    "print(z, '\\n')\n",
    "print(z.shape, '\\n')\n",
    "\n",
    "print(z[:, 1:3], '\\n') # slicing - all rows\n",
    "\n",
    "print(z[1, :], '\\n') # slicing - all columns\n",
    "\n",
    "print(z[1]) # this also works to select all columns!"
   ]
  },
  {
   "cell_type": "code",
   "execution_count": 52,
   "id": "16957acf-9770-4d05-8cad-0ffca211fc45",
   "metadata": {},
   "outputs": [
    {
     "name": "stdout",
     "output_type": "stream",
     "text": [
      "[[3 1 4 1 5 9]\n",
      " [2 7 1 8 2 8]] \n",
      "\n",
      "(2, 6) \n",
      "\n",
      "[[ 6  2  8  2 10 18]\n",
      " [ 4 14  2 16  4 16]] \n",
      "\n",
      "[[ 9  1 16  1 25 81]\n",
      " [ 4 49  1 64  4 64]] \n",
      "\n",
      "[[ 4  2  5  2  6 10]\n",
      " [ 3  8  2  9  3  9]] \n",
      "\n",
      "[[ 5  3  6  3  7 11]\n",
      " [ 5 10  4 11  5 11]] \n",
      "\n",
      "[[ 4  3  7  5 10 15]\n",
      " [ 3  9  4 12  7 14]] \n",
      "\n",
      "(2, 6)\n",
      "(6,)\n",
      "[[ 3  2 12  4 25 54]\n",
      " [ 2 14  3 32 10 48]] \n",
      "\n",
      "[[ 9  3 12  3 15 27]\n",
      " [ 6 21  3 24  6 24]]\n"
     ]
    }
   ],
   "source": [
    "# 2d arithmetic\n",
    "\n",
    "import numpy as np\n",
    "\n",
    "x = [3, 1, 4, 1, 5, 9]\n",
    "y = [2, 7, 1, 8, 2, 8]\n",
    "\n",
    "z = np.array([x, y])\n",
    "print(z, '\\n')\n",
    "print(z.shape, '\\n') # 2 rows & 6 columns\n",
    "\n",
    "print(z * 2, '\\n') # element-wise scalar multiplication\n",
    "\n",
    "print(z ** 2, '\\n') # element-wise exponentiation NOT matrix multiplication!\n",
    "\n",
    "print(z + 1, '\\n') # element-wise scalar addition\n",
    "\n",
    "print(z + np.array([[2], [3]]), '\\n') # add column vector [[2],[3]] to every column of z\n",
    "\n",
    "print(z + np.array([1, 2, 3, 4, 5, 6]), '\\n') # add row vector [1, 2, 3, 4, 5, 6] to every row of z\n",
    "\n",
    "print(z.shape) # 2 x 6\n",
    "print(np.array([1, 2, 3, 4, 5, 6]).shape) # 6 x 1\n",
    "print(z * np.array([1, 2, 3, 4, 5, 6]), '\\n') # NOT matrix-vector multiplication!! \n",
    "                                                # that's why final result is 2 x 6 NOT 2 x 1\n",
    "\n",
    "print(z + 2*z) # matrix addition"
   ]
  },
  {
   "cell_type": "code",
   "execution_count": 53,
   "id": "7a0e471a-6d83-4609-9a27-0c6d4002398b",
   "metadata": {},
   "outputs": [
    {
     "name": "stdout",
     "output_type": "stream",
     "text": [
      "[[3 1 4 1 5 9]\n",
      " [2 7 1 8 2 8]]\n",
      "(2, 6) \n",
      "\n",
      "4.0 \n",
      "\n",
      "4.5 \n",
      "\n",
      "std dev row 1: 2.733536577809454 \n",
      "\n",
      "correlation between two rows of z is: [[ 1.         -0.00669245]\n",
      " [-0.00669245  1.        ]]\n"
     ]
    }
   ],
   "source": [
    "# numpy basic statistics: mean, median, stdev, correlation\n",
    "\n",
    "import numpy as np\n",
    "\n",
    "x = [3, 1, 4, 1, 5, 9]\n",
    "y = [2, 7, 1, 8, 2, 8]\n",
    "\n",
    "z = np.array([x, y])\n",
    "print(z)\n",
    "print(z.shape, '\\n') # 2 rows & 6 columns\n",
    "\n",
    "z_mean_c2 = np.mean(z[:, 1]) # mean of second column\n",
    "print(z_mean_c2, '\\n')\n",
    "\n",
    "z_median_r2 = np.median(z[1, :]) # median of second row\n",
    "print(z_median_r2, '\\n')\n",
    "\n",
    "z_stddev_r1 = np.std(z[0, :]) # standard deviation of first row\n",
    "print('std dev row 1: ' + str(z_stddev_r1), '\\n')\n",
    "\n",
    "z_corr_r1r2 = np.corrcoef(z[0, :], z[1, :]) # correlation between first and second row\n",
    "print('correlation between two rows of z is: ' + str(z_corr_r1r2))"
   ]
  },
  {
   "cell_type": "code",
   "execution_count": 54,
   "id": "95244b69-1916-4c3d-a9ab-2b9484c3127e",
   "metadata": {},
   "outputs": [
    {
     "name": "stdout",
     "output_type": "stream",
     "text": [
      "['C' 'C' 'T' 'C' 'A' 'G' 'G' 'C' 'C' 'C']\n",
      "[2 7 1 8 2 8 1 8 2 8] \n",
      "\n",
      "[2 7 8 8 2 8]\n",
      "[1 2 8 1] \n",
      "\n",
      "7.5\n",
      "1.5\n"
     ]
    }
   ],
   "source": [
    "# numpy basic stats\n",
    "\n",
    "x = [\"C\", \"C\", \"T\", \"C\", \"A\", \"G\", \"G\", \"C\", \"C\", \"C\"]\n",
    "y = [2, 7, 1, 8, 2, 8, 1, 8, 2, 8]\n",
    "\n",
    "x = np.array(x)\n",
    "y = np.array(y)\n",
    "\n",
    "print(x)\n",
    "print(y, '\\n')\n",
    "\n",
    "print(y[x == 'C'])\n",
    "print(y[x != 'C'], '\\n') # subset y using x\n",
    "\n",
    "print(np.median(y[x == 'C']))\n",
    "print(np.median(y[x != 'C']))"
   ]
  }
 ],
 "metadata": {
  "kernelspec": {
   "display_name": "Python 3 (ipykernel)",
   "language": "python",
   "name": "python3"
  },
  "language_info": {
   "codemirror_mode": {
    "name": "ipython",
    "version": 3
   },
   "file_extension": ".py",
   "mimetype": "text/x-python",
   "name": "python",
   "nbconvert_exporter": "python",
   "pygments_lexer": "ipython3",
   "version": "3.9.12"
  }
 },
 "nbformat": 4,
 "nbformat_minor": 5
}
