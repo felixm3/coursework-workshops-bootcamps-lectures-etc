{
 "cells": [
  {
   "cell_type": "markdown",
   "id": "c2210272-97c4-4e66-9fbd-c605da849f20",
   "metadata": {},
   "source": [
    "# 220507 Intermediate Python"
   ]
  },
  {
   "cell_type": "markdown",
   "id": "c81af215-40f6-47ed-87a0-e7c70bdc8b3d",
   "metadata": {},
   "source": [
    "## Matplotlib"
   ]
  },
  {
   "cell_type": "code",
   "execution_count": 1,
   "id": "a5afbe1e-6972-4e15-859d-47ed71f33718",
   "metadata": {},
   "outputs": [
    {
     "name": "stdout",
     "output_type": "stream",
     "text": [
      "[1, 2, 3, 4, 5, 6, 7, 8, 9, 10]\n",
      "[1, 5, 8, 15, 26, 35, 50, 63, 82, 99]\n",
      "\n"
     ]
    },
    {
     "data": {
      "image/png": "[encoded data removed]",
      "text/plain": [
       "<Figure size 432x288 with 1 Axes>"
      ]
     },
     "metadata": {
      "needs_background": "light"
     },
     "output_type": "display_data"
    }
   ],
   "source": [
    "# line plot\n",
    "\n",
    "import matplotlib.pyplot as plt\n",
    "\n",
    "x = list(range(1, 11, 1))\n",
    "y = [1, 5, 8, 15, 26, 35, 50, 63, 82, 99]\n",
    "\n",
    "print(x)\n",
    "print(y)\n",
    "print('')\n",
    "\n",
    "plt.plot(x, y)\n",
    "plt.show()"
   ]
  },
  {
   "cell_type": "code",
   "execution_count": 2,
   "id": "4687aa71-d810-4751-99b0-b87357e1101a",
   "metadata": {},
   "outputs": [
    {
     "name": "stdout",
     "output_type": "stream",
     "text": [
      "[1, 2, 3, 4, 5, 6, 7, 8, 9, 10]\n",
      "[1, 5, 8, 15, 26, 35, 50, 63, 82, 99]\n",
      "\n"
     ]
    },
    {
     "data": {
      "image/png": "[encoded data removed]",
      "text/plain": [
       "<Figure size 432x288 with 1 Axes>"
      ]
     },
     "metadata": {
      "needs_background": "light"
     },
     "output_type": "display_data"
    },
    {
     "name": "stdout",
     "output_type": "stream",
     "text": [
      "\n",
      "[63, 82, 99]\n"
     ]
    }
   ],
   "source": [
    "# scatter plot\n",
    "\n",
    "import matplotlib.pyplot as plt\n",
    "\n",
    "x = list(range(1, 11, 1))\n",
    "y = [1, 5, 8, 15, 26, 35, 50, 63, 82, 99]\n",
    "\n",
    "print(x)\n",
    "print(y)\n",
    "print('')\n",
    "\n",
    "plt.scatter(x, y)\n",
    "plt.show()\n",
    "\n",
    "print('')\n",
    "print(y[-3:]) # last 3 elements of y"
   ]
  },
  {
   "cell_type": "code",
   "execution_count": 3,
   "id": "3cca43ba-f184-4c5f-a660-8882b40995b8",
   "metadata": {},
   "outputs": [],
   "source": [
    "# https://campus.datacamp.com/courses/intermediate-python/matplotlib?ex=2"
   ]
  },
  {
   "cell_type": "markdown",
   "id": "0d285edf-174e-4a51-b56d-9ced48da8635",
   "metadata": {},
   "source": [
    "## Dictionaries and Pandas"
   ]
  },
  {
   "cell_type": "markdown",
   "id": "a3c79eb2-b9d6-4677-8b4f-08a2b0a9a8b8",
   "metadata": {},
   "source": [
    "## Logic, Control Flow and Filtering"
   ]
  },
  {
   "cell_type": "markdown",
   "id": "d22cc5c8-d66f-4d0c-a685-52c379bdedb1",
   "metadata": {},
   "source": [
    "## Loops"
   ]
  },
  {
   "cell_type": "code",
   "execution_count": null,
   "id": "b47a134c-13ba-4fc0-b4b9-ec35430de078",
   "metadata": {},
   "outputs": [],
   "source": []
  }
 ],
 "metadata": {
  "kernelspec": {
   "display_name": "Python 3 (ipykernel)",
   "language": "python",
   "name": "python3"
  },
  "language_info": {
   "codemirror_mode": {
    "name": "ipython",
    "version": 3
   },
   "file_extension": ".py",
   "mimetype": "text/x-python",
   "name": "python",
   "nbconvert_exporter": "python",
   "pygments_lexer": "ipython3",
   "version": "3.9.7"
  }
 },
 "nbformat": 4,
 "nbformat_minor": 5
}
