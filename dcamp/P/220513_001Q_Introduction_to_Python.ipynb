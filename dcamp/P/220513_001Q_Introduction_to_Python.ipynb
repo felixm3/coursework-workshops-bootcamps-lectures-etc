{
 "cells": [
  {
   "cell_type": "markdown",
   "id": "d1b8371a-2118-4262-bbd0-9fbca0a89a17",
   "metadata": {},
   "source": [
    "# Test Yourself"
   ]
  },
  {
   "cell_type": "markdown",
   "id": "db80d32c-f0b9-4bdf-bf80-81e8b89e7c3b",
   "metadata": {},
   "source": [
    "- 01. Print out the value of $1.003^{240}$"
   ]
  },
  {
   "cell_type": "code",
   "execution_count": 1,
   "id": "e1ac326a-053c-4cc0-b563-69dc6c2f7d30",
   "metadata": {},
   "outputs": [
    {
     "name": "stdout",
     "output_type": "stream",
     "text": [
      "2.0522200433311872\n"
     ]
    }
   ],
   "source": [
    "# print value of 1.003^240\n",
    "\n",
    "print(1.003**240)"
   ]
  },
  {
   "cell_type": "markdown",
   "id": "ae65d6ed-a95f-4e80-af99-a6e8eee8e18e",
   "metadata": {},
   "source": [
    "- 02. What's the remainder when 97 is divided by 23?"
   ]
  },
  {
   "cell_type": "code",
   "execution_count": 2,
   "id": "f44a7ff1-d1dd-4795-8088-af230106bc91",
   "metadata": {},
   "outputs": [
    {
     "name": "stdout",
     "output_type": "stream",
     "text": [
      "5\n"
     ]
    }
   ],
   "source": [
    "# print 97 modulo 23\n",
    "\n",
    "print(97%23)"
   ]
  },
  {
   "cell_type": "markdown",
   "id": "9be18a99-6e5a-456f-8967-1f50fe565e24",
   "metadata": {},
   "source": [
    "- 03. Check what version of Python you're running (two ways)"
   ]
  },
  {
   "cell_type": "code",
   "execution_count": 3,
   "id": "5e362961-e6a3-4e15-96b6-f327120d12ee",
   "metadata": {},
   "outputs": [
    {
     "name": "stdout",
     "output_type": "stream",
     "text": [
      "3.9.7 (default, Sep 16 2021, 08:50:36) \n",
      "[Clang 10.0.0 ]\n",
      "sys.version_info(major=3, minor=9, micro=7, releaselevel='final', serial=0)\n"
     ]
    }
   ],
   "source": [
    "# check Python version\n",
    "\n",
    "import sys\n",
    "\n",
    "print(sys.version)\n",
    "print(sys.version_info)"
   ]
  },
  {
   "cell_type": "markdown",
   "id": "d1e24514-32c9-43ea-874f-77435fe2f6e8",
   "metadata": {},
   "source": [
    "- 4. Create two variables: hello and world. Check the variable type. Concatenate into one string"
   ]
  },
  {
   "cell_type": "code",
   "execution_count": 4,
   "id": "004e8cfd-8d86-4812-bff5-90c8d2a77eb2",
   "metadata": {},
   "outputs": [
    {
     "name": "stdout",
     "output_type": "stream",
     "text": [
      "<class 'str'> \n",
      "\n",
      "<class 'str'> \n",
      "\n",
      "hello world \n",
      "\n"
     ]
    }
   ],
   "source": [
    "# create variables 'hello' and 'world'\n",
    "\n",
    "x = 'hello'\n",
    "y = 'world'\n",
    "\n",
    "print(type(x), '\\n')\n",
    "print(type(y), '\\n')\n",
    "\n",
    "z = x + ' ' + y\n",
    "\n",
    "print(z, '\\n')"
   ]
  },
  {
   "cell_type": "markdown",
   "id": "60a3c5de-5c4f-4b5a-90a9-83ff418627cc",
   "metadata": {},
   "source": [
    "- 5. Create two lists: first 10 digits of pi and first ten digits of e. Check the variable type. Append the pi list to the end of the e list."
   ]
  },
  {
   "cell_type": "code",
   "execution_count": 5,
   "id": "ae938a31-6123-4b50-9fdb-bcf00acf9b09",
   "metadata": {},
   "outputs": [
    {
     "name": "stdout",
     "output_type": "stream",
     "text": [
      "3.141592653589793 \n",
      "\n",
      "2.718281828459045 \n",
      "\n",
      "<class 'list'> \n",
      "\n",
      "<class 'list'> \n",
      "\n",
      "[2, 7, 1, 8, 2, 8, 1, 8, 2, 8, 3, 1, 4, 1, 5, 9, 2, 6, 5, 3] \n",
      "\n"
     ]
    }
   ],
   "source": [
    "# digits of pi and e\n",
    "\n",
    "import math\n",
    "\n",
    "print(math.pi, '\\n')\n",
    "print(math.e, '\\n')\n",
    "\n",
    "pi_list = [3, 1, 4, 1, 5, 9, 2, 6, 5, 3]\n",
    "e_list = [2, 7, 1, 8, 2, 8, 1, 8, 2, 8]\n",
    "\n",
    "print(type(pi_list), '\\n')\n",
    "print(type(e_list), '\\n')\n",
    "\n",
    "e_pi = e_list + pi_list\n",
    "\n",
    "print(e_pi, '\\n')"
   ]
  },
  {
   "cell_type": "code",
   "execution_count": null,
   "id": "c4b5b95a-ce8d-458f-a4ef-c4d4933a4caf",
   "metadata": {},
   "outputs": [],
   "source": []
  }
 ],
 "metadata": {
  "kernelspec": {
   "display_name": "Python 3 (ipykernel)",
   "language": "python",
   "name": "python3"
  },
  "language_info": {
   "codemirror_mode": {
    "name": "ipython",
    "version": 3
   },
   "file_extension": ".py",
   "mimetype": "text/x-python",
   "name": "python",
   "nbconvert_exporter": "python",
   "pygments_lexer": "ipython3",
   "version": "3.9.7"
  }
 },
 "nbformat": 4,
 "nbformat_minor": 5
}
