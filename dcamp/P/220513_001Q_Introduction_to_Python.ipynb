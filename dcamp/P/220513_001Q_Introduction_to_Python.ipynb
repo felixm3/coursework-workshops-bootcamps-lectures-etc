{
 "cells": [
  {
   "cell_type": "markdown",
   "id": "d1b8371a-2118-4262-bbd0-9fbca0a89a17",
   "metadata": {},
   "source": [
    "# Test Yourself"
   ]
  },
  {
   "cell_type": "markdown",
   "id": "db80d32c-f0b9-4bdf-bf80-81e8b89e7c3b",
   "metadata": {},
   "source": [
    "- 01. Print out the value of $1.003^{240}$"
   ]
  },
  {
   "cell_type": "code",
   "execution_count": 1,
   "id": "e1ac326a-053c-4cc0-b563-69dc6c2f7d30",
   "metadata": {},
   "outputs": [
    {
     "name": "stdout",
     "output_type": "stream",
     "text": [
      "2.0522200433311872\n"
     ]
    }
   ],
   "source": [
    "# print value of 1.003^240\n",
    "\n",
    "print(1.003**240)"
   ]
  },
  {
   "cell_type": "markdown",
   "id": "ae65d6ed-a95f-4e80-af99-a6e8eee8e18e",
   "metadata": {},
   "source": [
    "- 02. What's the remainder when 97 is divided by 23?"
   ]
  },
  {
   "cell_type": "code",
   "execution_count": 2,
   "id": "f44a7ff1-d1dd-4795-8088-af230106bc91",
   "metadata": {},
   "outputs": [
    {
     "name": "stdout",
     "output_type": "stream",
     "text": [
      "5\n"
     ]
    }
   ],
   "source": [
    "# print 97 modulo 23\n",
    "\n",
    "print(97%23)"
   ]
  },
  {
   "cell_type": "markdown",
   "id": "9be18a99-6e5a-456f-8967-1f50fe565e24",
   "metadata": {},
   "source": [
    "- 03. Check what version of Python you're running (two ways)"
   ]
  },
  {
   "cell_type": "code",
   "execution_count": 3,
   "id": "5e362961-e6a3-4e15-96b6-f327120d12ee",
   "metadata": {},
   "outputs": [
    {
     "name": "stdout",
     "output_type": "stream",
     "text": [
      "3.9.12 (main, Apr  5 2022, 01:53:17) \n",
      "[Clang 12.0.0 ]\n",
      "sys.version_info(major=3, minor=9, micro=12, releaselevel='final', serial=0)\n"
     ]
    }
   ],
   "source": [
    "# check Python version\n",
    "\n",
    "import sys\n",
    "\n",
    "print(sys.version)\n",
    "print(sys.version_info)"
   ]
  },
  {
   "cell_type": "markdown",
   "id": "d1e24514-32c9-43ea-874f-77435fe2f6e8",
   "metadata": {},
   "source": [
    "- 4. Create two variables: hello and world. Check the variable type. Concatenate into one string"
   ]
  },
  {
   "cell_type": "code",
   "execution_count": 4,
   "id": "004e8cfd-8d86-4812-bff5-90c8d2a77eb2",
   "metadata": {},
   "outputs": [
    {
     "name": "stdout",
     "output_type": "stream",
     "text": [
      "<class 'str'> \n",
      "\n",
      "<class 'str'> \n",
      "\n",
      "hello world \n",
      "\n"
     ]
    }
   ],
   "source": [
    "# create variables 'hello' and 'world'\n",
    "\n",
    "x = 'hello'\n",
    "y = 'world'\n",
    "\n",
    "print(type(x), '\\n')\n",
    "print(type(y), '\\n')\n",
    "\n",
    "z = x + ' ' + y\n",
    "\n",
    "print(z, '\\n')"
   ]
  },
  {
   "cell_type": "markdown",
   "id": "60a3c5de-5c4f-4b5a-90a9-83ff418627cc",
   "metadata": {},
   "source": [
    "- 5. Create two lists: first 10 digits of pi and first ten digits of e. Check the variable type. Append the pi list to the end of the e list."
   ]
  },
  {
   "cell_type": "code",
   "execution_count": 5,
   "id": "ae938a31-6123-4b50-9fdb-bcf00acf9b09",
   "metadata": {},
   "outputs": [
    {
     "name": "stdout",
     "output_type": "stream",
     "text": [
      "3.141592653589793 \n",
      "\n",
      "2.718281828459045 \n",
      "\n",
      "<class 'list'> \n",
      "\n",
      "<class 'list'> \n",
      "\n",
      "[2, 7, 1, 8, 2, 8, 1, 8, 2, 8, 3, 1, 4, 1, 5, 9, 2, 6, 5, 3] \n",
      "\n"
     ]
    }
   ],
   "source": [
    "# digits of pi and e\n",
    "\n",
    "import math\n",
    "\n",
    "print(math.pi, '\\n')\n",
    "print(math.e, '\\n')\n",
    "\n",
    "pi_list = [3, 1, 4, 1, 5, 9, 2, 6, 5, 3]\n",
    "e_list = [2, 7, 1, 8, 2, 8, 1, 8, 2, 8]\n",
    "\n",
    "print(type(pi_list), '\\n')\n",
    "print(type(e_list), '\\n')\n",
    "\n",
    "e_pi = e_list + pi_list\n",
    "\n",
    "print(e_pi, '\\n')"
   ]
  },
  {
   "cell_type": "markdown",
   "id": "e7aa4d61-a041-40df-8244-88047ca8b8f6",
   "metadata": {},
   "source": [
    "- 6. Assign x the value 2. Using x, print out 'The 7th digit of pi is 2' (two ways)"
   ]
  },
  {
   "cell_type": "code",
   "execution_count": 6,
   "id": "eee5d068-df25-4907-a063-f21d58d4b8ec",
   "metadata": {},
   "outputs": [
    {
     "name": "stdout",
     "output_type": "stream",
     "text": [
      "The 7th digit of pi is 2 \n",
      "\n",
      "The 7th digit of pi is 2 \n",
      "\n"
     ]
    }
   ],
   "source": [
    "# 7th digit of pi is 2\n",
    "\n",
    "x = 2\n",
    "\n",
    "print('The 7th digit of pi is', x, '\\n')\n",
    "print('The 7th digit of pi is ' + str(x), '\\n') # notice this version needs a space after 'is'"
   ]
  },
  {
   "cell_type": "markdown",
   "id": "b61a2f76-4c1c-4fd6-b807-889f3b3a7f08",
   "metadata": {},
   "source": [
    "- 7. Assign y the value 2. Using y, print out 'The 5th digit of e is 2' (two ways)"
   ]
  },
  {
   "cell_type": "code",
   "execution_count": 7,
   "id": "15db9978-60f3-4aad-845b-b8042646460c",
   "metadata": {},
   "outputs": [
    {
     "name": "stdout",
     "output_type": "stream",
     "text": [
      "The fifth digit of e is 2 \n",
      "\n",
      "The fifth digit of e is 2 \n",
      "\n"
     ]
    }
   ],
   "source": [
    "# print 5th digit of e is 2\n",
    "\n",
    "y = 2\n",
    "\n",
    "print('The fifth digit of e is ' + str(y), '\\n')\n",
    "\n",
    "print('The fifth digit of e is', y, '\\n')"
   ]
  },
  {
   "cell_type": "markdown",
   "id": "afb8dfd5-006b-43d9-a5ed-947c7150b8b5",
   "metadata": {},
   "source": [
    "- 8. Create a list with the first 10 digits of pi. Select the:\n",
    "        - first item in the list\n",
    "        - last item in the list\n",
    "        - first 5 items in the list\n",
    "        - last 5 items in the list\n",
    "        - the third, fourth and fifth elements"
   ]
  },
  {
   "cell_type": "code",
   "execution_count": 8,
   "id": "8b9a582e-b51d-4699-9b7d-1524f3437f40",
   "metadata": {},
   "outputs": [
    {
     "name": "stdout",
     "output_type": "stream",
     "text": [
      "3 \n",
      "\n",
      "3 \n",
      "\n",
      "[3, 1, 4, 1, 5] \n",
      "\n",
      "[9, 2, 6, 5, 3] \n",
      "\n",
      "[4, 1, 5] \n",
      "\n",
      "[1, 1, 5]\n"
     ]
    }
   ],
   "source": [
    "# subsetting\n",
    "\n",
    "x = [3, 1, 4, 1, 5, 9, 2, 6, 5, 3]\n",
    "\n",
    "print(x[0], '\\n')\n",
    "print(x[-1], '\\n')\n",
    "print(x[:5], '\\n')\n",
    "print(x[-5:], '\\n')\n",
    "print(x[2:5], '\\n')\n",
    "print(list(x[i] for i in [1, 3, 4])) # use list comprehension for non-consecutive elements"
   ]
  },
  {
   "cell_type": "markdown",
   "id": "011d4ddb-368a-4ad0-a47b-91fb907adcce",
   "metadata": {},
   "source": [
    "- 9. Create a list of two lists: first 6 digits of e and pi. Select the:\n",
    "        - 3rd digit of e\n",
    "        - 4th digit of pi\n",
    "        - first 2 digits of e\n",
    "        - last 2 digits of pi"
   ]
  },
  {
   "cell_type": "code",
   "execution_count": 9,
   "id": "80a5bfda-4ee1-491c-b6c6-02d5ce7f72b7",
   "metadata": {},
   "outputs": [
    {
     "name": "stdout",
     "output_type": "stream",
     "text": [
      "[[2, 7, 1, 8, 2, 8], [3, 1, 4, 1, 5, 9]] \n",
      "\n",
      "1 \n",
      "\n",
      "1 \n",
      "\n",
      "[2, 7] \n",
      "\n",
      "[5, 9] \n",
      "\n"
     ]
    }
   ],
   "source": [
    "# subsetting list of lists\n",
    "\n",
    "x = [[2, 7, 1, 8, 2, 8], \n",
    "    [3, 1, 4, 1, 5, 9]]\n",
    "\n",
    "print(x, '\\n')\n",
    "\n",
    "print(x[0][2], '\\n')\n",
    "\n",
    "print(x[1][3], '\\n')\n",
    "\n",
    "print(x[0][:2], '\\n')\n",
    "\n",
    "print(x[1][-2:], '\\n')"
   ]
  },
  {
   "cell_type": "markdown",
   "id": "3800dd71-4e38-4237-be4e-9e819ec84294",
   "metadata": {},
   "source": [
    "- 10. Create a list of the numbers 1 through 10. Replace 2 with 11. Replace 8, 9, 10 with 13, 17, 19."
   ]
  },
  {
   "cell_type": "code",
   "execution_count": 10,
   "id": "3da8e631-0591-4e14-8b1f-b0c9808ddf28",
   "metadata": {},
   "outputs": [
    {
     "name": "stdout",
     "output_type": "stream",
     "text": [
      "[1, 2, 3, 4, 5, 6, 7, 8, 9, 10] \n",
      "\n",
      "[1, 11, 3, 4, 5, 6, 7, 8, 9, 10] \n",
      "\n",
      "[1, 11, 3, 4, 5, 6, 7, 13, 17, 19] \n",
      "\n"
     ]
    }
   ],
   "source": [
    "x = list(range(1, 11))\n",
    "print(x, '\\n')\n",
    "\n",
    "x[1] = 11\n",
    "print(x, '\\n')\n",
    "\n",
    "x[-3:] = [13, 17, 19]\n",
    "print(x, '\\n')"
   ]
  },
  {
   "cell_type": "code",
   "execution_count": null,
   "id": "a2a611dc-9765-44f3-a88d-f5b47aac906e",
   "metadata": {},
   "outputs": [],
   "source": []
  }
 ],
 "metadata": {
  "kernelspec": {
   "display_name": "Python 3 (ipykernel)",
   "language": "python",
   "name": "python3"
  },
  "language_info": {
   "codemirror_mode": {
    "name": "ipython",
    "version": 3
   },
   "file_extension": ".py",
   "mimetype": "text/x-python",
   "name": "python",
   "nbconvert_exporter": "python",
   "pygments_lexer": "ipython3",
   "version": "3.9.12"
  }
 },
 "nbformat": 4,
 "nbformat_minor": 5
}
