{
 "cells": [
  {
   "cell_type": "markdown",
   "id": "d1b8371a-2118-4262-bbd0-9fbca0a89a17",
   "metadata": {},
   "source": [
    "# Test Yourself"
   ]
  },
  {
   "cell_type": "markdown",
   "id": "db80d32c-f0b9-4bdf-bf80-81e8b89e7c3b",
   "metadata": {},
   "source": [
    "1. Print out the value of $2^{30}$"
   ]
  },
  {
   "cell_type": "code",
   "execution_count": 1,
   "id": "e1ac326a-053c-4cc0-b563-69dc6c2f7d30",
   "metadata": {},
   "outputs": [
    {
     "name": "stdout",
     "output_type": "stream",
     "text": [
      "1073741824\n"
     ]
    }
   ],
   "source": [
    "# print value of 2^30\n",
    "\n",
    "print(2**30)"
   ]
  },
  {
   "cell_type": "markdown",
   "id": "ae65d6ed-a95f-4e80-af99-a6e8eee8e18e",
   "metadata": {},
   "source": [
    "2. What is $3^2$"
   ]
  },
  {
   "cell_type": "code",
   "execution_count": null,
   "id": "f44a7ff1-d1dd-4795-8088-af230106bc91",
   "metadata": {},
   "outputs": [],
   "source": []
  }
 ],
 "metadata": {
  "kernelspec": {
   "display_name": "Python 3 (ipykernel)",
   "language": "python",
   "name": "python3"
  },
  "language_info": {
   "codemirror_mode": {
    "name": "ipython",
    "version": 3
   },
   "file_extension": ".py",
   "mimetype": "text/x-python",
   "name": "python",
   "nbconvert_exporter": "python",
   "pygments_lexer": "ipython3",
   "version": "3.9.7"
  }
 },
 "nbformat": 4,
 "nbformat_minor": 5
}
