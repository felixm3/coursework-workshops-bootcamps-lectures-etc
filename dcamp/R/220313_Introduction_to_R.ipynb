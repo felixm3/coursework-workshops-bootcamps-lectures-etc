{
 "cells": [
  {
   "cell_type": "markdown",
   "id": "f8dfacf2-847e-4324-99bc-a6d55722768d",
   "metadata": {},
   "source": [
    "# 220313 Introduction to R"
   ]
  },
  {
   "cell_type": "code",
   "execution_count": 1,
   "id": "ccfb32d5-4103-4d93-aa3e-4e9b555bd443",
   "metadata": {},
   "outputs": [
    {
     "data": {
      "text/html": [
       "11"
      ],
      "text/latex": [
       "11"
      ],
      "text/markdown": [
       "11"
      ],
      "text/plain": [
       "[1] 11"
      ]
     },
     "metadata": {},
     "output_type": "display_data"
    }
   ],
   "source": [
    "# comments start with hashtag #\n",
    "# R as a calculator\n",
    "\n",
    "7 + 4"
   ]
  },
  {
   "cell_type": "code",
   "execution_count": 2,
   "id": "07056792-5b8f-46cb-8b0f-7a8a49f71822",
   "metadata": {},
   "outputs": [
    {
     "data": {
      "text/html": [
       "11"
      ],
      "text/latex": [
       "11"
      ],
      "text/markdown": [
       "11"
      ],
      "text/plain": [
       "[1] 11"
      ]
     },
     "metadata": {},
     "output_type": "display_data"
    },
    {
     "data": {
      "text/html": [
       "6"
      ],
      "text/latex": [
       "6"
      ],
      "text/markdown": [
       "6"
      ],
      "text/plain": [
       "[1] 6"
      ]
     },
     "metadata": {},
     "output_type": "display_data"
    },
    {
     "data": {
      "text/html": [
       "1024"
      ],
      "text/latex": [
       "1024"
      ],
      "text/markdown": [
       "1024"
      ],
      "text/plain": [
       "[1] 1024"
      ]
     },
     "metadata": {},
     "output_type": "display_data"
    },
    {
     "data": {
      "text/html": [
       "2"
      ],
      "text/latex": [
       "2"
      ],
      "text/markdown": [
       "2"
      ],
      "text/plain": [
       "[1] 2"
      ]
     },
     "metadata": {},
     "output_type": "display_data"
    }
   ],
   "source": [
    "# R as a calculator\n",
    "\n",
    "7 + 4\n",
    "8 - 2\n",
    "\n",
    "2^10 # exponentiation\n",
    "2 %% 3 # modulo/remainder\n",
    "\n",
    "# see tidyverse style guide about spaces https://style.tidyverse.org/index.html \n",
    "# \"Most infix operators (==, +, -, <-, etc.) should always be surrounded by spaces\"\n",
    "# \"The operators with high precedence: ::, :::, $, @, [, [[, ^, unary -, unary +, and : should never be surrounded by spaces\""
   ]
  },
  {
   "cell_type": "code",
   "execution_count": 3,
   "id": "952c061c-5117-4254-88b5-73940a3e6c7a",
   "metadata": {},
   "outputs": [
    {
     "data": {
      "text/html": [
       "3.14"
      ],
      "text/latex": [
       "3.14"
      ],
      "text/markdown": [
       "3.14"
      ],
      "text/plain": [
       "[1] 3.14"
      ]
     },
     "metadata": {},
     "output_type": "display_data"
    },
    {
     "data": {
      "text/html": [
       "2"
      ],
      "text/latex": [
       "2"
      ],
      "text/markdown": [
       "2"
      ],
      "text/plain": [
       "[1] 2"
      ]
     },
     "metadata": {},
     "output_type": "display_data"
    },
    {
     "data": {
      "text/html": [
       "9.8596"
      ],
      "text/latex": [
       "9.8596"
      ],
      "text/markdown": [
       "9.8596"
      ],
      "text/plain": [
       "[1] 9.8596"
      ]
     },
     "metadata": {},
     "output_type": "display_data"
    },
    {
     "data": {
      "text/html": [
       "1.14"
      ],
      "text/latex": [
       "1.14"
      ],
      "text/markdown": [
       "1.14"
      ],
      "text/plain": [
       "[1] 1.14"
      ]
     },
     "metadata": {},
     "output_type": "display_data"
    }
   ],
   "source": [
    "# Assigning variables\n",
    "\n",
    "x <- 3.14\n",
    "x\n",
    "y <- 2\n",
    "y\n",
    "x^y\n",
    "z <- x - y\n",
    "z"
   ]
  },
  {
   "cell_type": "code",
   "execution_count": 4,
   "id": "acdd32c2-b178-4145-91ac-c9a4d10cb889",
   "metadata": {},
   "outputs": [
    {
     "data": {
      "text/html": [
       "'numeric'"
      ],
      "text/latex": [
       "'numeric'"
      ],
      "text/markdown": [
       "'numeric'"
      ],
      "text/plain": [
       "[1] \"numeric\""
      ]
     },
     "metadata": {},
     "output_type": "display_data"
    },
    {
     "data": {
      "text/html": [
       "'logical'"
      ],
      "text/latex": [
       "'logical'"
      ],
      "text/markdown": [
       "'logical'"
      ],
      "text/plain": [
       "[1] \"logical\""
      ]
     },
     "metadata": {},
     "output_type": "display_data"
    },
    {
     "data": {
      "text/html": [
       "'character'"
      ],
      "text/latex": [
       "'character'"
      ],
      "text/markdown": [
       "'character'"
      ],
      "text/plain": [
       "[1] \"character\""
      ]
     },
     "metadata": {},
     "output_type": "display_data"
    }
   ],
   "source": [
    "# Basic data types in R\n",
    "\n",
    "x <- 2 # numeric (integer)\n",
    "class(x)\n",
    "\n",
    "y <- FALSE # boolean/logical\n",
    "class(y)\n",
    "\n",
    "z <- 'hello world' # character/string\n",
    "class(z)"
   ]
  },
  {
   "cell_type": "code",
   "execution_count": 5,
   "id": "47645268-39cc-4bcb-8f1d-7b03cefe9814",
   "metadata": {},
   "outputs": [
    {
     "data": {
      "text/html": [
       "<ol class=list-inline>\n",
       "\t<li>3</li>\n",
       "\t<li>1</li>\n",
       "\t<li>4</li>\n",
       "\t<li>1</li>\n",
       "\t<li>5</li>\n",
       "</ol>\n"
      ],
      "text/latex": [
       "\\begin{enumerate*}\n",
       "\\item 3\n",
       "\\item 1\n",
       "\\item 4\n",
       "\\item 1\n",
       "\\item 5\n",
       "\\end{enumerate*}\n"
      ],
      "text/markdown": [
       "1. 3\n",
       "2. 1\n",
       "3. 4\n",
       "4. 1\n",
       "5. 5\n",
       "\n",
       "\n"
      ],
      "text/plain": [
       "[1] 3 1 4 1 5"
      ]
     },
     "metadata": {},
     "output_type": "display_data"
    },
    {
     "data": {
      "text/html": [
       "<ol class=list-inline>\n",
       "\t<li>'hello'</li>\n",
       "\t<li>'world'</li>\n",
       "</ol>\n"
      ],
      "text/latex": [
       "\\begin{enumerate*}\n",
       "\\item 'hello'\n",
       "\\item 'world'\n",
       "\\end{enumerate*}\n"
      ],
      "text/markdown": [
       "1. 'hello'\n",
       "2. 'world'\n",
       "\n",
       "\n"
      ],
      "text/plain": [
       "[1] \"hello\" \"world\""
      ]
     },
     "metadata": {},
     "output_type": "display_data"
    },
    {
     "data": {
      "text/html": [
       "<ol class=list-inline>\n",
       "\t<li>FALSE</li>\n",
       "\t<li>TRUE</li>\n",
       "\t<li>FALSE</li>\n",
       "</ol>\n"
      ],
      "text/latex": [
       "\\begin{enumerate*}\n",
       "\\item FALSE\n",
       "\\item TRUE\n",
       "\\item FALSE\n",
       "\\end{enumerate*}\n"
      ],
      "text/markdown": [
       "1. FALSE\n",
       "2. TRUE\n",
       "3. FALSE\n",
       "\n",
       "\n"
      ],
      "text/plain": [
       "[1] FALSE  TRUE FALSE"
      ]
     },
     "metadata": {},
     "output_type": "display_data"
    }
   ],
   "source": [
    "# Vectors in R\n",
    "\n",
    "x <- c(3, 1, 4, 1, 5)\n",
    "y <- c('hello', 'world')\n",
    "z <- c(FALSE, TRUE, FALSE)\n",
    "x\n",
    "y\n",
    "z"
   ]
  },
  {
   "cell_type": "code",
   "execution_count": 6,
   "id": "d55aee4d-fd0c-4492-a4fb-2425bbc4ce06",
   "metadata": {},
   "outputs": [
    {
     "data": {
      "text/plain": [
       "NULL"
      ]
     },
     "metadata": {},
     "output_type": "display_data"
    },
    {
     "data": {
      "text/html": [
       "<dl class=dl-horizontal>\n",
       "\t<dt>1st</dt>\n",
       "\t\t<dd>3</dd>\n",
       "\t<dt>2nd</dt>\n",
       "\t\t<dd>1</dd>\n",
       "\t<dt>3rd</dt>\n",
       "\t\t<dd>4</dd>\n",
       "\t<dt>4th</dt>\n",
       "\t\t<dd>1</dd>\n",
       "\t<dt>5th</dt>\n",
       "\t\t<dd>5</dd>\n",
       "</dl>\n"
      ],
      "text/latex": [
       "\\begin{description*}\n",
       "\\item[1st] 3\n",
       "\\item[2nd] 1\n",
       "\\item[3rd] 4\n",
       "\\item[4th] 1\n",
       "\\item[5th] 5\n",
       "\\end{description*}\n"
      ],
      "text/markdown": [
       "1st\n",
       ":   32nd\n",
       ":   13rd\n",
       ":   44th\n",
       ":   15th\n",
       ":   5\n",
       "\n"
      ],
      "text/plain": [
       "1st 2nd 3rd 4th 5th \n",
       "  3   1   4   1   5 "
      ]
     },
     "metadata": {},
     "output_type": "display_data"
    },
    {
     "data": {
      "text/html": [
       "<ol class=list-inline>\n",
       "\t<li>'1st'</li>\n",
       "\t<li>'2nd'</li>\n",
       "\t<li>'3rd'</li>\n",
       "\t<li>'4th'</li>\n",
       "\t<li>'5th'</li>\n",
       "</ol>\n"
      ],
      "text/latex": [
       "\\begin{enumerate*}\n",
       "\\item '1st'\n",
       "\\item '2nd'\n",
       "\\item '3rd'\n",
       "\\item '4th'\n",
       "\\item '5th'\n",
       "\\end{enumerate*}\n"
      ],
      "text/markdown": [
       "1. '1st'\n",
       "2. '2nd'\n",
       "3. '3rd'\n",
       "4. '4th'\n",
       "5. '5th'\n",
       "\n",
       "\n"
      ],
      "text/plain": [
       "[1] \"1st\" \"2nd\" \"3rd\" \"4th\" \"5th\""
      ]
     },
     "metadata": {},
     "output_type": "display_data"
    }
   ],
   "source": [
    "# Naming elements of vectors\n",
    "names(x)\n",
    "names(x) <- c('1st', '2nd', '3rd', '4th', '5th')\n",
    "x\n",
    "names(x)"
   ]
  },
  {
   "cell_type": "code",
   "execution_count": 7,
   "id": "25ac17d7-87a9-4c7d-a828-71de29307ba8",
   "metadata": {},
   "outputs": [
    {
     "data": {
      "text/plain": [
       "NULL"
      ]
     },
     "metadata": {},
     "output_type": "display_data"
    },
    {
     "data": {
      "text/html": [
       "<dl class=dl-horizontal>\n",
       "\t<dt>Ava</dt>\n",
       "\t\t<dd>FALSE</dd>\n",
       "\t<dt>Betty</dt>\n",
       "\t\t<dd>TRUE</dd>\n",
       "\t<dt>Christie</dt>\n",
       "\t\t<dd>FALSE</dd>\n",
       "</dl>\n"
      ],
      "text/latex": [
       "\\begin{description*}\n",
       "\\item[Ava] FALSE\n",
       "\\item[Betty] TRUE\n",
       "\\item[Christie] FALSE\n",
       "\\end{description*}\n"
      ],
      "text/markdown": [
       "Ava\n",
       ":   FALSEBetty\n",
       ":   TRUEChristie\n",
       ":   FALSE\n",
       "\n"
      ],
      "text/plain": [
       "     Ava    Betty Christie \n",
       "   FALSE     TRUE    FALSE "
      ]
     },
     "metadata": {},
     "output_type": "display_data"
    },
    {
     "data": {
      "text/html": [
       "<ol class=list-inline>\n",
       "\t<li>'Ava'</li>\n",
       "\t<li>'Betty'</li>\n",
       "\t<li>'Christie'</li>\n",
       "</ol>\n"
      ],
      "text/latex": [
       "\\begin{enumerate*}\n",
       "\\item 'Ava'\n",
       "\\item 'Betty'\n",
       "\\item 'Christie'\n",
       "\\end{enumerate*}\n"
      ],
      "text/markdown": [
       "1. 'Ava'\n",
       "2. 'Betty'\n",
       "3. 'Christie'\n",
       "\n",
       "\n"
      ],
      "text/plain": [
       "[1] \"Ava\"      \"Betty\"    \"Christie\""
      ]
     },
     "metadata": {},
     "output_type": "display_data"
    }
   ],
   "source": [
    "# Naming elements of vectors\n",
    "\n",
    "names(z)\n",
    "people <- c('Ava', 'Betty', 'Christie')\n",
    "names(z) <- people\n",
    "z\n",
    "names(z)"
   ]
  },
  {
   "cell_type": "code",
   "execution_count": 8,
   "id": "4b4d13ca-f09c-4104-b01c-5d123779bea1",
   "metadata": {},
   "outputs": [
    {
     "data": {
      "text/html": [
       "<ol class=list-inline>\n",
       "\t<li>3</li>\n",
       "\t<li>1</li>\n",
       "\t<li>4</li>\n",
       "</ol>\n"
      ],
      "text/latex": [
       "\\begin{enumerate*}\n",
       "\\item 3\n",
       "\\item 1\n",
       "\\item 4\n",
       "\\end{enumerate*}\n"
      ],
      "text/markdown": [
       "1. 3\n",
       "2. 1\n",
       "3. 4\n",
       "\n",
       "\n"
      ],
      "text/plain": [
       "[1] 3 1 4"
      ]
     },
     "metadata": {},
     "output_type": "display_data"
    },
    {
     "data": {
      "text/html": [
       "<ol class=list-inline>\n",
       "\t<li>2</li>\n",
       "\t<li>7</li>\n",
       "\t<li>1</li>\n",
       "</ol>\n"
      ],
      "text/latex": [
       "\\begin{enumerate*}\n",
       "\\item 2\n",
       "\\item 7\n",
       "\\item 1\n",
       "\\end{enumerate*}\n"
      ],
      "text/markdown": [
       "1. 2\n",
       "2. 7\n",
       "3. 1\n",
       "\n",
       "\n"
      ],
      "text/plain": [
       "[1] 2 7 1"
      ]
     },
     "metadata": {},
     "output_type": "display_data"
    },
    {
     "data": {
      "text/html": [
       "<ol class=list-inline>\n",
       "\t<li>5</li>\n",
       "\t<li>8</li>\n",
       "\t<li>5</li>\n",
       "</ol>\n"
      ],
      "text/latex": [
       "\\begin{enumerate*}\n",
       "\\item 5\n",
       "\\item 8\n",
       "\\item 5\n",
       "\\end{enumerate*}\n"
      ],
      "text/markdown": [
       "1. 5\n",
       "2. 8\n",
       "3. 5\n",
       "\n",
       "\n"
      ],
      "text/plain": [
       "[1] 5 8 5"
      ]
     },
     "metadata": {},
     "output_type": "display_data"
    },
    {
     "data": {
      "text/html": [
       "<ol class=list-inline>\n",
       "\t<li>1.5</li>\n",
       "\t<li>0.142857142857143</li>\n",
       "\t<li>4</li>\n",
       "</ol>\n"
      ],
      "text/latex": [
       "\\begin{enumerate*}\n",
       "\\item 1.5\n",
       "\\item 0.142857142857143\n",
       "\\item 4\n",
       "\\end{enumerate*}\n"
      ],
      "text/markdown": [
       "1. 1.5\n",
       "2. 0.142857142857143\n",
       "3. 4\n",
       "\n",
       "\n"
      ],
      "text/plain": [
       "[1] 1.5000000 0.1428571 4.0000000"
      ]
     },
     "metadata": {},
     "output_type": "display_data"
    },
    {
     "data": {
      "text/html": [
       "<ol class=list-inline>\n",
       "\t<li>TRUE</li>\n",
       "\t<li>FALSE</li>\n",
       "\t<li>TRUE</li>\n",
       "</ol>\n"
      ],
      "text/latex": [
       "\\begin{enumerate*}\n",
       "\\item TRUE\n",
       "\\item FALSE\n",
       "\\item TRUE\n",
       "\\end{enumerate*}\n"
      ],
      "text/markdown": [
       "1. TRUE\n",
       "2. FALSE\n",
       "3. TRUE\n",
       "\n",
       "\n"
      ],
      "text/plain": [
       "[1]  TRUE FALSE  TRUE"
      ]
     },
     "metadata": {},
     "output_type": "display_data"
    }
   ],
   "source": [
    "# Operations with vectors\n",
    "\n",
    "x1 <- c(3, 1, 4)\n",
    "x2 <- c(2, 7, 1)\n",
    "x1\n",
    "x2\n",
    "x1 + x2\n",
    "x1 / x2\n",
    "x1 > x2\n",
    "\n",
    "# element-by-element"
   ]
  },
  {
   "cell_type": "code",
   "execution_count": 9,
   "id": "00aa4c3f-6540-49bd-98db-d1d3b8ce230a",
   "metadata": {},
   "outputs": [
    {
     "data": {
      "text/html": [
       "<ol class=list-inline>\n",
       "\t<li>3</li>\n",
       "\t<li>1</li>\n",
       "\t<li>4</li>\n",
       "</ol>\n"
      ],
      "text/latex": [
       "\\begin{enumerate*}\n",
       "\\item 3\n",
       "\\item 1\n",
       "\\item 4\n",
       "\\end{enumerate*}\n"
      ],
      "text/markdown": [
       "1. 3\n",
       "2. 1\n",
       "3. 4\n",
       "\n",
       "\n"
      ],
      "text/plain": [
       "[1] 3 1 4"
      ]
     },
     "metadata": {},
     "output_type": "display_data"
    },
    {
     "data": {
      "text/html": [
       "8"
      ],
      "text/latex": [
       "8"
      ],
      "text/markdown": [
       "8"
      ],
      "text/plain": [
       "[1] 8"
      ]
     },
     "metadata": {},
     "output_type": "display_data"
    },
    {
     "data": {
      "text/html": [
       "<ol class=list-inline>\n",
       "\t<li>2</li>\n",
       "\t<li>7</li>\n",
       "\t<li>1</li>\n",
       "</ol>\n"
      ],
      "text/latex": [
       "\\begin{enumerate*}\n",
       "\\item 2\n",
       "\\item 7\n",
       "\\item 1\n",
       "\\end{enumerate*}\n"
      ],
      "text/markdown": [
       "1. 2\n",
       "2. 7\n",
       "3. 1\n",
       "\n",
       "\n"
      ],
      "text/plain": [
       "[1] 2 7 1"
      ]
     },
     "metadata": {},
     "output_type": "display_data"
    },
    {
     "data": {
      "text/html": [
       "10"
      ],
      "text/latex": [
       "10"
      ],
      "text/markdown": [
       "10"
      ],
      "text/plain": [
       "[1] 10"
      ]
     },
     "metadata": {},
     "output_type": "display_data"
    }
   ],
   "source": [
    "# Operations with vectors\n",
    "x1\n",
    "sum(x1)\n",
    "x2\n",
    "sum(x2)"
   ]
  },
  {
   "cell_type": "code",
   "execution_count": 10,
   "id": "980c0da8-4e9a-4f81-b45b-8be35be876fb",
   "metadata": {},
   "outputs": [
    {
     "data": {
      "text/html": [
       "<ol class=list-inline>\n",
       "\t<li>3</li>\n",
       "\t<li>1</li>\n",
       "\t<li>4</li>\n",
       "</ol>\n"
      ],
      "text/latex": [
       "\\begin{enumerate*}\n",
       "\\item 3\n",
       "\\item 1\n",
       "\\item 4\n",
       "\\end{enumerate*}\n"
      ],
      "text/markdown": [
       "1. 3\n",
       "2. 1\n",
       "3. 4\n",
       "\n",
       "\n"
      ],
      "text/plain": [
       "[1] 3 1 4"
      ]
     },
     "metadata": {},
     "output_type": "display_data"
    },
    {
     "data": {
      "text/html": [],
      "text/latex": [],
      "text/markdown": [],
      "text/plain": [
       "numeric(0)"
      ]
     },
     "metadata": {},
     "output_type": "display_data"
    },
    {
     "data": {
      "text/html": [
       "3"
      ],
      "text/latex": [
       "3"
      ],
      "text/markdown": [
       "3"
      ],
      "text/plain": [
       "[1] 3"
      ]
     },
     "metadata": {},
     "output_type": "display_data"
    },
    {
     "data": {
      "text/html": [
       "<ol class=list-inline>\n",
       "\t<li>3</li>\n",
       "\t<li>4</li>\n",
       "</ol>\n"
      ],
      "text/latex": [
       "\\begin{enumerate*}\n",
       "\\item 3\n",
       "\\item 4\n",
       "\\end{enumerate*}\n"
      ],
      "text/markdown": [
       "1. 3\n",
       "2. 4\n",
       "\n",
       "\n"
      ],
      "text/plain": [
       "[1] 3 4"
      ]
     },
     "metadata": {},
     "output_type": "display_data"
    }
   ],
   "source": [
    "# Vector element selection\n",
    "# R unlike Python uses 1-based array indexing (Python uses 0-based array indexing)\n",
    "\n",
    "x1\n",
    "x1[0] # no 0th element 0\n",
    "x1[1]\n",
    "x1[-2] # drops 2nd element"
   ]
  },
  {
   "cell_type": "code",
   "execution_count": 11,
   "id": "ead48f5f-a459-48a3-adcf-be4966e605ed",
   "metadata": {},
   "outputs": [
    {
     "name": "stdout",
     "output_type": "stream",
     "text": [
      " [1] 2 7 1 8 2 8 1 8 2 8\n"
     ]
    },
    {
     "data": {
      "text/html": [
       "<ol class=list-inline>\n",
       "\t<li>7</li>\n",
       "\t<li>1</li>\n",
       "\t<li>8</li>\n",
       "</ol>\n"
      ],
      "text/latex": [
       "\\begin{enumerate*}\n",
       "\\item 7\n",
       "\\item 1\n",
       "\\item 8\n",
       "\\end{enumerate*}\n"
      ],
      "text/markdown": [
       "1. 7\n",
       "2. 1\n",
       "3. 8\n",
       "\n",
       "\n"
      ],
      "text/plain": [
       "[1] 7 1 8"
      ]
     },
     "metadata": {},
     "output_type": "display_data"
    },
    {
     "data": {
      "text/html": [
       "<ol class=list-inline>\n",
       "\t<li>2</li>\n",
       "\t<li>2</li>\n",
       "\t<li>8</li>\n",
       "\t<li>1</li>\n",
       "\t<li>8</li>\n",
       "\t<li>2</li>\n",
       "\t<li>8</li>\n",
       "</ol>\n"
      ],
      "text/latex": [
       "\\begin{enumerate*}\n",
       "\\item 2\n",
       "\\item 2\n",
       "\\item 8\n",
       "\\item 1\n",
       "\\item 8\n",
       "\\item 2\n",
       "\\item 8\n",
       "\\end{enumerate*}\n"
      ],
      "text/markdown": [
       "1. 2\n",
       "2. 2\n",
       "3. 8\n",
       "4. 1\n",
       "5. 8\n",
       "6. 2\n",
       "7. 8\n",
       "\n",
       "\n"
      ],
      "text/plain": [
       "[1] 2 2 8 1 8 2 8"
      ]
     },
     "metadata": {},
     "output_type": "display_data"
    },
    {
     "data": {
      "text/html": [
       "<ol class=list-inline>\n",
       "\t<li>1</li>\n",
       "\t<li>2</li>\n",
       "\t<li>8</li>\n",
       "</ol>\n"
      ],
      "text/latex": [
       "\\begin{enumerate*}\n",
       "\\item 1\n",
       "\\item 2\n",
       "\\item 8\n",
       "\\end{enumerate*}\n"
      ],
      "text/markdown": [
       "1. 1\n",
       "2. 2\n",
       "3. 8\n",
       "\n",
       "\n"
      ],
      "text/plain": [
       "[1] 1 2 8"
      ]
     },
     "metadata": {},
     "output_type": "display_data"
    }
   ],
   "source": [
    "# Vector element selection: multiple elements\n",
    "\n",
    "x <- c(2, 7, 1, 8, 2, 8, 1, 8, 2, 8)\n",
    "#print(exp(1)*1e9)\n",
    "print(x)\n",
    "\n",
    "x[2:4] # select consecutive elements\n",
    "\n",
    "x[-c(2:4)] # drop consecutive elements\n",
    "\n",
    "x[c(3, 1, 4)] # select non-consecutive elements"
   ]
  },
  {
   "cell_type": "code",
   "execution_count": 12,
   "id": "6c6f45a3-610a-48ff-ba3a-993a3892e1e6",
   "metadata": {},
   "outputs": [
    {
     "data": {
      "text/html": [
       "<dl class=dl-horizontal>\n",
       "\t<dt>G</dt>\n",
       "\t\t<dd>3</dd>\n",
       "\t<dt>S</dt>\n",
       "\t\t<dd>1</dd>\n",
       "\t<dt>H</dt>\n",
       "\t\t<dd>4</dd>\n",
       "\t<dt>W</dt>\n",
       "\t\t<dd>1</dd>\n",
       "\t<dt>B</dt>\n",
       "\t\t<dd>5</dd>\n",
       "\t<dt>C</dt>\n",
       "\t\t<dd>9</dd>\n",
       "\t<dt>J</dt>\n",
       "\t\t<dd>2</dd>\n",
       "\t<dt>I</dt>\n",
       "\t\t<dd>6</dd>\n",
       "\t<dt>Y</dt>\n",
       "\t\t<dd>5</dd>\n",
       "\t<dt>X</dt>\n",
       "\t\t<dd>4</dd>\n",
       "</dl>\n"
      ],
      "text/latex": [
       "\\begin{description*}\n",
       "\\item[G] 3\n",
       "\\item[S] 1\n",
       "\\item[H] 4\n",
       "\\item[W] 1\n",
       "\\item[B] 5\n",
       "\\item[C] 9\n",
       "\\item[J] 2\n",
       "\\item[I] 6\n",
       "\\item[Y] 5\n",
       "\\item[X] 4\n",
       "\\end{description*}\n"
      ],
      "text/markdown": [
       "G\n",
       ":   3S\n",
       ":   1H\n",
       ":   4W\n",
       ":   1B\n",
       ":   5C\n",
       ":   9J\n",
       ":   2I\n",
       ":   6Y\n",
       ":   5X\n",
       ":   4\n",
       "\n"
      ],
      "text/plain": [
       "G S H W B C J I Y X \n",
       "3 1 4 1 5 9 2 6 5 4 "
      ]
     },
     "metadata": {},
     "output_type": "display_data"
    },
    {
     "data": {
      "text/html": [
       "<strong>J:</strong> 2"
      ],
      "text/latex": [
       "\\textbf{J:} 2"
      ],
      "text/markdown": [
       "**J:** 2"
      ],
      "text/plain": [
       "J \n",
       "2 "
      ]
     },
     "metadata": {},
     "output_type": "display_data"
    },
    {
     "data": {
      "text/html": [
       "<dl class=dl-horizontal>\n",
       "\t<dt>I</dt>\n",
       "\t\t<dd>6</dd>\n",
       "\t<dt>G</dt>\n",
       "\t\t<dd>3</dd>\n",
       "\t<dt>W</dt>\n",
       "\t\t<dd>1</dd>\n",
       "</dl>\n"
      ],
      "text/latex": [
       "\\begin{description*}\n",
       "\\item[I] 6\n",
       "\\item[G] 3\n",
       "\\item[W] 1\n",
       "\\end{description*}\n"
      ],
      "text/markdown": [
       "I\n",
       ":   6G\n",
       ":   3W\n",
       ":   1\n",
       "\n"
      ],
      "text/plain": [
       "I G W \n",
       "6 3 1 "
      ]
     },
     "metadata": {},
     "output_type": "display_data"
    },
    {
     "data": {
      "text/html": [
       "3.33333333333333"
      ],
      "text/latex": [
       "3.33333333333333"
      ],
      "text/markdown": [
       "3.33333333333333"
      ],
      "text/plain": [
       "[1] 3.333333"
      ]
     },
     "metadata": {},
     "output_type": "display_data"
    },
    {
     "data": {
      "text/html": [
       "<dl class=dl-horizontal>\n",
       "\t<dt>B</dt>\n",
       "\t\t<dd>5</dd>\n",
       "\t<dt>X</dt>\n",
       "\t\t<dd>4</dd>\n",
       "</dl>\n"
      ],
      "text/latex": [
       "\\begin{description*}\n",
       "\\item[B] 5\n",
       "\\item[X] 4\n",
       "\\end{description*}\n"
      ],
      "text/markdown": [
       "B\n",
       ":   5X\n",
       ":   4\n",
       "\n"
      ],
      "text/plain": [
       "B X \n",
       "5 4 "
      ]
     },
     "metadata": {},
     "output_type": "display_data"
    },
    {
     "data": {
      "text/html": [
       "<strong>B:</strong> 9"
      ],
      "text/latex": [
       "\\textbf{B:} 9"
      ],
      "text/markdown": [
       "**B:** 9"
      ],
      "text/plain": [
       "B \n",
       "9 "
      ]
     },
     "metadata": {},
     "output_type": "display_data"
    }
   ],
   "source": [
    "# Vector element selection: using names of elements\n",
    "\n",
    "#print(pi*1e9)\n",
    "\n",
    "y <- c(3, 1, 4, 1, 5, 9, 2, 6, 5, 4)\n",
    "set.seed(24)\n",
    "names(y) <- sample(LETTERS, 10)\n",
    "\n",
    "y\n",
    "\n",
    "y['J']\n",
    "\n",
    "y[c('I', 'G', 'W')]\n",
    "\n",
    "mean(.Last.value)\n",
    "\n",
    "y[c('B', 'X')]\n",
    "y['B'] + y['X']"
   ]
  },
  {
   "cell_type": "code",
   "execution_count": 13,
   "id": "aa5a71bc-2f0e-41e5-b679-a4f9ef092dbc",
   "metadata": {},
   "outputs": [
    {
     "data": {
      "text/html": [
       "<ol class=list-inline>\n",
       "\t<li>FALSE</li>\n",
       "\t<li>TRUE</li>\n",
       "\t<li>FALSE</li>\n",
       "\t<li>TRUE</li>\n",
       "\t<li>FALSE</li>\n",
       "\t<li>TRUE</li>\n",
       "\t<li>FALSE</li>\n",
       "\t<li>TRUE</li>\n",
       "\t<li>FALSE</li>\n",
       "\t<li>TRUE</li>\n",
       "</ol>\n"
      ],
      "text/latex": [
       "\\begin{enumerate*}\n",
       "\\item FALSE\n",
       "\\item TRUE\n",
       "\\item FALSE\n",
       "\\item TRUE\n",
       "\\item FALSE\n",
       "\\item TRUE\n",
       "\\item FALSE\n",
       "\\item TRUE\n",
       "\\item FALSE\n",
       "\\item TRUE\n",
       "\\end{enumerate*}\n"
      ],
      "text/markdown": [
       "1. FALSE\n",
       "2. TRUE\n",
       "3. FALSE\n",
       "4. TRUE\n",
       "5. FALSE\n",
       "6. TRUE\n",
       "7. FALSE\n",
       "8. TRUE\n",
       "9. FALSE\n",
       "10. TRUE\n",
       "\n",
       "\n"
      ],
      "text/plain": [
       " [1] FALSE  TRUE FALSE  TRUE FALSE  TRUE FALSE  TRUE FALSE  TRUE"
      ]
     },
     "metadata": {},
     "output_type": "display_data"
    },
    {
     "data": {
      "text/html": [
       "<ol class=list-inline>\n",
       "\t<li>7</li>\n",
       "\t<li>8</li>\n",
       "\t<li>8</li>\n",
       "\t<li>8</li>\n",
       "\t<li>8</li>\n",
       "</ol>\n"
      ],
      "text/latex": [
       "\\begin{enumerate*}\n",
       "\\item 7\n",
       "\\item 8\n",
       "\\item 8\n",
       "\\item 8\n",
       "\\item 8\n",
       "\\end{enumerate*}\n"
      ],
      "text/markdown": [
       "1. 7\n",
       "2. 8\n",
       "3. 8\n",
       "4. 8\n",
       "5. 8\n",
       "\n",
       "\n"
      ],
      "text/plain": [
       "[1] 7 8 8 8 8"
      ]
     },
     "metadata": {},
     "output_type": "display_data"
    }
   ],
   "source": [
    "# Vector element selection: by comparison i.e. using logical comparison operators > < >= <= == !=\n",
    "\n",
    "u <- c(2, 7, 1, 8, 2, 8, 1, 8, 2, 8)\n",
    "\n",
    "u > 2\n",
    "\n",
    "u[u > 2]"
   ]
  },
  {
   "cell_type": "code",
   "execution_count": 14,
   "id": "acc033f4-8637-42e6-84ef-b03bb18fbaee",
   "metadata": {},
   "outputs": [
    {
     "data": {
      "text/html": [
       "<table>\n",
       "<tbody>\n",
       "\t<tr><td>1</td><td>2</td><td>3</td></tr>\n",
       "\t<tr><td>4</td><td>5</td><td>6</td></tr>\n",
       "\t<tr><td>7</td><td>8</td><td>9</td></tr>\n",
       "</tbody>\n",
       "</table>\n"
      ],
      "text/latex": [
       "\\begin{tabular}{lll}\n",
       "\t 1 & 2 & 3\\\\\n",
       "\t 4 & 5 & 6\\\\\n",
       "\t 7 & 8 & 9\\\\\n",
       "\\end{tabular}\n"
      ],
      "text/markdown": [
       "\n",
       "| 1 | 2 | 3 |\n",
       "| 4 | 5 | 6 |\n",
       "| 7 | 8 | 9 |\n",
       "\n"
      ],
      "text/plain": [
       "     [,1] [,2] [,3]\n",
       "[1,] 1    2    3   \n",
       "[2,] 4    5    6   \n",
       "[3,] 7    8    9   "
      ]
     },
     "metadata": {},
     "output_type": "display_data"
    }
   ],
   "source": [
    "# Creating matrix\n",
    "\n",
    "M <- matrix(1:9, byrow = TRUE, nrow = 3)\n",
    "M"
   ]
  },
  {
   "cell_type": "code",
   "execution_count": 15,
   "id": "19e1ebde-888c-4b51-aa96-2be2f79ad91f",
   "metadata": {},
   "outputs": [
    {
     "data": {
      "text/html": [
       "<table>\n",
       "<thead><tr><th></th><th scope=col>c1</th><th scope=col>c2</th><th scope=col>c3</th></tr></thead>\n",
       "<tbody>\n",
       "\t<tr><th scope=row>r1</th><td>1</td><td>2</td><td>3</td></tr>\n",
       "\t<tr><th scope=row>r2</th><td>4</td><td>5</td><td>6</td></tr>\n",
       "\t<tr><th scope=row>r3</th><td>7</td><td>8</td><td>9</td></tr>\n",
       "</tbody>\n",
       "</table>\n"
      ],
      "text/latex": [
       "\\begin{tabular}{r|lll}\n",
       "  & c1 & c2 & c3\\\\\n",
       "\\hline\n",
       "\tr1 & 1 & 2 & 3\\\\\n",
       "\tr2 & 4 & 5 & 6\\\\\n",
       "\tr3 & 7 & 8 & 9\\\\\n",
       "\\end{tabular}\n"
      ],
      "text/markdown": [
       "\n",
       "| <!--/--> | c1 | c2 | c3 |\n",
       "|---|---|---|---|\n",
       "| r1 | 1 | 2 | 3 |\n",
       "| r2 | 4 | 5 | 6 |\n",
       "| r3 | 7 | 8 | 9 |\n",
       "\n"
      ],
      "text/plain": [
       "   c1 c2 c3\n",
       "r1 1  2  3 \n",
       "r2 4  5  6 \n",
       "r3 7  8  9 "
      ]
     },
     "metadata": {},
     "output_type": "display_data"
    }
   ],
   "source": [
    "# Naming matrix dimensions\n",
    "\n",
    "rownames(M) <- c('r1', 'r2', 'r3')\n",
    "colnames(M) <- c('c1', 'c2', 'c3')\n",
    "M"
   ]
  },
  {
   "cell_type": "code",
   "execution_count": 16,
   "id": "2dd7c643-596c-4b0b-823e-1dc76996b5d5",
   "metadata": {},
   "outputs": [
    {
     "data": {
      "text/html": [
       "<table>\n",
       "<thead><tr><th></th><th scope=col>c1</th><th scope=col>c2</th><th scope=col>c3</th></tr></thead>\n",
       "<tbody>\n",
       "\t<tr><th scope=row>r1</th><td>1</td><td>2</td><td>3</td></tr>\n",
       "\t<tr><th scope=row>r2</th><td>4</td><td>5</td><td>6</td></tr>\n",
       "\t<tr><th scope=row>r3</th><td>7</td><td>8</td><td>9</td></tr>\n",
       "</tbody>\n",
       "</table>\n"
      ],
      "text/latex": [
       "\\begin{tabular}{r|lll}\n",
       "  & c1 & c2 & c3\\\\\n",
       "\\hline\n",
       "\tr1 & 1 & 2 & 3\\\\\n",
       "\tr2 & 4 & 5 & 6\\\\\n",
       "\tr3 & 7 & 8 & 9\\\\\n",
       "\\end{tabular}\n"
      ],
      "text/markdown": [
       "\n",
       "| <!--/--> | c1 | c2 | c3 |\n",
       "|---|---|---|---|\n",
       "| r1 | 1 | 2 | 3 |\n",
       "| r2 | 4 | 5 | 6 |\n",
       "| r3 | 7 | 8 | 9 |\n",
       "\n"
      ],
      "text/plain": [
       "   c1 c2 c3\n",
       "r1 1  2  3 \n",
       "r2 4  5  6 \n",
       "r3 7  8  9 "
      ]
     },
     "metadata": {},
     "output_type": "display_data"
    },
    {
     "data": {
      "text/html": [
       "<dl class=dl-horizontal>\n",
       "\t<dt>r1</dt>\n",
       "\t\t<dd>6</dd>\n",
       "\t<dt>r2</dt>\n",
       "\t\t<dd>15</dd>\n",
       "\t<dt>r3</dt>\n",
       "\t\t<dd>24</dd>\n",
       "</dl>\n"
      ],
      "text/latex": [
       "\\begin{description*}\n",
       "\\item[r1] 6\n",
       "\\item[r2] 15\n",
       "\\item[r3] 24\n",
       "\\end{description*}\n"
      ],
      "text/markdown": [
       "r1\n",
       ":   6r2\n",
       ":   15r3\n",
       ":   24\n",
       "\n"
      ],
      "text/plain": [
       "r1 r2 r3 \n",
       " 6 15 24 "
      ]
     },
     "metadata": {},
     "output_type": "display_data"
    },
    {
     "data": {
      "text/html": [
       "<dl class=dl-horizontal>\n",
       "\t<dt>c1</dt>\n",
       "\t\t<dd>12</dd>\n",
       "\t<dt>c2</dt>\n",
       "\t\t<dd>15</dd>\n",
       "\t<dt>c3</dt>\n",
       "\t\t<dd>18</dd>\n",
       "</dl>\n"
      ],
      "text/latex": [
       "\\begin{description*}\n",
       "\\item[c1] 12\n",
       "\\item[c2] 15\n",
       "\\item[c3] 18\n",
       "\\end{description*}\n"
      ],
      "text/markdown": [
       "c1\n",
       ":   12c2\n",
       ":   15c3\n",
       ":   18\n",
       "\n"
      ],
      "text/plain": [
       "c1 c2 c3 \n",
       "12 15 18 "
      ]
     },
     "metadata": {},
     "output_type": "display_data"
    }
   ],
   "source": [
    "# Summing rows & columns of matrix\n",
    "\n",
    "M\n",
    "rowSums(M)\n",
    "colSums(M)"
   ]
  },
  {
   "cell_type": "code",
   "execution_count": 17,
   "id": "2a2a56ef-ed20-4bb6-a26f-34cfbb850a1e",
   "metadata": {},
   "outputs": [
    {
     "data": {
      "text/html": [
       "<table>\n",
       "<thead><tr><th></th><th scope=col>c1</th><th scope=col>c2</th><th scope=col>c3</th></tr></thead>\n",
       "<tbody>\n",
       "\t<tr><th scope=row>r1</th><td>1</td><td>2</td><td>3</td></tr>\n",
       "\t<tr><th scope=row>r2</th><td>4</td><td>5</td><td>6</td></tr>\n",
       "\t<tr><th scope=row>r3</th><td>7</td><td>8</td><td>9</td></tr>\n",
       "</tbody>\n",
       "</table>\n"
      ],
      "text/latex": [
       "\\begin{tabular}{r|lll}\n",
       "  & c1 & c2 & c3\\\\\n",
       "\\hline\n",
       "\tr1 & 1 & 2 & 3\\\\\n",
       "\tr2 & 4 & 5 & 6\\\\\n",
       "\tr3 & 7 & 8 & 9\\\\\n",
       "\\end{tabular}\n"
      ],
      "text/markdown": [
       "\n",
       "| <!--/--> | c1 | c2 | c3 |\n",
       "|---|---|---|---|\n",
       "| r1 | 1 | 2 | 3 |\n",
       "| r2 | 4 | 5 | 6 |\n",
       "| r3 | 7 | 8 | 9 |\n",
       "\n"
      ],
      "text/plain": [
       "   c1 c2 c3\n",
       "r1 1  2  3 \n",
       "r2 4  5  6 \n",
       "r3 7  8  9 "
      ]
     },
     "metadata": {},
     "output_type": "display_data"
    },
    {
     "data": {
      "text/html": [
       "<table>\n",
       "<thead><tr><th></th><th scope=col>c1</th><th scope=col>c2</th><th scope=col>c3</th></tr></thead>\n",
       "<tbody>\n",
       "\t<tr><th scope=row>r1</th><td> 1</td><td> 2</td><td> 3</td></tr>\n",
       "\t<tr><th scope=row>r2</th><td> 4</td><td> 5</td><td> 6</td></tr>\n",
       "\t<tr><th scope=row>r3</th><td> 7</td><td> 8</td><td> 9</td></tr>\n",
       "\t<tr><th scope=row></th><td>10</td><td>11</td><td>12</td></tr>\n",
       "</tbody>\n",
       "</table>\n"
      ],
      "text/latex": [
       "\\begin{tabular}{r|lll}\n",
       "  & c1 & c2 & c3\\\\\n",
       "\\hline\n",
       "\tr1 &  1 &  2 &  3\\\\\n",
       "\tr2 &  4 &  5 &  6\\\\\n",
       "\tr3 &  7 &  8 &  9\\\\\n",
       "\t & 10 & 11 & 12\\\\\n",
       "\\end{tabular}\n"
      ],
      "text/markdown": [
       "\n",
       "| <!--/--> | c1 | c2 | c3 |\n",
       "|---|---|---|---|\n",
       "| r1 |  1 |  2 |  3 |\n",
       "| r2 |  4 |  5 |  6 |\n",
       "| r3 |  7 |  8 |  9 |\n",
       "|  | 10 | 11 | 12 |\n",
       "\n"
      ],
      "text/plain": [
       "   c1 c2 c3\n",
       "r1  1  2  3\n",
       "r2  4  5  6\n",
       "r3  7  8  9\n",
       "   10 11 12"
      ]
     },
     "metadata": {},
     "output_type": "display_data"
    },
    {
     "data": {
      "text/html": [
       "<table>\n",
       "<thead><tr><th></th><th scope=col>c1</th><th scope=col>c2</th><th scope=col>c3</th><th scope=col></th></tr></thead>\n",
       "<tbody>\n",
       "\t<tr><th scope=row>r1</th><td>1 </td><td>2 </td><td>3 </td><td>10</td></tr>\n",
       "\t<tr><th scope=row>r2</th><td>4 </td><td>5 </td><td>6 </td><td>11</td></tr>\n",
       "\t<tr><th scope=row>r3</th><td>7 </td><td>8 </td><td>9 </td><td>12</td></tr>\n",
       "</tbody>\n",
       "</table>\n"
      ],
      "text/latex": [
       "\\begin{tabular}{r|llll}\n",
       "  & c1 & c2 & c3 & \\\\\n",
       "\\hline\n",
       "\tr1 & 1  & 2  & 3  & 10\\\\\n",
       "\tr2 & 4  & 5  & 6  & 11\\\\\n",
       "\tr3 & 7  & 8  & 9  & 12\\\\\n",
       "\\end{tabular}\n"
      ],
      "text/markdown": [
       "\n",
       "| <!--/--> | c1 | c2 | c3 |  |\n",
       "|---|---|---|---|---|\n",
       "| r1 | 1  | 2  | 3  | 10 |\n",
       "| r2 | 4  | 5  | 6  | 11 |\n",
       "| r3 | 7  | 8  | 9  | 12 |\n",
       "\n"
      ],
      "text/plain": [
       "   c1 c2 c3   \n",
       "r1 1  2  3  10\n",
       "r2 4  5  6  11\n",
       "r3 7  8  9  12"
      ]
     },
     "metadata": {},
     "output_type": "display_data"
    }
   ],
   "source": [
    "# Adding rows & columns to matrix\n",
    "\n",
    "M\n",
    "rbind(M, c(10, 11, 12)) # add row\n",
    "cbind(M, c(10, 11, 12)) # add column"
   ]
  },
  {
   "cell_type": "code",
   "execution_count": 18,
   "id": "66d64fb8-e0b4-425d-948c-dc4ff1d73d80",
   "metadata": {},
   "outputs": [
    {
     "data": {
      "text/html": [
       "<ol class=list-inline>\n",
       "\t<li>'M'</li>\n",
       "\t<li>'people'</li>\n",
       "\t<li>'u'</li>\n",
       "\t<li>'x'</li>\n",
       "\t<li>'x1'</li>\n",
       "\t<li>'x2'</li>\n",
       "\t<li>'y'</li>\n",
       "\t<li>'z'</li>\n",
       "</ol>\n"
      ],
      "text/latex": [
       "\\begin{enumerate*}\n",
       "\\item 'M'\n",
       "\\item 'people'\n",
       "\\item 'u'\n",
       "\\item 'x'\n",
       "\\item 'x1'\n",
       "\\item 'x2'\n",
       "\\item 'y'\n",
       "\\item 'z'\n",
       "\\end{enumerate*}\n"
      ],
      "text/markdown": [
       "1. 'M'\n",
       "2. 'people'\n",
       "3. 'u'\n",
       "4. 'x'\n",
       "5. 'x1'\n",
       "6. 'x2'\n",
       "7. 'y'\n",
       "8. 'z'\n",
       "\n",
       "\n"
      ],
      "text/plain": [
       "[1] \"M\"      \"people\" \"u\"      \"x\"      \"x1\"     \"x2\"     \"y\"      \"z\"     "
      ]
     },
     "metadata": {},
     "output_type": "display_data"
    }
   ],
   "source": [
    "# What objects do I have in my environment?\n",
    "\n",
    "ls()"
   ]
  },
  {
   "cell_type": "code",
   "execution_count": 19,
   "id": "97d9bc98-a9a7-4c6f-99e8-861a447b36f5",
   "metadata": {},
   "outputs": [
    {
     "data": {
      "text/html": [
       "<table>\n",
       "<thead><tr><th></th><th scope=col>c1</th><th scope=col>c2</th><th scope=col>c3</th></tr></thead>\n",
       "<tbody>\n",
       "\t<tr><th scope=row>r1</th><td>1</td><td>2</td><td>3</td></tr>\n",
       "\t<tr><th scope=row>r2</th><td>4</td><td>5</td><td>6</td></tr>\n",
       "\t<tr><th scope=row>r3</th><td>7</td><td>8</td><td>9</td></tr>\n",
       "</tbody>\n",
       "</table>\n"
      ],
      "text/latex": [
       "\\begin{tabular}{r|lll}\n",
       "  & c1 & c2 & c3\\\\\n",
       "\\hline\n",
       "\tr1 & 1 & 2 & 3\\\\\n",
       "\tr2 & 4 & 5 & 6\\\\\n",
       "\tr3 & 7 & 8 & 9\\\\\n",
       "\\end{tabular}\n"
      ],
      "text/markdown": [
       "\n",
       "| <!--/--> | c1 | c2 | c3 |\n",
       "|---|---|---|---|\n",
       "| r1 | 1 | 2 | 3 |\n",
       "| r2 | 4 | 5 | 6 |\n",
       "| r3 | 7 | 8 | 9 |\n",
       "\n"
      ],
      "text/plain": [
       "   c1 c2 c3\n",
       "r1 1  2  3 \n",
       "r2 4  5  6 \n",
       "r3 7  8  9 "
      ]
     },
     "metadata": {},
     "output_type": "display_data"
    },
    {
     "data": {
      "text/html": [
       "2"
      ],
      "text/latex": [
       "2"
      ],
      "text/markdown": [
       "2"
      ],
      "text/plain": [
       "[1] 2"
      ]
     },
     "metadata": {},
     "output_type": "display_data"
    },
    {
     "data": {
      "text/html": [
       "6"
      ],
      "text/latex": [
       "6"
      ],
      "text/markdown": [
       "6"
      ],
      "text/plain": [
       "[1] 6"
      ]
     },
     "metadata": {},
     "output_type": "display_data"
    },
    {
     "data": {
      "text/html": [
       "<table>\n",
       "<thead><tr><th></th><th scope=col>c2</th><th scope=col>c3</th></tr></thead>\n",
       "<tbody>\n",
       "\t<tr><th scope=row>r1</th><td>2</td><td>3</td></tr>\n",
       "\t<tr><th scope=row>r2</th><td>5</td><td>6</td></tr>\n",
       "</tbody>\n",
       "</table>\n"
      ],
      "text/latex": [
       "\\begin{tabular}{r|ll}\n",
       "  & c2 & c3\\\\\n",
       "\\hline\n",
       "\tr1 & 2 & 3\\\\\n",
       "\tr2 & 5 & 6\\\\\n",
       "\\end{tabular}\n"
      ],
      "text/markdown": [
       "\n",
       "| <!--/--> | c2 | c3 |\n",
       "|---|---|---|\n",
       "| r1 | 2 | 3 |\n",
       "| r2 | 5 | 6 |\n",
       "\n"
      ],
      "text/plain": [
       "   c2 c3\n",
       "r1 2  3 \n",
       "r2 5  6 "
      ]
     },
     "metadata": {},
     "output_type": "display_data"
    },
    {
     "data": {
      "text/html": [
       "<dl class=dl-horizontal>\n",
       "\t<dt>r1</dt>\n",
       "\t\t<dd>2</dd>\n",
       "\t<dt>r2</dt>\n",
       "\t\t<dd>5</dd>\n",
       "\t<dt>r3</dt>\n",
       "\t\t<dd>8</dd>\n",
       "</dl>\n"
      ],
      "text/latex": [
       "\\begin{description*}\n",
       "\\item[r1] 2\n",
       "\\item[r2] 5\n",
       "\\item[r3] 8\n",
       "\\end{description*}\n"
      ],
      "text/markdown": [
       "r1\n",
       ":   2r2\n",
       ":   5r3\n",
       ":   8\n",
       "\n"
      ],
      "text/plain": [
       "r1 r2 r3 \n",
       " 2  5  8 "
      ]
     },
     "metadata": {},
     "output_type": "display_data"
    },
    {
     "data": {
      "text/html": [
       "<dl class=dl-horizontal>\n",
       "\t<dt>c1</dt>\n",
       "\t\t<dd>7</dd>\n",
       "\t<dt>c2</dt>\n",
       "\t\t<dd>8</dd>\n",
       "\t<dt>c3</dt>\n",
       "\t\t<dd>9</dd>\n",
       "</dl>\n"
      ],
      "text/latex": [
       "\\begin{description*}\n",
       "\\item[c1] 7\n",
       "\\item[c2] 8\n",
       "\\item[c3] 9\n",
       "\\end{description*}\n"
      ],
      "text/markdown": [
       "c1\n",
       ":   7c2\n",
       ":   8c3\n",
       ":   9\n",
       "\n"
      ],
      "text/plain": [
       "c1 c2 c3 \n",
       " 7  8  9 "
      ]
     },
     "metadata": {},
     "output_type": "display_data"
    }
   ],
   "source": [
    "# Selecting matrix elements\n",
    "\n",
    "M\n",
    "M[1, 2]\n",
    "M[2, 3]\n",
    "M[1:2, 2:3]\n",
    "M[, 2] # all elements of column 2\n",
    "M[3, ] # all elements of row 3\n",
    "\n",
    "# see tidyverse style guide about spaces https://style.tidyverse.org/index.html \n",
    "# 'Always put a space after a comma, never before, just like in regular English.'"
   ]
  },
  {
   "cell_type": "code",
   "execution_count": 20,
   "id": "df0c2406-d7a7-449f-a35e-f9ab42706c68",
   "metadata": {},
   "outputs": [
    {
     "data": {
      "text/html": [
       "<table>\n",
       "<thead><tr><th></th><th scope=col>c1</th><th scope=col>c2</th><th scope=col>c3</th></tr></thead>\n",
       "<tbody>\n",
       "\t<tr><th scope=row>r1</th><td>1</td><td>2</td><td>3</td></tr>\n",
       "\t<tr><th scope=row>r2</th><td>4</td><td>5</td><td>6</td></tr>\n",
       "\t<tr><th scope=row>r3</th><td>7</td><td>8</td><td>9</td></tr>\n",
       "</tbody>\n",
       "</table>\n"
      ],
      "text/latex": [
       "\\begin{tabular}{r|lll}\n",
       "  & c1 & c2 & c3\\\\\n",
       "\\hline\n",
       "\tr1 & 1 & 2 & 3\\\\\n",
       "\tr2 & 4 & 5 & 6\\\\\n",
       "\tr3 & 7 & 8 & 9\\\\\n",
       "\\end{tabular}\n"
      ],
      "text/markdown": [
       "\n",
       "| <!--/--> | c1 | c2 | c3 |\n",
       "|---|---|---|---|\n",
       "| r1 | 1 | 2 | 3 |\n",
       "| r2 | 4 | 5 | 6 |\n",
       "| r3 | 7 | 8 | 9 |\n",
       "\n"
      ],
      "text/plain": [
       "   c1 c2 c3\n",
       "r1 1  2  3 \n",
       "r2 4  5  6 \n",
       "r3 7  8  9 "
      ]
     },
     "metadata": {},
     "output_type": "display_data"
    },
    {
     "data": {
      "text/html": [
       "5"
      ],
      "text/latex": [
       "5"
      ],
      "text/markdown": [
       "5"
      ],
      "text/plain": [
       "[1] 5"
      ]
     },
     "metadata": {},
     "output_type": "display_data"
    },
    {
     "data": {
      "text/html": [
       "5"
      ],
      "text/latex": [
       "5"
      ],
      "text/markdown": [
       "5"
      ],
      "text/plain": [
       "[1] 5"
      ]
     },
     "metadata": {},
     "output_type": "display_data"
    },
    {
     "data": {
      "text/html": [
       "2.73861278752583"
      ],
      "text/latex": [
       "2.73861278752583"
      ],
      "text/markdown": [
       "2.73861278752583"
      ],
      "text/plain": [
       "[1] 2.738613"
      ]
     },
     "metadata": {},
     "output_type": "display_data"
    },
    {
     "data": {
      "text/html": [
       "9"
      ],
      "text/latex": [
       "9"
      ],
      "text/markdown": [
       "9"
      ],
      "text/plain": [
       "[1] 9"
      ]
     },
     "metadata": {},
     "output_type": "display_data"
    },
    {
     "data": {
      "text/html": [
       "1"
      ],
      "text/latex": [
       "1"
      ],
      "text/markdown": [
       "1"
      ],
      "text/plain": [
       "[1] 1"
      ]
     },
     "metadata": {},
     "output_type": "display_data"
    },
    {
     "data": {
      "text/plain": [
       "       c1            c2            c3     \n",
       " Min.   :1.0   Min.   :2.0   Min.   :3.0  \n",
       " 1st Qu.:2.5   1st Qu.:3.5   1st Qu.:4.5  \n",
       " Median :4.0   Median :5.0   Median :6.0  \n",
       " Mean   :4.0   Mean   :5.0   Mean   :6.0  \n",
       " 3rd Qu.:5.5   3rd Qu.:6.5   3rd Qu.:7.5  \n",
       " Max.   :7.0   Max.   :8.0   Max.   :9.0  "
      ]
     },
     "metadata": {},
     "output_type": "display_data"
    },
    {
     "data": {
      "text/plain": [
       "       r1            r2            r3     \n",
       " Min.   :1.0   Min.   :4.0   Min.   :7.0  \n",
       " 1st Qu.:1.5   1st Qu.:4.5   1st Qu.:7.5  \n",
       " Median :2.0   Median :5.0   Median :8.0  \n",
       " Mean   :2.0   Mean   :5.0   Mean   :8.0  \n",
       " 3rd Qu.:2.5   3rd Qu.:5.5   3rd Qu.:8.5  \n",
       " Max.   :3.0   Max.   :6.0   Max.   :9.0  "
      ]
     },
     "metadata": {},
     "output_type": "display_data"
    }
   ],
   "source": [
    "# summary stats of matrix\n",
    "\n",
    "M\n",
    "mean(M)\n",
    "median(M)\n",
    "sd(M) # standard deviation\n",
    "max(M)\n",
    "min(M)\n",
    "\n",
    "summary(M)\n",
    "summary(t(M))"
   ]
  },
  {
   "cell_type": "code",
   "execution_count": 21,
   "id": "608850c4-e0d2-4715-89d7-064aa04be770",
   "metadata": {},
   "outputs": [
    {
     "data": {
      "text/html": [
       "<table>\n",
       "<thead><tr><th></th><th scope=col>c1</th><th scope=col>c2</th><th scope=col>c3</th></tr></thead>\n",
       "<tbody>\n",
       "\t<tr><th scope=row>r1</th><td>1</td><td>2</td><td>3</td></tr>\n",
       "\t<tr><th scope=row>r2</th><td>4</td><td>5</td><td>6</td></tr>\n",
       "\t<tr><th scope=row>r3</th><td>7</td><td>8</td><td>9</td></tr>\n",
       "</tbody>\n",
       "</table>\n"
      ],
      "text/latex": [
       "\\begin{tabular}{r|lll}\n",
       "  & c1 & c2 & c3\\\\\n",
       "\\hline\n",
       "\tr1 & 1 & 2 & 3\\\\\n",
       "\tr2 & 4 & 5 & 6\\\\\n",
       "\tr3 & 7 & 8 & 9\\\\\n",
       "\\end{tabular}\n"
      ],
      "text/markdown": [
       "\n",
       "| <!--/--> | c1 | c2 | c3 |\n",
       "|---|---|---|---|\n",
       "| r1 | 1 | 2 | 3 |\n",
       "| r2 | 4 | 5 | 6 |\n",
       "| r3 | 7 | 8 | 9 |\n",
       "\n"
      ],
      "text/plain": [
       "   c1 c2 c3\n",
       "r1 1  2  3 \n",
       "r2 4  5  6 \n",
       "r3 7  8  9 "
      ]
     },
     "metadata": {},
     "output_type": "display_data"
    },
    {
     "data": {
      "text/html": [
       "<table>\n",
       "<thead><tr><th></th><th scope=col>c1</th><th scope=col>c2</th><th scope=col>c3</th></tr></thead>\n",
       "<tbody>\n",
       "\t<tr><th scope=row>r1</th><td> 1</td><td> 4</td><td> 9</td></tr>\n",
       "\t<tr><th scope=row>r2</th><td>16</td><td>25</td><td>36</td></tr>\n",
       "\t<tr><th scope=row>r3</th><td>49</td><td>64</td><td>81</td></tr>\n",
       "</tbody>\n",
       "</table>\n"
      ],
      "text/latex": [
       "\\begin{tabular}{r|lll}\n",
       "  & c1 & c2 & c3\\\\\n",
       "\\hline\n",
       "\tr1 &  1 &  4 &  9\\\\\n",
       "\tr2 & 16 & 25 & 36\\\\\n",
       "\tr3 & 49 & 64 & 81\\\\\n",
       "\\end{tabular}\n"
      ],
      "text/markdown": [
       "\n",
       "| <!--/--> | c1 | c2 | c3 |\n",
       "|---|---|---|---|\n",
       "| r1 |  1 |  4 |  9 |\n",
       "| r2 | 16 | 25 | 36 |\n",
       "| r3 | 49 | 64 | 81 |\n",
       "\n"
      ],
      "text/plain": [
       "   c1 c2 c3\n",
       "r1  1  4  9\n",
       "r2 16 25 36\n",
       "r3 49 64 81"
      ]
     },
     "metadata": {},
     "output_type": "display_data"
    },
    {
     "data": {
      "text/html": [
       "<table>\n",
       "<thead><tr><th></th><th scope=col>c1</th><th scope=col>c2</th><th scope=col>c3</th></tr></thead>\n",
       "<tbody>\n",
       "\t<tr><th scope=row>r1</th><td>1</td><td>0</td><td>1</td></tr>\n",
       "\t<tr><th scope=row>r2</th><td>0</td><td>1</td><td>0</td></tr>\n",
       "\t<tr><th scope=row>r3</th><td>1</td><td>0</td><td>1</td></tr>\n",
       "</tbody>\n",
       "</table>\n"
      ],
      "text/latex": [
       "\\begin{tabular}{r|lll}\n",
       "  & c1 & c2 & c3\\\\\n",
       "\\hline\n",
       "\tr1 & 1 & 0 & 1\\\\\n",
       "\tr2 & 0 & 1 & 0\\\\\n",
       "\tr3 & 1 & 0 & 1\\\\\n",
       "\\end{tabular}\n"
      ],
      "text/markdown": [
       "\n",
       "| <!--/--> | c1 | c2 | c3 |\n",
       "|---|---|---|---|\n",
       "| r1 | 1 | 0 | 1 |\n",
       "| r2 | 0 | 1 | 0 |\n",
       "| r3 | 1 | 0 | 1 |\n",
       "\n"
      ],
      "text/plain": [
       "   c1 c2 c3\n",
       "r1 1  0  1 \n",
       "r2 0  1  0 \n",
       "r3 1  0  1 "
      ]
     },
     "metadata": {},
     "output_type": "display_data"
    },
    {
     "data": {
      "text/html": [
       "<table>\n",
       "<thead><tr><th></th><th scope=col>c1</th><th scope=col>c2</th><th scope=col>c3</th></tr></thead>\n",
       "<tbody>\n",
       "\t<tr><th scope=row>r1</th><td>0.3333333</td><td>0.6666667</td><td>1        </td></tr>\n",
       "\t<tr><th scope=row>r2</th><td>1.3333333</td><td>1.6666667</td><td>2        </td></tr>\n",
       "\t<tr><th scope=row>r3</th><td>2.3333333</td><td>2.6666667</td><td>3        </td></tr>\n",
       "</tbody>\n",
       "</table>\n"
      ],
      "text/latex": [
       "\\begin{tabular}{r|lll}\n",
       "  & c1 & c2 & c3\\\\\n",
       "\\hline\n",
       "\tr1 & 0.3333333 & 0.6666667 & 1        \\\\\n",
       "\tr2 & 1.3333333 & 1.6666667 & 2        \\\\\n",
       "\tr3 & 2.3333333 & 2.6666667 & 3        \\\\\n",
       "\\end{tabular}\n"
      ],
      "text/markdown": [
       "\n",
       "| <!--/--> | c1 | c2 | c3 |\n",
       "|---|---|---|---|\n",
       "| r1 | 0.3333333 | 0.6666667 | 1         |\n",
       "| r2 | 1.3333333 | 1.6666667 | 2         |\n",
       "| r3 | 2.3333333 | 2.6666667 | 3         |\n",
       "\n"
      ],
      "text/plain": [
       "   c1        c2        c3\n",
       "r1 0.3333333 0.6666667 1 \n",
       "r2 1.3333333 1.6666667 2 \n",
       "r3 2.3333333 2.6666667 3 "
      ]
     },
     "metadata": {},
     "output_type": "display_data"
    },
    {
     "data": {
      "text/html": [
       "<table>\n",
       "<thead><tr><th></th><th scope=col>c1</th><th scope=col>c2</th><th scope=col>c3</th></tr></thead>\n",
       "<tbody>\n",
       "\t<tr><th scope=row>r1</th><td>0</td><td>1</td><td>2</td></tr>\n",
       "\t<tr><th scope=row>r2</th><td>3</td><td>4</td><td>5</td></tr>\n",
       "\t<tr><th scope=row>r3</th><td>6</td><td>7</td><td>8</td></tr>\n",
       "</tbody>\n",
       "</table>\n"
      ],
      "text/latex": [
       "\\begin{tabular}{r|lll}\n",
       "  & c1 & c2 & c3\\\\\n",
       "\\hline\n",
       "\tr1 & 0 & 1 & 2\\\\\n",
       "\tr2 & 3 & 4 & 5\\\\\n",
       "\tr3 & 6 & 7 & 8\\\\\n",
       "\\end{tabular}\n"
      ],
      "text/markdown": [
       "\n",
       "| <!--/--> | c1 | c2 | c3 |\n",
       "|---|---|---|---|\n",
       "| r1 | 0 | 1 | 2 |\n",
       "| r2 | 3 | 4 | 5 |\n",
       "| r3 | 6 | 7 | 8 |\n",
       "\n"
      ],
      "text/plain": [
       "   c1 c2 c3\n",
       "r1 0  1  2 \n",
       "r2 3  4  5 \n",
       "r3 6  7  8 "
      ]
     },
     "metadata": {},
     "output_type": "display_data"
    },
    {
     "data": {
      "text/html": [
       "<table>\n",
       "<thead><tr><th></th><th scope=col>c1</th><th scope=col>c2</th><th scope=col>c3</th></tr></thead>\n",
       "<tbody>\n",
       "\t<tr><th scope=row>r1</th><td>0.000000 </td><td>0.6931472</td><td>1.098612 </td></tr>\n",
       "\t<tr><th scope=row>r2</th><td>1.386294 </td><td>1.6094379</td><td>1.791759 </td></tr>\n",
       "\t<tr><th scope=row>r3</th><td>1.945910 </td><td>2.0794415</td><td>2.197225 </td></tr>\n",
       "</tbody>\n",
       "</table>\n"
      ],
      "text/latex": [
       "\\begin{tabular}{r|lll}\n",
       "  & c1 & c2 & c3\\\\\n",
       "\\hline\n",
       "\tr1 & 0.000000  & 0.6931472 & 1.098612 \\\\\n",
       "\tr2 & 1.386294  & 1.6094379 & 1.791759 \\\\\n",
       "\tr3 & 1.945910  & 2.0794415 & 2.197225 \\\\\n",
       "\\end{tabular}\n"
      ],
      "text/markdown": [
       "\n",
       "| <!--/--> | c1 | c2 | c3 |\n",
       "|---|---|---|---|\n",
       "| r1 | 0.000000  | 0.6931472 | 1.098612  |\n",
       "| r2 | 1.386294  | 1.6094379 | 1.791759  |\n",
       "| r3 | 1.945910  | 2.0794415 | 2.197225  |\n",
       "\n"
      ],
      "text/plain": [
       "   c1       c2        c3      \n",
       "r1 0.000000 0.6931472 1.098612\n",
       "r2 1.386294 1.6094379 1.791759\n",
       "r3 1.945910 2.0794415 2.197225"
      ]
     },
     "metadata": {},
     "output_type": "display_data"
    }
   ],
   "source": [
    "# Element-wise matrix arithmetic\n",
    "\n",
    "M\n",
    "M^2 # squares each element\n",
    "M%%2 # checks if each element is odd/even\n",
    "\n",
    "M/3\n",
    "M - 1\n",
    "log(M)"
   ]
  },
  {
   "cell_type": "code",
   "execution_count": 22,
   "id": "1fe5d9ea-0564-4af3-b1ae-8926e5b11d8a",
   "metadata": {},
   "outputs": [
    {
     "data": {
      "text/html": [
       "<table>\n",
       "<tbody>\n",
       "\t<tr><td>6</td><td>0</td><td>7</td></tr>\n",
       "\t<tr><td>2</td><td>4</td><td>9</td></tr>\n",
       "\t<tr><td>7</td><td>1</td><td>5</td></tr>\n",
       "</tbody>\n",
       "</table>\n"
      ],
      "text/latex": [
       "\\begin{tabular}{lll}\n",
       "\t 6 & 0 & 7\\\\\n",
       "\t 2 & 4 & 9\\\\\n",
       "\t 7 & 1 & 5\\\\\n",
       "\\end{tabular}\n"
      ],
      "text/markdown": [
       "\n",
       "| 6 | 0 | 7 |\n",
       "| 2 | 4 | 9 |\n",
       "| 7 | 1 | 5 |\n",
       "\n"
      ],
      "text/plain": [
       "     [,1] [,2] [,3]\n",
       "[1,] 6    0    7   \n",
       "[2,] 2    4    9   \n",
       "[3,] 7    1    5   "
      ]
     },
     "metadata": {},
     "output_type": "display_data"
    },
    {
     "data": {
      "text/html": [
       "<table>\n",
       "<thead><tr><th></th><th scope=col>c1</th><th scope=col>c2</th><th scope=col>c3</th></tr></thead>\n",
       "<tbody>\n",
       "\t<tr><th scope=row>r1</th><td>1</td><td>2</td><td>3</td></tr>\n",
       "\t<tr><th scope=row>r2</th><td>4</td><td>5</td><td>6</td></tr>\n",
       "\t<tr><th scope=row>r3</th><td>7</td><td>8</td><td>9</td></tr>\n",
       "</tbody>\n",
       "</table>\n"
      ],
      "text/latex": [
       "\\begin{tabular}{r|lll}\n",
       "  & c1 & c2 & c3\\\\\n",
       "\\hline\n",
       "\tr1 & 1 & 2 & 3\\\\\n",
       "\tr2 & 4 & 5 & 6\\\\\n",
       "\tr3 & 7 & 8 & 9\\\\\n",
       "\\end{tabular}\n"
      ],
      "text/markdown": [
       "\n",
       "| <!--/--> | c1 | c2 | c3 |\n",
       "|---|---|---|---|\n",
       "| r1 | 1 | 2 | 3 |\n",
       "| r2 | 4 | 5 | 6 |\n",
       "| r3 | 7 | 8 | 9 |\n",
       "\n"
      ],
      "text/plain": [
       "   c1 c2 c3\n",
       "r1 1  2  3 \n",
       "r2 4  5  6 \n",
       "r3 7  8  9 "
      ]
     },
     "metadata": {},
     "output_type": "display_data"
    },
    {
     "data": {
      "text/html": [
       "<table>\n",
       "<thead><tr><th></th><th scope=col>c1</th><th scope=col>c2</th><th scope=col>c3</th></tr></thead>\n",
       "<tbody>\n",
       "\t<tr><th scope=row>r1</th><td> 6</td><td> 0</td><td>21</td></tr>\n",
       "\t<tr><th scope=row>r2</th><td> 8</td><td>20</td><td>54</td></tr>\n",
       "\t<tr><th scope=row>r3</th><td>49</td><td> 8</td><td>45</td></tr>\n",
       "</tbody>\n",
       "</table>\n"
      ],
      "text/latex": [
       "\\begin{tabular}{r|lll}\n",
       "  & c1 & c2 & c3\\\\\n",
       "\\hline\n",
       "\tr1 &  6 &  0 & 21\\\\\n",
       "\tr2 &  8 & 20 & 54\\\\\n",
       "\tr3 & 49 &  8 & 45\\\\\n",
       "\\end{tabular}\n"
      ],
      "text/markdown": [
       "\n",
       "| <!--/--> | c1 | c2 | c3 |\n",
       "|---|---|---|---|\n",
       "| r1 |  6 |  0 | 21 |\n",
       "| r2 |  8 | 20 | 54 |\n",
       "| r3 | 49 |  8 | 45 |\n",
       "\n"
      ],
      "text/plain": [
       "   c1 c2 c3\n",
       "r1  6  0 21\n",
       "r2  8 20 54\n",
       "r3 49  8 45"
      ]
     },
     "metadata": {},
     "output_type": "display_data"
    },
    {
     "data": {
      "text/html": [
       "<table>\n",
       "<thead><tr><th></th><th scope=col>c1</th><th scope=col>c2</th><th scope=col>c3</th></tr></thead>\n",
       "<tbody>\n",
       "\t<tr><th scope=row>r1</th><td> 6</td><td> 0</td><td>21</td></tr>\n",
       "\t<tr><th scope=row>r2</th><td> 8</td><td>20</td><td>54</td></tr>\n",
       "\t<tr><th scope=row>r3</th><td>49</td><td> 8</td><td>45</td></tr>\n",
       "</tbody>\n",
       "</table>\n"
      ],
      "text/latex": [
       "\\begin{tabular}{r|lll}\n",
       "  & c1 & c2 & c3\\\\\n",
       "\\hline\n",
       "\tr1 &  6 &  0 & 21\\\\\n",
       "\tr2 &  8 & 20 & 54\\\\\n",
       "\tr3 & 49 &  8 & 45\\\\\n",
       "\\end{tabular}\n"
      ],
      "text/markdown": [
       "\n",
       "| <!--/--> | c1 | c2 | c3 |\n",
       "|---|---|---|---|\n",
       "| r1 |  6 |  0 | 21 |\n",
       "| r2 |  8 | 20 | 54 |\n",
       "| r3 | 49 |  8 | 45 |\n",
       "\n"
      ],
      "text/plain": [
       "   c1 c2 c3\n",
       "r1  6  0 21\n",
       "r2  8 20 54\n",
       "r3 49  8 45"
      ]
     },
     "metadata": {},
     "output_type": "display_data"
    },
    {
     "data": {
      "text/html": [
       "<table>\n",
       "<tbody>\n",
       "\t<tr><th scope=row>r1</th><td> 31</td><td>11 </td><td> 40</td></tr>\n",
       "\t<tr><th scope=row>r2</th><td> 76</td><td>26 </td><td>103</td></tr>\n",
       "\t<tr><th scope=row>r3</th><td>121</td><td>41 </td><td>166</td></tr>\n",
       "</tbody>\n",
       "</table>\n"
      ],
      "text/latex": [
       "\\begin{tabular}{r|lll}\n",
       "\tr1 &  31 & 11  &  40\\\\\n",
       "\tr2 &  76 & 26  & 103\\\\\n",
       "\tr3 & 121 & 41  & 166\\\\\n",
       "\\end{tabular}\n"
      ],
      "text/markdown": [
       "\n",
       "| r1 |  31 | 11  |  40 |\n",
       "| r2 |  76 | 26  | 103 |\n",
       "| r3 | 121 | 41  | 166 |\n",
       "\n"
      ],
      "text/plain": [
       "   [,1] [,2] [,3]\n",
       "r1  31  11    40 \n",
       "r2  76  26   103 \n",
       "r3 121  41   166 "
      ]
     },
     "metadata": {},
     "output_type": "display_data"
    },
    {
     "data": {
      "text/html": [
       "<table>\n",
       "<thead><tr><th scope=col>c1</th><th scope=col>c2</th><th scope=col>c3</th></tr></thead>\n",
       "<tbody>\n",
       "\t<tr><td>55 </td><td>68 </td><td> 81</td></tr>\n",
       "\t<tr><td>81 </td><td>96 </td><td>111</td></tr>\n",
       "\t<tr><td>46 </td><td>59 </td><td> 72</td></tr>\n",
       "</tbody>\n",
       "</table>\n"
      ],
      "text/latex": [
       "\\begin{tabular}{lll}\n",
       " c1 & c2 & c3\\\\\n",
       "\\hline\n",
       "\t 55  & 68  &  81\\\\\n",
       "\t 81  & 96  & 111\\\\\n",
       "\t 46  & 59  &  72\\\\\n",
       "\\end{tabular}\n"
      ],
      "text/markdown": [
       "\n",
       "| c1 | c2 | c3 |\n",
       "|---|---|---|\n",
       "| 55  | 68  |  81 |\n",
       "| 81  | 96  | 111 |\n",
       "| 46  | 59  |  72 |\n",
       "\n"
      ],
      "text/plain": [
       "     c1 c2 c3 \n",
       "[1,] 55 68  81\n",
       "[2,] 81 96 111\n",
       "[3,] 46 59  72"
      ]
     },
     "metadata": {},
     "output_type": "display_data"
    }
   ],
   "source": [
    "# Element-wise vs standard matrix multiplication\n",
    "\n",
    "set.seed(51)\n",
    "N <- matrix(sample(0:9, size = 9, replace = TRUE), nrow = 3)\n",
    "N\n",
    "M\n",
    "\n",
    "M*N # Element-wise\n",
    "N*M # Element-wise\n",
    "\n",
    "# for Element-wise, order makes no difference\n",
    "\n",
    "M%*%N # standard\n",
    "N%*%M # standard\n",
    "\n",
    "# for standard, order DOES make a difference"
   ]
  },
  {
   "cell_type": "code",
   "execution_count": 23,
   "id": "465286c0-ee77-4cd3-a922-150b645a5f37",
   "metadata": {},
   "outputs": [
    {
     "data": {
      "text/html": [
       "<ol class=list-inline>\n",
       "\t<li>'black'</li>\n",
       "\t<li>'green'</li>\n",
       "\t<li>'blue'</li>\n",
       "\t<li>'brown'</li>\n",
       "\t<li>'green'</li>\n",
       "\t<li>'green'</li>\n",
       "\t<li>'blue'</li>\n",
       "\t<li>'blue'</li>\n",
       "\t<li>'black'</li>\n",
       "\t<li>'brown'</li>\n",
       "</ol>\n"
      ],
      "text/latex": [
       "\\begin{enumerate*}\n",
       "\\item 'black'\n",
       "\\item 'green'\n",
       "\\item 'blue'\n",
       "\\item 'brown'\n",
       "\\item 'green'\n",
       "\\item 'green'\n",
       "\\item 'blue'\n",
       "\\item 'blue'\n",
       "\\item 'black'\n",
       "\\item 'brown'\n",
       "\\end{enumerate*}\n"
      ],
      "text/markdown": [
       "1. 'black'\n",
       "2. 'green'\n",
       "3. 'blue'\n",
       "4. 'brown'\n",
       "5. 'green'\n",
       "6. 'green'\n",
       "7. 'blue'\n",
       "8. 'blue'\n",
       "9. 'black'\n",
       "10. 'brown'\n",
       "\n",
       "\n"
      ],
      "text/plain": [
       " [1] \"black\" \"green\" \"blue\"  \"brown\" \"green\" \"green\" \"blue\"  \"blue\"  \"black\"\n",
       "[10] \"brown\""
      ]
     },
     "metadata": {},
     "output_type": "display_data"
    },
    {
     "data": {
      "text/html": [
       "'character'"
      ],
      "text/latex": [
       "'character'"
      ],
      "text/markdown": [
       "'character'"
      ],
      "text/plain": [
       "[1] \"character\""
      ]
     },
     "metadata": {},
     "output_type": "display_data"
    },
    {
     "data": {
      "text/html": [
       "<ol class=list-inline>\n",
       "\t<li>black</li>\n",
       "\t<li>green</li>\n",
       "\t<li>blue</li>\n",
       "\t<li>brown</li>\n",
       "\t<li>green</li>\n",
       "\t<li>green</li>\n",
       "\t<li>blue</li>\n",
       "\t<li>blue</li>\n",
       "\t<li>black</li>\n",
       "\t<li>brown</li>\n",
       "</ol>\n",
       "\n",
       "<details>\n",
       "\t<summary style=display:list-item;cursor:pointer>\n",
       "\t\t<strong>Levels</strong>:\n",
       "\t</summary>\n",
       "\t<ol class=list-inline>\n",
       "\t\t<li>'black'</li>\n",
       "\t\t<li>'blue'</li>\n",
       "\t\t<li>'brown'</li>\n",
       "\t\t<li>'green'</li>\n",
       "\t</ol>\n",
       "</details>"
      ],
      "text/latex": [
       "\\begin{enumerate*}\n",
       "\\item black\n",
       "\\item green\n",
       "\\item blue\n",
       "\\item brown\n",
       "\\item green\n",
       "\\item green\n",
       "\\item blue\n",
       "\\item blue\n",
       "\\item black\n",
       "\\item brown\n",
       "\\end{enumerate*}\n",
       "\n",
       "\\emph{Levels}: \\begin{enumerate*}\n",
       "\\item 'black'\n",
       "\\item 'blue'\n",
       "\\item 'brown'\n",
       "\\item 'green'\n",
       "\\end{enumerate*}\n"
      ],
      "text/markdown": [
       "1. black\n",
       "2. green\n",
       "3. blue\n",
       "4. brown\n",
       "5. green\n",
       "6. green\n",
       "7. blue\n",
       "8. blue\n",
       "9. black\n",
       "10. brown\n",
       "\n",
       "\n",
       "\n",
       "**Levels**: 1. 'black'\n",
       "2. 'blue'\n",
       "3. 'brown'\n",
       "4. 'green'\n",
       "\n",
       "\n"
      ],
      "text/plain": [
       " [1] black green blue  brown green green blue  blue  black brown\n",
       "Levels: black blue brown green"
      ]
     },
     "metadata": {},
     "output_type": "display_data"
    },
    {
     "data": {
      "text/html": [
       "'factor'"
      ],
      "text/latex": [
       "'factor'"
      ],
      "text/markdown": [
       "'factor'"
      ],
      "text/plain": [
       "[1] \"factor\""
      ]
     },
     "metadata": {},
     "output_type": "display_data"
    }
   ],
   "source": [
    "# Factors (used to store categorical variables)\n",
    "\n",
    "set.seed(91)\n",
    "eye_color <- sample(c('black', 'brown', 'blue', 'green'), size = 10, replace = TRUE)\n",
    "eye_color\n",
    "class(eye_color)\n",
    "\n",
    "# change from 'character' to 'factor'\n",
    "\n",
    "eye_color_factor <- factor(eye_color)\n",
    "eye_color_factor\n",
    "class(eye_color_factor)"
   ]
  },
  {
   "cell_type": "code",
   "execution_count": 24,
   "id": "83939449-fa9d-4bed-bc44-9f6cbc534f98",
   "metadata": {},
   "outputs": [
    {
     "data": {
      "text/html": [
       "<ol class=list-inline>\n",
       "\t<li>black</li>\n",
       "\t<li>green</li>\n",
       "\t<li>blue</li>\n",
       "\t<li>brown</li>\n",
       "\t<li>green</li>\n",
       "\t<li>green</li>\n",
       "\t<li>blue</li>\n",
       "\t<li>blue</li>\n",
       "\t<li>black</li>\n",
       "\t<li>brown</li>\n",
       "</ol>\n",
       "\n",
       "<details>\n",
       "\t<summary style=display:list-item;cursor:pointer>\n",
       "\t\t<strong>Levels</strong>:\n",
       "\t</summary>\n",
       "\t<ol class=list-inline>\n",
       "\t\t<li>'black'</li>\n",
       "\t\t<li>'blue'</li>\n",
       "\t\t<li>'brown'</li>\n",
       "\t\t<li>'green'</li>\n",
       "\t</ol>\n",
       "</details>"
      ],
      "text/latex": [
       "\\begin{enumerate*}\n",
       "\\item black\n",
       "\\item green\n",
       "\\item blue\n",
       "\\item brown\n",
       "\\item green\n",
       "\\item green\n",
       "\\item blue\n",
       "\\item blue\n",
       "\\item black\n",
       "\\item brown\n",
       "\\end{enumerate*}\n",
       "\n",
       "\\emph{Levels}: \\begin{enumerate*}\n",
       "\\item 'black'\n",
       "\\item 'blue'\n",
       "\\item 'brown'\n",
       "\\item 'green'\n",
       "\\end{enumerate*}\n"
      ],
      "text/markdown": [
       "1. black\n",
       "2. green\n",
       "3. blue\n",
       "4. brown\n",
       "5. green\n",
       "6. green\n",
       "7. blue\n",
       "8. blue\n",
       "9. black\n",
       "10. brown\n",
       "\n",
       "\n",
       "\n",
       "**Levels**: 1. 'black'\n",
       "2. 'blue'\n",
       "3. 'brown'\n",
       "4. 'green'\n",
       "\n",
       "\n"
      ],
      "text/plain": [
       " [1] black green blue  brown green green blue  blue  black brown\n",
       "Levels: black blue brown green"
      ]
     },
     "metadata": {},
     "output_type": "display_data"
    },
    {
     "data": {
      "text/html": [
       "<ol class=list-inline>\n",
       "\t<li>'black'</li>\n",
       "\t<li>'blue'</li>\n",
       "\t<li>'brown'</li>\n",
       "\t<li>'green'</li>\n",
       "</ol>\n"
      ],
      "text/latex": [
       "\\begin{enumerate*}\n",
       "\\item 'black'\n",
       "\\item 'blue'\n",
       "\\item 'brown'\n",
       "\\item 'green'\n",
       "\\end{enumerate*}\n"
      ],
      "text/markdown": [
       "1. 'black'\n",
       "2. 'blue'\n",
       "3. 'brown'\n",
       "4. 'green'\n",
       "\n",
       "\n"
      ],
      "text/plain": [
       "[1] \"black\" \"blue\"  \"brown\" \"green\""
      ]
     },
     "metadata": {},
     "output_type": "display_data"
    },
    {
     "data": {
      "text/html": [
       "<ol class=list-inline>\n",
       "\t<li>'Low'</li>\n",
       "\t<li>'Low'</li>\n",
       "\t<li>'High'</li>\n",
       "\t<li>'Low'</li>\n",
       "\t<li>'Low'</li>\n",
       "\t<li>'High'</li>\n",
       "\t<li>'High'</li>\n",
       "\t<li>'Low'</li>\n",
       "\t<li>'High'</li>\n",
       "\t<li>'Low'</li>\n",
       "</ol>\n"
      ],
      "text/latex": [
       "\\begin{enumerate*}\n",
       "\\item 'Low'\n",
       "\\item 'Low'\n",
       "\\item 'High'\n",
       "\\item 'Low'\n",
       "\\item 'Low'\n",
       "\\item 'High'\n",
       "\\item 'High'\n",
       "\\item 'Low'\n",
       "\\item 'High'\n",
       "\\item 'Low'\n",
       "\\end{enumerate*}\n"
      ],
      "text/markdown": [
       "1. 'Low'\n",
       "2. 'Low'\n",
       "3. 'High'\n",
       "4. 'Low'\n",
       "5. 'Low'\n",
       "6. 'High'\n",
       "7. 'High'\n",
       "8. 'Low'\n",
       "9. 'High'\n",
       "10. 'Low'\n",
       "\n",
       "\n"
      ],
      "text/plain": [
       " [1] \"Low\"  \"Low\"  \"High\" \"Low\"  \"Low\"  \"High\" \"High\" \"Low\"  \"High\" \"Low\" "
      ]
     },
     "metadata": {},
     "output_type": "display_data"
    },
    {
     "data": {
      "text/html": [
       "'character'"
      ],
      "text/latex": [
       "'character'"
      ],
      "text/markdown": [
       "'character'"
      ],
      "text/plain": [
       "[1] \"character\""
      ]
     },
     "metadata": {},
     "output_type": "display_data"
    },
    {
     "data": {
      "text/html": [
       "<ol class=list-inline>\n",
       "\t<li>Low</li>\n",
       "\t<li>Low</li>\n",
       "\t<li>High</li>\n",
       "\t<li>Low</li>\n",
       "\t<li>Low</li>\n",
       "\t<li>High</li>\n",
       "\t<li>High</li>\n",
       "\t<li>Low</li>\n",
       "\t<li>High</li>\n",
       "\t<li>Low</li>\n",
       "</ol>\n",
       "\n",
       "<details>\n",
       "\t<summary style=display:list-item;cursor:pointer>\n",
       "\t\t<strong>Levels</strong>:\n",
       "\t</summary>\n",
       "\t<ol class=list-inline>\n",
       "\t\t<li>'Low'</li>\n",
       "\t\t<li>'Medium'</li>\n",
       "\t\t<li>'High'</li>\n",
       "\t</ol>\n",
       "</details>"
      ],
      "text/latex": [
       "\\begin{enumerate*}\n",
       "\\item Low\n",
       "\\item Low\n",
       "\\item High\n",
       "\\item Low\n",
       "\\item Low\n",
       "\\item High\n",
       "\\item High\n",
       "\\item Low\n",
       "\\item High\n",
       "\\item Low\n",
       "\\end{enumerate*}\n",
       "\n",
       "\\emph{Levels}: \\begin{enumerate*}\n",
       "\\item 'Low'\n",
       "\\item 'Medium'\n",
       "\\item 'High'\n",
       "\\end{enumerate*}\n"
      ],
      "text/markdown": [
       "1. Low\n",
       "2. Low\n",
       "3. High\n",
       "4. Low\n",
       "5. Low\n",
       "6. High\n",
       "7. High\n",
       "8. Low\n",
       "9. High\n",
       "10. Low\n",
       "\n",
       "\n",
       "\n",
       "**Levels**: 1. 'Low'\n",
       "2. 'Medium'\n",
       "3. 'High'\n",
       "\n",
       "\n"
      ],
      "text/plain": [
       " [1] Low  Low  High Low  Low  High High Low  High Low \n",
       "Levels: Low < Medium < High"
      ]
     },
     "metadata": {},
     "output_type": "display_data"
    },
    {
     "data": {
      "text/html": [
       "<ol class=list-inline>\n",
       "\t<li>'Low'</li>\n",
       "\t<li>'Medium'</li>\n",
       "\t<li>'High'</li>\n",
       "</ol>\n"
      ],
      "text/latex": [
       "\\begin{enumerate*}\n",
       "\\item 'Low'\n",
       "\\item 'Medium'\n",
       "\\item 'High'\n",
       "\\end{enumerate*}\n"
      ],
      "text/markdown": [
       "1. 'Low'\n",
       "2. 'Medium'\n",
       "3. 'High'\n",
       "\n",
       "\n"
      ],
      "text/plain": [
       "[1] \"Low\"    \"Medium\" \"High\"  "
      ]
     },
     "metadata": {},
     "output_type": "display_data"
    }
   ],
   "source": [
    "# Factors; nominal vs ordinal categorical variables\n",
    "\n",
    "eye_color_factor # nominal (no order in the levels of color)\n",
    "levels(eye_color_factor)\n",
    "\n",
    "set.seed(74)\n",
    "temperature <- sample(c('Medium', 'Low', 'High'), size = 10, replace = TRUE)\n",
    "temperature\n",
    "class(temperature)\n",
    "\n",
    "temperature_factor <- factor(temperature, order = TRUE, levels = c('Low', 'Medium', 'High'))\n",
    "temperature_factor\n",
    "levels(temperature_factor)"
   ]
  },
  {
   "cell_type": "code",
   "execution_count": 25,
   "id": "b847d051-d719-41ac-b22a-7c4d52900ce0",
   "metadata": {},
   "outputs": [
    {
     "data": {
      "text/html": [
       "<ol class=list-inline>\n",
       "\t<li>R</li>\n",
       "\t<li>R</li>\n",
       "\t<li>R</li>\n",
       "\t<li>B</li>\n",
       "\t<li>R</li>\n",
       "\t<li>B</li>\n",
       "\t<li>B</li>\n",
       "\t<li>B</li>\n",
       "\t<li>B</li>\n",
       "\t<li>B</li>\n",
       "</ol>\n",
       "\n",
       "<details>\n",
       "\t<summary style=display:list-item;cursor:pointer>\n",
       "\t\t<strong>Levels</strong>:\n",
       "\t</summary>\n",
       "\t<ol class=list-inline>\n",
       "\t\t<li>'B'</li>\n",
       "\t\t<li>'R'</li>\n",
       "\t</ol>\n",
       "</details>"
      ],
      "text/latex": [
       "\\begin{enumerate*}\n",
       "\\item R\n",
       "\\item R\n",
       "\\item R\n",
       "\\item B\n",
       "\\item R\n",
       "\\item B\n",
       "\\item B\n",
       "\\item B\n",
       "\\item B\n",
       "\\item B\n",
       "\\end{enumerate*}\n",
       "\n",
       "\\emph{Levels}: \\begin{enumerate*}\n",
       "\\item 'B'\n",
       "\\item 'R'\n",
       "\\end{enumerate*}\n"
      ],
      "text/markdown": [
       "1. R\n",
       "2. R\n",
       "3. R\n",
       "4. B\n",
       "5. R\n",
       "6. B\n",
       "7. B\n",
       "8. B\n",
       "9. B\n",
       "10. B\n",
       "\n",
       "\n",
       "\n",
       "**Levels**: 1. 'B'\n",
       "2. 'R'\n",
       "\n",
       "\n"
      ],
      "text/plain": [
       " [1] R R R B R B B B B B\n",
       "Levels: B R"
      ]
     },
     "metadata": {},
     "output_type": "display_data"
    },
    {
     "data": {
      "text/html": [
       "<ol class=list-inline>\n",
       "\t<li>'B'</li>\n",
       "\t<li>'R'</li>\n",
       "</ol>\n"
      ],
      "text/latex": [
       "\\begin{enumerate*}\n",
       "\\item 'B'\n",
       "\\item 'R'\n",
       "\\end{enumerate*}\n"
      ],
      "text/markdown": [
       "1. 'B'\n",
       "2. 'R'\n",
       "\n",
       "\n"
      ],
      "text/plain": [
       "[1] \"B\" \"R\""
      ]
     },
     "metadata": {},
     "output_type": "display_data"
    },
    {
     "data": {
      "text/html": [
       "<ol class=list-inline>\n",
       "\t<li>Red</li>\n",
       "\t<li>Red</li>\n",
       "\t<li>Red</li>\n",
       "\t<li>Blue</li>\n",
       "\t<li>Red</li>\n",
       "\t<li>Blue</li>\n",
       "\t<li>Blue</li>\n",
       "\t<li>Blue</li>\n",
       "\t<li>Blue</li>\n",
       "\t<li>Blue</li>\n",
       "</ol>\n",
       "\n",
       "<details>\n",
       "\t<summary style=display:list-item;cursor:pointer>\n",
       "\t\t<strong>Levels</strong>:\n",
       "\t</summary>\n",
       "\t<ol class=list-inline>\n",
       "\t\t<li>'Blue'</li>\n",
       "\t\t<li>'Red'</li>\n",
       "\t</ol>\n",
       "</details>"
      ],
      "text/latex": [
       "\\begin{enumerate*}\n",
       "\\item Red\n",
       "\\item Red\n",
       "\\item Red\n",
       "\\item Blue\n",
       "\\item Red\n",
       "\\item Blue\n",
       "\\item Blue\n",
       "\\item Blue\n",
       "\\item Blue\n",
       "\\item Blue\n",
       "\\end{enumerate*}\n",
       "\n",
       "\\emph{Levels}: \\begin{enumerate*}\n",
       "\\item 'Blue'\n",
       "\\item 'Red'\n",
       "\\end{enumerate*}\n"
      ],
      "text/markdown": [
       "1. Red\n",
       "2. Red\n",
       "3. Red\n",
       "4. Blue\n",
       "5. Red\n",
       "6. Blue\n",
       "7. Blue\n",
       "8. Blue\n",
       "9. Blue\n",
       "10. Blue\n",
       "\n",
       "\n",
       "\n",
       "**Levels**: 1. 'Blue'\n",
       "2. 'Red'\n",
       "\n",
       "\n"
      ],
      "text/plain": [
       " [1] Red  Red  Red  Blue Red  Blue Blue Blue Blue Blue\n",
       "Levels: Blue Red"
      ]
     },
     "metadata": {},
     "output_type": "display_data"
    }
   ],
   "source": [
    "# change names of levels of a factor\n",
    "\n",
    "set.seed(14)\n",
    "x <- sample(c('R', 'B'), size = 10, replace = TRUE)\n",
    "x_factor <- factor(x)\n",
    "x_factor\n",
    "levels(x_factor)\n",
    "\n",
    "levels(x_factor) <- c('Blue', 'Red')\n",
    "x_factor"
   ]
  },
  {
   "cell_type": "code",
   "execution_count": 27,
   "id": "24dcb15f-1d0a-48d2-96d5-e8a7f6eb08d5",
   "metadata": {},
   "outputs": [
    {
     "data": {
      "text/html": [
       "<dl>\n",
       "\t<dt>$platform</dt>\n",
       "\t\t<dd>'x86_64-apple-darwin13.4.0'</dd>\n",
       "\t<dt>$arch</dt>\n",
       "\t\t<dd>'x86_64'</dd>\n",
       "\t<dt>$os</dt>\n",
       "\t\t<dd>'darwin13.4.0'</dd>\n",
       "\t<dt>$system</dt>\n",
       "\t\t<dd>'x86_64, darwin13.4.0'</dd>\n",
       "\t<dt>$status</dt>\n",
       "\t\t<dd>''</dd>\n",
       "\t<dt>$major</dt>\n",
       "\t\t<dd>'3'</dd>\n",
       "\t<dt>$minor</dt>\n",
       "\t\t<dd>'6.1'</dd>\n",
       "\t<dt>$year</dt>\n",
       "\t\t<dd>'2019'</dd>\n",
       "\t<dt>$month</dt>\n",
       "\t\t<dd>'07'</dd>\n",
       "\t<dt>$day</dt>\n",
       "\t\t<dd>'05'</dd>\n",
       "\t<dt>$`svn rev`</dt>\n",
       "\t\t<dd>'76782'</dd>\n",
       "\t<dt>$language</dt>\n",
       "\t\t<dd>'R'</dd>\n",
       "\t<dt>$version.string</dt>\n",
       "\t\t<dd>'R version 3.6.1 (2019-07-05)'</dd>\n",
       "\t<dt>$nickname</dt>\n",
       "\t\t<dd>'Action of the Toes'</dd>\n",
       "</dl>\n"
      ],
      "text/latex": [
       "\\begin{description}\n",
       "\\item[\\$platform] 'x86\\_64-apple-darwin13.4.0'\n",
       "\\item[\\$arch] 'x86\\_64'\n",
       "\\item[\\$os] 'darwin13.4.0'\n",
       "\\item[\\$system] 'x86\\_64, darwin13.4.0'\n",
       "\\item[\\$status] ''\n",
       "\\item[\\$major] '3'\n",
       "\\item[\\$minor] '6.1'\n",
       "\\item[\\$year] '2019'\n",
       "\\item[\\$month] '07'\n",
       "\\item[\\$day] '05'\n",
       "\\item[\\$`svn rev`] '76782'\n",
       "\\item[\\$language] 'R'\n",
       "\\item[\\$version.string] 'R version 3.6.1 (2019-07-05)'\n",
       "\\item[\\$nickname] 'Action of the Toes'\n",
       "\\end{description}\n"
      ],
      "text/markdown": [
       "$platform\n",
       ":   'x86_64-apple-darwin13.4.0'\n",
       "$arch\n",
       ":   'x86_64'\n",
       "$os\n",
       ":   'darwin13.4.0'\n",
       "$system\n",
       ":   'x86_64, darwin13.4.0'\n",
       "$status\n",
       ":   ''\n",
       "$major\n",
       ":   '3'\n",
       "$minor\n",
       ":   '6.1'\n",
       "$year\n",
       ":   '2019'\n",
       "$month\n",
       ":   '07'\n",
       "$day\n",
       ":   '05'\n",
       "$`svn rev`\n",
       ":   '76782'\n",
       "$language\n",
       ":   'R'\n",
       "$version.string\n",
       ":   'R version 3.6.1 (2019-07-05)'\n",
       "$nickname\n",
       ":   'Action of the Toes'\n",
       "\n",
       "\n"
      ],
      "text/plain": [
       "$platform\n",
       "[1] \"x86_64-apple-darwin13.4.0\"\n",
       "\n",
       "$arch\n",
       "[1] \"x86_64\"\n",
       "\n",
       "$os\n",
       "[1] \"darwin13.4.0\"\n",
       "\n",
       "$system\n",
       "[1] \"x86_64, darwin13.4.0\"\n",
       "\n",
       "$status\n",
       "[1] \"\"\n",
       "\n",
       "$major\n",
       "[1] \"3\"\n",
       "\n",
       "$minor\n",
       "[1] \"6.1\"\n",
       "\n",
       "$year\n",
       "[1] \"2019\"\n",
       "\n",
       "$month\n",
       "[1] \"07\"\n",
       "\n",
       "$day\n",
       "[1] \"05\"\n",
       "\n",
       "$`svn rev`\n",
       "[1] \"76782\"\n",
       "\n",
       "$language\n",
       "[1] \"R\"\n",
       "\n",
       "$version.string\n",
       "[1] \"R version 3.6.1 (2019-07-05)\"\n",
       "\n",
       "$nickname\n",
       "[1] \"Action of the Toes\"\n"
      ]
     },
     "metadata": {},
     "output_type": "display_data"
    }
   ],
   "source": [
    "R.Version()"
   ]
  },
  {
   "cell_type": "code",
   "execution_count": null,
   "id": "b5529aa2-71af-4615-a709-2652ee21ffcf",
   "metadata": {},
   "outputs": [],
   "source": []
  }
 ],
 "metadata": {
  "kernelspec": {
   "display_name": "R",
   "language": "R",
   "name": "ir"
  },
  "language_info": {
   "codemirror_mode": "r",
   "file_extension": ".r",
   "mimetype": "text/x-r-source",
   "name": "R",
   "pygments_lexer": "r",
   "version": "3.6.1"
  }
 },
 "nbformat": 4,
 "nbformat_minor": 5
}
