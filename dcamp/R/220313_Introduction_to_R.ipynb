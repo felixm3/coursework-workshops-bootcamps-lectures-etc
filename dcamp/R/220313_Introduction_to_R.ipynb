{
 "cells": [
  {
   "cell_type": "markdown",
   "id": "f8dfacf2-847e-4324-99bc-a6d55722768d",
   "metadata": {},
   "source": [
    "# 220313 Introduction to R"
   ]
  },
  {
   "cell_type": "code",
   "execution_count": null,
   "id": "ccfb32d5-4103-4d93-aa3e-4e9b555bd443",
   "metadata": {},
   "outputs": [],
   "source": [
    "# comments start with hashtag #\n",
    "# R as a calculator\n",
    "\n",
    "7 + 4"
   ]
  },
  {
   "cell_type": "code",
   "execution_count": null,
   "id": "07056792-5b8f-46cb-8b0f-7a8a49f71822",
   "metadata": {},
   "outputs": [],
   "source": [
    "# R as a calculator\n",
    "\n",
    "7 + 4\n",
    "8 - 2\n",
    "\n",
    "2^10 # exponentiation\n",
    "2 %% 3 # modulo/remainder\n",
    "\n",
    "# see tidyverse style guide about spaces https://style.tidyverse.org/index.html \n",
    "# \"Most infix operators (==, +, -, <-, etc.) should always be surrounded by spaces\"\n",
    "# \"The operators with high precedence: ::, :::, $, @, [, [[, ^, unary -, unary +, and : should never be surrounded by spaces\""
   ]
  },
  {
   "cell_type": "code",
   "execution_count": null,
   "id": "952c061c-5117-4254-88b5-73940a3e6c7a",
   "metadata": {},
   "outputs": [],
   "source": [
    "# Assigning variables\n",
    "\n",
    "x <- 3.14\n",
    "x\n",
    "y <- 2\n",
    "y\n",
    "x^y\n",
    "z <- x - y\n",
    "z"
   ]
  },
  {
   "cell_type": "code",
   "execution_count": null,
   "id": "acdd32c2-b178-4145-91ac-c9a4d10cb889",
   "metadata": {},
   "outputs": [],
   "source": [
    "# Basic data types in R\n",
    "\n",
    "x <- 2 # numeric (integer)\n",
    "class(x)\n",
    "\n",
    "y <- FALSE # boolean/logical\n",
    "class(y)\n",
    "\n",
    "z <- 'hello world' # character/string\n",
    "class(z)"
   ]
  },
  {
   "cell_type": "code",
   "execution_count": null,
   "id": "47645268-39cc-4bcb-8f1d-7b03cefe9814",
   "metadata": {},
   "outputs": [],
   "source": [
    "# Vectors in R\n",
    "\n",
    "x <- c(3, 1, 4, 1, 5)\n",
    "y <- c('hello', 'world')\n",
    "z <- c(FALSE, TRUE, FALSE)\n",
    "x\n",
    "y\n",
    "z"
   ]
  },
  {
   "cell_type": "code",
   "execution_count": null,
   "id": "d55aee4d-fd0c-4492-a4fb-2425bbc4ce06",
   "metadata": {},
   "outputs": [],
   "source": [
    "# Naming elements of vectors\n",
    "names(x)\n",
    "names(x) <- c('1st', '2nd', '3rd', '4th', '5th')\n",
    "x\n",
    "names(x)"
   ]
  },
  {
   "cell_type": "code",
   "execution_count": null,
   "id": "25ac17d7-87a9-4c7d-a828-71de29307ba8",
   "metadata": {},
   "outputs": [],
   "source": [
    "# Naming elements of vectors\n",
    "\n",
    "names(z)\n",
    "people <- c('Ava', 'Betty', 'Christie')\n",
    "names(z) <- people\n",
    "z\n",
    "names(z)"
   ]
  },
  {
   "cell_type": "code",
   "execution_count": null,
   "id": "4b4d13ca-f09c-4104-b01c-5d123779bea1",
   "metadata": {},
   "outputs": [],
   "source": [
    "# Operations with vectors\n",
    "\n",
    "x1 <- c(3, 1, 4)\n",
    "x2 <- c(2, 7, 1)\n",
    "x1\n",
    "x2\n",
    "x1 + x2\n",
    "x1 / x2\n",
    "x1 > x2\n",
    "\n",
    "# element-by-element"
   ]
  },
  {
   "cell_type": "code",
   "execution_count": null,
   "id": "00aa4c3f-6540-49bd-98db-d1d3b8ce230a",
   "metadata": {},
   "outputs": [],
   "source": [
    "# Operations with vectors\n",
    "x1\n",
    "sum(x1)\n",
    "x2\n",
    "sum(x2)"
   ]
  },
  {
   "cell_type": "code",
   "execution_count": null,
   "id": "980c0da8-4e9a-4f81-b45b-8be35be876fb",
   "metadata": {},
   "outputs": [],
   "source": [
    "# Vector element selection\n",
    "# R unlike Python uses 1-based array indexing (Python uses 0-based array indexing)\n",
    "\n",
    "x1\n",
    "x1[0] # no 0th element 0\n",
    "x1[1]\n",
    "x1[-2] # drops 2nd element"
   ]
  },
  {
   "cell_type": "code",
   "execution_count": null,
   "id": "ead48f5f-a459-48a3-adcf-be4966e605ed",
   "metadata": {},
   "outputs": [],
   "source": [
    "# Vector element selection: multiple elements\n",
    "\n",
    "x <- c(2, 7, 1, 8, 2, 8, 1, 8, 2, 8)\n",
    "#print(exp(1)*1e9)\n",
    "print(x)\n",
    "\n",
    "x[2:4] # select consecutive elements\n",
    "\n",
    "x[-c(2:4)] # drop consecutive elements\n",
    "\n",
    "x[c(3, 1, 4)] # select non-consecutive elements"
   ]
  },
  {
   "cell_type": "code",
   "execution_count": null,
   "id": "6c6f45a3-610a-48ff-ba3a-993a3892e1e6",
   "metadata": {},
   "outputs": [],
   "source": [
    "# Vector element selection: using names of elements\n",
    "\n",
    "#print(pi*1e9)\n",
    "\n",
    "y <- c(3, 1, 4, 1, 5, 9, 2, 6, 5, 4)\n",
    "set.seed(24)\n",
    "names(y) <- sample(LETTERS, 10)\n",
    "\n",
    "y\n",
    "\n",
    "y['J']\n",
    "\n",
    "y[c('I', 'G', 'W')]\n",
    "\n",
    "mean(.Last.value)\n",
    "\n",
    "y[c('B', 'X')]\n",
    "y['B'] + y['X']"
   ]
  },
  {
   "cell_type": "code",
   "execution_count": null,
   "id": "aa5a71bc-2f0e-41e5-b679-a4f9ef092dbc",
   "metadata": {},
   "outputs": [],
   "source": [
    "# Vector element selection: by comparison i.e. using logical comparison operators > < >= <= == !=\n",
    "\n",
    "u <- c(2, 7, 1, 8, 2, 8, 1, 8, 2, 8)\n",
    "\n",
    "u > 2\n",
    "\n",
    "u[u > 2]"
   ]
  },
  {
   "cell_type": "code",
   "execution_count": null,
   "id": "acc033f4-8637-42e6-84ef-b03bb18fbaee",
   "metadata": {},
   "outputs": [],
   "source": [
    "# Creating matrix\n",
    "\n",
    "M <- matrix(1:9, byrow = TRUE, nrow = 3)\n",
    "M"
   ]
  },
  {
   "cell_type": "code",
   "execution_count": null,
   "id": "19e1ebde-888c-4b51-aa96-2be2f79ad91f",
   "metadata": {},
   "outputs": [],
   "source": [
    "# Naming matrix dimensions\n",
    "\n",
    "rownames(M) <- c('r1', 'r2', 'r3')\n",
    "colnames(M) <- c('c1', 'c2', 'c3')\n",
    "M"
   ]
  },
  {
   "cell_type": "code",
   "execution_count": null,
   "id": "2dd7c643-596c-4b0b-823e-1dc76996b5d5",
   "metadata": {},
   "outputs": [],
   "source": [
    "# Summing rows & columns of matrix\n",
    "\n",
    "M\n",
    "rowSums(M)\n",
    "colSums(M)"
   ]
  },
  {
   "cell_type": "code",
   "execution_count": null,
   "id": "2a2a56ef-ed20-4bb6-a26f-34cfbb850a1e",
   "metadata": {},
   "outputs": [],
   "source": [
    "# Adding rows & columns to matrix\n",
    "\n",
    "M\n",
    "rbind(M, c(10, 11, 12)) # add row\n",
    "cbind(M, c(10, 11, 12)) # add column"
   ]
  },
  {
   "cell_type": "code",
   "execution_count": null,
   "id": "66d64fb8-e0b4-425d-948c-dc4ff1d73d80",
   "metadata": {},
   "outputs": [],
   "source": [
    "# What objects do I have in my environment?\n",
    "\n",
    "ls()"
   ]
  },
  {
   "cell_type": "code",
   "execution_count": null,
   "id": "97d9bc98-a9a7-4c6f-99e8-861a447b36f5",
   "metadata": {},
   "outputs": [],
   "source": [
    "# Selecting matrix elements\n",
    "\n",
    "M\n",
    "M[1, 2]\n",
    "M[2, 3]\n",
    "M[1:2, 2:3]\n",
    "M[, 2] # all elements of column 2\n",
    "M[3, ] # all elements of row 3\n",
    "\n",
    "# see tidyverse style guide about spaces https://style.tidyverse.org/index.html \n",
    "# 'Always put a space after a comma, never before, just like in regular English.'"
   ]
  },
  {
   "cell_type": "code",
   "execution_count": null,
   "id": "df0c2406-d7a7-449f-a35e-f9ab42706c68",
   "metadata": {},
   "outputs": [],
   "source": [
    "# summary stats of matrix\n",
    "\n",
    "M\n",
    "mean(M)\n",
    "median(M)\n",
    "sd(M) # standard deviation\n",
    "max(M)\n",
    "min(M)\n",
    "\n",
    "summary(M)\n",
    "summary(t(M))"
   ]
  },
  {
   "cell_type": "code",
   "execution_count": null,
   "id": "608850c4-e0d2-4715-89d7-064aa04be770",
   "metadata": {},
   "outputs": [],
   "source": [
    "# Element-wise matrix arithmetic\n",
    "\n",
    "M\n",
    "M^2 # squares each element\n",
    "M%%2 # checks if each element is odd/even\n",
    "\n",
    "M/3\n",
    "M - 1\n",
    "log(M)"
   ]
  },
  {
   "cell_type": "code",
   "execution_count": null,
   "id": "1fe5d9ea-0564-4af3-b1ae-8926e5b11d8a",
   "metadata": {},
   "outputs": [],
   "source": [
    "# Element-wise vs standard matrix multiplication\n",
    "\n",
    "set.seed(51)\n",
    "N <- matrix(sample(0:9, size = 9, replace = TRUE), nrow = 3)\n",
    "N\n",
    "M\n",
    "\n",
    "M*N # Element-wise\n",
    "N*M # Element-wise\n",
    "\n",
    "# for Element-wise, order makes no difference\n",
    "\n",
    "M%*%N # standard\n",
    "N%*%M # standard\n",
    "\n",
    "# for standard, order DOES make a difference"
   ]
  },
  {
   "cell_type": "code",
   "execution_count": null,
   "id": "465286c0-ee77-4cd3-a922-150b645a5f37",
   "metadata": {},
   "outputs": [],
   "source": [
    "# Factors (used to store categorical variables)\n",
    "\n",
    "set.seed(91)\n",
    "eye_color <- sample(c('black', 'brown', 'blue', 'green'), size = 10, replace = TRUE)\n",
    "eye_color\n",
    "class(eye_color)\n",
    "\n",
    "# change from 'character' to 'factor'\n",
    "\n",
    "eye_color_factor <- factor(eye_color)\n",
    "eye_color_factor\n",
    "class(eye_color_factor)"
   ]
  },
  {
   "cell_type": "code",
   "execution_count": null,
   "id": "83939449-fa9d-4bed-bc44-9f6cbc534f98",
   "metadata": {},
   "outputs": [],
   "source": [
    "# Factors; nominal vs ordinal categorical variables\n",
    "\n",
    "eye_color_factor # nominal (no order in the levels of color)\n",
    "levels(eye_color_factor)\n",
    "\n",
    "set.seed(74)\n",
    "temperature <- sample(c('Medium', 'Low', 'High'), size = 10, replace = TRUE)\n",
    "temperature\n",
    "class(temperature)\n",
    "\n",
    "temperature_factor <- factor(temperature, order = TRUE, levels = c('Low', 'Medium', 'High'))\n",
    "temperature_factor\n",
    "levels(temperature_factor)"
   ]
  },
  {
   "cell_type": "code",
   "execution_count": null,
   "id": "b847d051-d719-41ac-b22a-7c4d52900ce0",
   "metadata": {},
   "outputs": [],
   "source": [
    "# change names of levels of a factor\n",
    "\n",
    "set.seed(14)\n",
    "x <- sample(c('R', 'B'), size = 10, replace = TRUE)\n",
    "x_factor <- factor(x)\n",
    "x_factor\n",
    "levels(x_factor)\n",
    "\n",
    "levels(x_factor) <- c('Blue', 'Red')\n",
    "x_factor"
   ]
  },
  {
   "cell_type": "code",
   "execution_count": null,
   "id": "58aabcb6-bbd7-45a9-a862-70d28a118b41",
   "metadata": {},
   "outputs": [],
   "source": []
  }
 ],
 "metadata": {
  "kernelspec": {
   "display_name": "R",
   "language": "R",
   "name": "ir"
  },
  "language_info": {
   "codemirror_mode": "r",
   "file_extension": ".r",
   "mimetype": "text/x-r-source",
   "name": "R",
   "pygments_lexer": "r",
   "version": "4.0.3"
  }
 },
 "nbformat": 4,
 "nbformat_minor": 5
}
