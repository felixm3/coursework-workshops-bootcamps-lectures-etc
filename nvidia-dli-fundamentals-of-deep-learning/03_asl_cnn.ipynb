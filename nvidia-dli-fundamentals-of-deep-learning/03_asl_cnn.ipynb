{
 "cells": [
  {
   "cell_type": "markdown",
   "id": "0449cfe3-3921-464a-bfa8-6092447b2695",
   "metadata": {},
   "source": [
    "# Convolutional Neural Networks"
   ]
  },
  {
   "cell_type": "code",
   "execution_count": 1,
   "id": "52feb9c5-9dda-4f21-a710-f92d7fd9d32b",
   "metadata": {},
   "outputs": [],
   "source": [
    "import tensorflow.keras as keras"
   ]
  },
  {
   "cell_type": "code",
   "execution_count": 2,
   "id": "8f6538a8-fe91-4647-8b46-d55e145bee9e",
   "metadata": {},
   "outputs": [],
   "source": [
    "import numpy as np\n",
    "import pandas as pd\n",
    "import matplotlib.pyplot as plt"
   ]
  },
  {
   "cell_type": "markdown",
   "id": "13af0cc2-7722-42a0-a1ee-506bb6ad4594",
   "metadata": {},
   "source": [
    "## Steps 1, 2, 3 (as before)"
   ]
  },
  {
   "cell_type": "code",
   "execution_count": 3,
   "id": "fe1c27cc-2c13-404e-b0c6-763daed15a77",
   "metadata": {},
   "outputs": [],
   "source": [
    "# Load in our data from CSV files\n",
    "train_df = pd.read_csv(\"data/asl_data/sign_mnist_train.csv\")\n",
    "valid_df = pd.read_csv(\"data/asl_data/sign_mnist_valid.csv\")\n",
    "\n",
    "# Separate out our target values\n",
    "y_train = train_df['label']\n",
    "y_valid = valid_df['label']\n",
    "del train_df['label']\n",
    "del valid_df['label']\n",
    "\n",
    "# Separate out our image vectors\n",
    "x_train = train_df.values\n",
    "x_valid = valid_df.values\n",
    "\n",
    "# Turn our scalar targets into binary categories\n",
    "num_classes = 24\n",
    "y_train = keras.utils.to_categorical(y_train, num_classes)\n",
    "y_valid = keras.utils.to_categorical(y_valid, num_classes)\n",
    "\n",
    "# Normalize our image data\n",
    "x_train = x_train / 255\n",
    "x_valid = x_valid / 255"
   ]
  },
  {
   "cell_type": "markdown",
   "id": "94508ac7-f066-4b5b-bb87-49df46855417",
   "metadata": {},
   "source": [
    "### 3c. Reshape images for CNN (new step!)"
   ]
  },
  {
   "cell_type": "code",
   "execution_count": 4,
   "id": "c67d0b71-1b28-4662-bd77-ebaefdf2c92f",
   "metadata": {},
   "outputs": [
    {
     "data": {
      "text/plain": [
       "((27455, 784), (7172, 784))"
      ]
     },
     "execution_count": 4,
     "metadata": {},
     "output_type": "execute_result"
    }
   ],
   "source": [
    "x_train.shape, x_valid.shape"
   ]
  },
  {
   "cell_type": "code",
   "execution_count": 5,
   "id": "319ce176-6810-49a2-8e58-7cd1d7ea1a51",
   "metadata": {},
   "outputs": [],
   "source": [
    "# reshape\n",
    "\n",
    "x_train = x_train.reshape(-1, 28, 28, 1) # -1 means 'keep this dimension as-is and don't reshape'\n",
    "x_valid = x_valid.reshape(-1, 28, 28, 1) # 1 means 1 color channel, rgb would have 3 instead"
   ]
  },
  {
   "cell_type": "code",
   "execution_count": 6,
   "id": "24d3bc25-bb9c-498c-84eb-749efef6ed99",
   "metadata": {},
   "outputs": [
    {
     "data": {
      "text/plain": [
       "((27455, 28, 28, 1), (7172, 28, 28, 1))"
      ]
     },
     "execution_count": 6,
     "metadata": {},
     "output_type": "execute_result"
    }
   ],
   "source": [
    "x_train.shape, x_valid.shape"
   ]
  },
  {
   "cell_type": "markdown",
   "id": "ea3d468c-20d9-4172-987c-7200881dff9c",
   "metadata": {},
   "source": [
    "## 4. Create the model"
   ]
  },
  {
   "cell_type": "code",
   "execution_count": 7,
   "id": "0c9ac5c1-2d32-41a3-985e-ed3259469f92",
   "metadata": {},
   "outputs": [
    {
     "name": "stdout",
     "output_type": "stream",
     "text": [
      "Model: \"sequential\"\n",
      "_________________________________________________________________\n",
      "Layer (type)                 Output Shape              Param #   \n",
      "=================================================================\n",
      "conv2d (Conv2D)              (None, 28, 28, 75)        750       \n",
      "_________________________________________________________________\n",
      "batch_normalization (BatchNo (None, 28, 28, 75)        300       \n",
      "_________________________________________________________________\n",
      "max_pooling2d (MaxPooling2D) (None, 14, 14, 75)        0         \n",
      "_________________________________________________________________\n",
      "conv2d_1 (Conv2D)            (None, 14, 14, 50)        33800     \n",
      "_________________________________________________________________\n",
      "dropout (Dropout)            (None, 14, 14, 50)        0         \n",
      "_________________________________________________________________\n",
      "batch_normalization_1 (Batch (None, 14, 14, 50)        200       \n",
      "_________________________________________________________________\n",
      "max_pooling2d_1 (MaxPooling2 (None, 7, 7, 50)          0         \n",
      "_________________________________________________________________\n",
      "conv2d_2 (Conv2D)            (None, 7, 7, 25)          11275     \n",
      "_________________________________________________________________\n",
      "batch_normalization_2 (Batch (None, 7, 7, 25)          100       \n",
      "_________________________________________________________________\n",
      "max_pooling2d_2 (MaxPooling2 (None, 4, 4, 25)          0         \n",
      "_________________________________________________________________\n",
      "flatten (Flatten)            (None, 400)               0         \n",
      "_________________________________________________________________\n",
      "dense (Dense)                (None, 512)               205312    \n",
      "_________________________________________________________________\n",
      "dropout_1 (Dropout)          (None, 512)               0         \n",
      "_________________________________________________________________\n",
      "dense_1 (Dense)              (None, 24)                12312     \n",
      "=================================================================\n",
      "Total params: 264,049\n",
      "Trainable params: 263,749\n",
      "Non-trainable params: 300\n",
      "_________________________________________________________________\n"
     ]
    },
    {
     "name": "stderr",
     "output_type": "stream",
     "text": [
      "2022-06-29 22:25:48.821356: I tensorflow/core/platform/cpu_feature_guard.cc:142] This TensorFlow binary is optimized with oneAPI Deep Neural Network Library (oneDNN) to use the following CPU instructions in performance-critical operations:  SSE4.1 SSE4.2 AVX AVX2 FMA\n",
      "To enable them in other operations, rebuild TensorFlow with the appropriate compiler flags.\n"
     ]
    }
   ],
   "source": [
    "from tensorflow.keras.models import Sequential\n",
    "from tensorflow.keras.layers import (\n",
    "    Dense,\n",
    "    Conv2D,\n",
    "    MaxPool2D,\n",
    "    Flatten,\n",
    "    Dropout,\n",
    "    BatchNormalization,\n",
    ")\n",
    "\n",
    "model = Sequential()\n",
    "model.add(Conv2D(75, (3, 3), strides=1, padding=\"same\", activation=\"relu\", \n",
    "                 input_shape=(28, 28, 1)))\n",
    "model.add(BatchNormalization())\n",
    "model.add(MaxPool2D((2, 2), strides=2, padding=\"same\"))\n",
    "model.add(Conv2D(50, (3, 3), strides=1, padding=\"same\", activation=\"relu\"))\n",
    "model.add(Dropout(0.2))\n",
    "model.add(BatchNormalization())\n",
    "model.add(MaxPool2D((2, 2), strides=2, padding=\"same\"))\n",
    "model.add(Conv2D(25, (3, 3), strides=1, padding=\"same\", activation=\"relu\"))\n",
    "model.add(BatchNormalization())\n",
    "model.add(MaxPool2D((2, 2), strides=2, padding=\"same\"))\n",
    "model.add(Flatten())\n",
    "model.add(Dense(units=512, activation=\"relu\"))\n",
    "model.add(Dropout(0.3))\n",
    "model.add(Dense(units=num_classes, activation=\"softmax\"))\n",
    "\n",
    "model.summary()"
   ]
  },
  {
   "cell_type": "code",
   "execution_count": 8,
   "id": "9149127d-bb66-4988-8309-69e9b84f4599",
   "metadata": {},
   "outputs": [],
   "source": [
    "# compile model\n",
    "\n",
    "model.compile(loss='categorical_crossentropy', \n",
    "             metrics=['accuracy'])"
   ]
  },
  {
   "cell_type": "markdown",
   "id": "c48a73a5-d19a-4ee3-9c41-8f77e4a81996",
   "metadata": {},
   "source": [
    "## 5. Train/fit the model"
   ]
  },
  {
   "cell_type": "code",
   "execution_count": 9,
   "id": "fd359bc2-230c-4d1f-9a14-46176c2d4261",
   "metadata": {},
   "outputs": [
    {
     "name": "stdout",
     "output_type": "stream",
     "text": [
      "Epoch 1/20\n"
     ]
    },
    {
     "name": "stderr",
     "output_type": "stream",
     "text": [
      "2022-06-29 22:25:49.025805: I tensorflow/compiler/mlir/mlir_graph_optimization_pass.cc:116] None of the MLIR optimization passes are enabled (registered 2)\n"
     ]
    },
    {
     "name": "stdout",
     "output_type": "stream",
     "text": [
      "858/858 [==============================] - 42s 48ms/step - loss: 0.8390 - accuracy: 0.7538 - val_loss: 0.2847 - val_accuracy: 0.9133\n",
      "Epoch 2/20\n",
      "858/858 [==============================] - 50s 58ms/step - loss: 0.0198 - accuracy: 0.9934 - val_loss: 0.7772 - val_accuracy: 0.8222\n",
      "Epoch 3/20\n",
      "858/858 [==============================] - 53s 61ms/step - loss: 0.0107 - accuracy: 0.9975 - val_loss: 0.3692 - val_accuracy: 0.9409\n",
      "Epoch 4/20\n",
      "858/858 [==============================] - 55s 64ms/step - loss: 0.0086 - accuracy: 0.9978 - val_loss: 0.3446 - val_accuracy: 0.9269\n",
      "Epoch 5/20\n",
      "858/858 [==============================] - 57s 66ms/step - loss: 0.0064 - accuracy: 0.9973 - val_loss: 0.4228 - val_accuracy: 0.9314\n",
      "Epoch 6/20\n",
      "858/858 [==============================] - 54s 63ms/step - loss: 0.0047 - accuracy: 0.9987 - val_loss: 0.5509 - val_accuracy: 0.9103\n",
      "Epoch 7/20\n",
      "858/858 [==============================] - 52s 61ms/step - loss: 0.0032 - accuracy: 0.9988 - val_loss: 0.3520 - val_accuracy: 0.9491\n",
      "Epoch 8/20\n",
      "858/858 [==============================] - 50s 58ms/step - loss: 0.0032 - accuracy: 0.9994 - val_loss: 0.2804 - val_accuracy: 0.9543\n",
      "Epoch 9/20\n",
      "858/858 [==============================] - 47s 55ms/step - loss: 0.0029 - accuracy: 0.9993 - val_loss: 0.3474 - val_accuracy: 0.9474\n",
      "Epoch 10/20\n",
      "858/858 [==============================] - 50s 58ms/step - loss: 0.0027 - accuracy: 0.9994 - val_loss: 0.2884 - val_accuracy: 0.9600\n",
      "Epoch 11/20\n",
      "858/858 [==============================] - 47s 55ms/step - loss: 0.0019 - accuracy: 0.9993 - val_loss: 0.1888 - val_accuracy: 0.9665\n",
      "Epoch 12/20\n",
      "858/858 [==============================] - 47s 55ms/step - loss: 0.0015 - accuracy: 0.9997 - val_loss: 0.4589 - val_accuracy: 0.9554\n",
      "Epoch 13/20\n",
      "858/858 [==============================] - 48s 56ms/step - loss: 0.0014 - accuracy: 0.9997 - val_loss: 0.3307 - val_accuracy: 0.9631\n",
      "Epoch 14/20\n",
      "858/858 [==============================] - 48s 56ms/step - loss: 0.0014 - accuracy: 0.9996 - val_loss: 0.4248 - val_accuracy: 0.9538\n",
      "Epoch 15/20\n",
      "858/858 [==============================] - 47s 54ms/step - loss: 0.0015 - accuracy: 0.9996 - val_loss: 0.2911 - val_accuracy: 0.9663\n",
      "Epoch 16/20\n",
      "858/858 [==============================] - 46s 53ms/step - loss: 0.0014 - accuracy: 0.9996 - val_loss: 0.2278 - val_accuracy: 0.9647\n",
      "Epoch 17/20\n",
      "858/858 [==============================] - 48s 56ms/step - loss: 0.0022 - accuracy: 0.9992 - val_loss: 0.2507 - val_accuracy: 0.9696\n",
      "Epoch 18/20\n",
      "858/858 [==============================] - 45s 52ms/step - loss: 5.6621e-04 - accuracy: 0.9998 - val_loss: 0.6353 - val_accuracy: 0.9335\n",
      "Epoch 19/20\n",
      "858/858 [==============================] - 47s 55ms/step - loss: 0.0025 - accuracy: 0.9995 - val_loss: 0.3027 - val_accuracy: 0.9674\n",
      "Epoch 20/20\n",
      "858/858 [==============================] - 47s 55ms/step - loss: 2.3311e-04 - accuracy: 0.9999 - val_loss: 0.5703 - val_accuracy: 0.9593\n"
     ]
    }
   ],
   "source": [
    "history = model.fit(x_train, y_train, \n",
    "                   epochs=20, \n",
    "                   verbose=1, \n",
    "                   validation_data=(x_valid, y_valid))"
   ]
  },
  {
   "cell_type": "code",
   "execution_count": 10,
   "id": "fe327a62-dc31-4952-a5fd-9fef32d441a5",
   "metadata": {},
   "outputs": [
    {
     "name": "stdout",
     "output_type": "stream",
     "text": [
      "dict_keys(['loss', 'accuracy', 'val_loss', 'val_accuracy'])\n"
     ]
    }
   ],
   "source": [
    "# list all data in history\n",
    "\n",
    "print(history.history.keys())"
   ]
  },
  {
   "cell_type": "code",
   "execution_count": 11,
   "id": "cf3fc7d6-353e-4a8c-a3e3-080d1699b0ff",
   "metadata": {},
   "outputs": [
    {
     "data": {
      "image/png": "[encoded data removed]",
      "text/plain": [
       "<Figure size 432x288 with 1 Axes>"
      ]
     },
     "metadata": {
      "needs_background": "light"
     },
     "output_type": "display_data"
    }
   ],
   "source": [
    "# summarize history for accuracy\n",
    "\n",
    "plt.plot(history.history['accuracy'])\n",
    "plt.plot(history.history['val_accuracy'])\n",
    "plt.title('model accuracy')\n",
    "plt.ylabel('accuracy')\n",
    "plt.xlabel('epoch')\n",
    "plt.legend(['train', 'test'], loc='upper left')\n",
    "plt.show()"
   ]
  },
  {
   "cell_type": "code",
   "execution_count": 12,
   "id": "894fdbf3-7e72-408a-8f5c-ce582b32c1bc",
   "metadata": {},
   "outputs": [
    {
     "data": {
      "image/png": "[encoded data removed]",
      "text/plain": [
       "<Figure size 432x288 with 1 Axes>"
      ]
     },
     "metadata": {
      "needs_background": "light"
     },
     "output_type": "display_data"
    }
   ],
   "source": [
    "# summarize history for loss\n",
    "\n",
    "plt.plot(history.history['loss'])\n",
    "plt.plot(history.history['val_loss'])\n",
    "plt.title('model loss')\n",
    "plt.ylabel('loss')\n",
    "plt.xlabel('epoch')\n",
    "plt.legend(['train', 'test'], loc='upper left')\n",
    "plt.show()"
   ]
  },
  {
   "cell_type": "markdown",
   "id": "07b440bc-ab36-446f-a44b-95b320b939d0",
   "metadata": {},
   "source": [
    "## 6. Test the model on new data"
   ]
  },
  {
   "cell_type": "code",
   "execution_count": null,
   "id": "cd6646d3-35bf-49d5-a512-2225b153897b",
   "metadata": {},
   "outputs": [],
   "source": []
  }
 ],
 "metadata": {
  "kernelspec": {
   "display_name": "Python 3 (ipykernel)",
   "language": "python",
   "name": "python3"
  },
  "language_info": {
   "codemirror_mode": {
    "name": "ipython",
    "version": 3
   },
   "file_extension": ".py",
   "mimetype": "text/x-python",
   "name": "python",
   "nbconvert_exporter": "python",
   "pygments_lexer": "ipython3",
   "version": "3.9.12"
  }
 },
 "nbformat": 4,
 "nbformat_minor": 5
}
