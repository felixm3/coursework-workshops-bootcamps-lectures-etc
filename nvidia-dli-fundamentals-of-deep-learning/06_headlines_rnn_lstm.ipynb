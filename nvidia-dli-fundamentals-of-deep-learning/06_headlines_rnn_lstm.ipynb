{
 "cells": [
  {
   "cell_type": "markdown",
   "id": "b772165f-6939-4793-bce3-6cc07bf5e657",
   "metadata": {},
   "source": [
    "# RNN LSTM Sequence Data"
   ]
  },
  {
   "cell_type": "markdown",
   "id": "c5273ff9-e704-4d65-84ad-6e31be583680",
   "metadata": {},
   "source": [
    "## 1. Load the data"
   ]
  },
  {
   "cell_type": "code",
   "execution_count": 1,
   "id": "ae109d5e-4cca-45ab-9a1e-981f5bf7cb70",
   "metadata": {},
   "outputs": [
    {
     "data": {
      "text/plain": [
       "9335"
      ]
     },
     "execution_count": 1,
     "metadata": {},
     "output_type": "execute_result"
    }
   ],
   "source": [
    "import os \n",
    "import pandas as pd\n",
    "import numpy as np\n",
    "import matplotlib.pyplot as plt\n",
    "\n",
    "nyt_dir = 'data/nyt_dataset/articles/'\n",
    "\n",
    "all_headlines = []\n",
    "for filename in os.listdir(nyt_dir):\n",
    "    if 'Articles' in filename:\n",
    "        # Read in all the data from the CSV file\n",
    "        headlines_df = pd.read_csv(nyt_dir + filename)\n",
    "        # Add all of the headlines to our list\n",
    "        all_headlines.extend(list(headlines_df.headline.values))\n",
    "len(all_headlines)"
   ]
  },
  {
   "cell_type": "markdown",
   "id": "f067bae4-5dda-4082-bf72-3128fd245333",
   "metadata": {},
   "source": [
    "## 2. Look at the data"
   ]
  },
  {
   "cell_type": "code",
   "execution_count": 2,
   "id": "0770a5a1-27dd-486d-8229-f989ca6a67e4",
   "metadata": {},
   "outputs": [
    {
     "data": {
      "text/plain": [
       "['N.F.L. vs. Politics Has Been Battle All Season Long',\n",
       " 'Voice. Vice. Veracity.',\n",
       " 'A Stand-Up’s Downward Slide',\n",
       " 'New York Today: A Groundhog Has Her Day',\n",
       " 'A Swimmer’s Communion With the Ocean',\n",
       " 'Trail Activity',\n",
       " 'Super Bowl',\n",
       " 'Trump’s Mexican Shakedown',\n",
       " 'Pence’s Presidential Pet',\n",
       " 'Fruit of a Poison Tree',\n",
       " 'The Peculiar Populism of Donald Trump',\n",
       " 'Questions for: ‘On Alaska’s Coldest Days, a Village Draws Close for Warmth’',\n",
       " 'The New Kids',\n",
       " 'What My Chinese Mother Made',\n",
       " 'Do You Think Teenagers Can Make a Difference in the World?',\n",
       " 'Unknown',\n",
       " 'President Pledges to Let Politics Return to Pulpits',\n",
       " 'The Police Killed My Unarmed Son in 2012. I’m Still Waiting for Justice.',\n",
       " 'Video of Sheep Slaughtering Ignites a Dispute',\n",
       " 'This Will Change Your Mind']"
      ]
     },
     "execution_count": 2,
     "metadata": {},
     "output_type": "execute_result"
    }
   ],
   "source": [
    "# first 20\n",
    "\n",
    "all_headlines[:20]"
   ]
  },
  {
   "cell_type": "markdown",
   "id": "31b93eed-0ec5-45f0-80b8-f8c9e32ddeb4",
   "metadata": {},
   "source": [
    "## 3. Pre-process the data"
   ]
  },
  {
   "cell_type": "markdown",
   "id": "81f9af16-c651-4300-892f-27ca67bb5803",
   "metadata": {},
   "source": [
    "### 3a. Clean the data"
   ]
  },
  {
   "cell_type": "code",
   "execution_count": 3,
   "id": "8cada57d-5c9b-4acf-a095-48d3410cd939",
   "metadata": {},
   "outputs": [
    {
     "data": {
      "text/plain": [
       "8603"
      ]
     },
     "execution_count": 3,
     "metadata": {},
     "output_type": "execute_result"
    }
   ],
   "source": [
    "# Remove all headlines with the value of \"Unknown\"\n",
    "all_headlines = [h for h in all_headlines if h != \"Unknown\"]\n",
    "len(all_headlines)"
   ]
  },
  {
   "cell_type": "code",
   "execution_count": 4,
   "id": "77773a15-ee4c-4f5c-b0d7-23f8f31af2f1",
   "metadata": {},
   "outputs": [
    {
     "data": {
      "text/plain": [
       "['N.F.L. vs. Politics Has Been Battle All Season Long',\n",
       " 'Voice. Vice. Veracity.',\n",
       " 'A Stand-Up’s Downward Slide',\n",
       " 'New York Today: A Groundhog Has Her Day',\n",
       " 'A Swimmer’s Communion With the Ocean',\n",
       " 'Trail Activity',\n",
       " 'Super Bowl',\n",
       " 'Trump’s Mexican Shakedown',\n",
       " 'Pence’s Presidential Pet',\n",
       " 'Fruit of a Poison Tree',\n",
       " 'The Peculiar Populism of Donald Trump',\n",
       " 'Questions for: ‘On Alaska’s Coldest Days, a Village Draws Close for Warmth’',\n",
       " 'The New Kids',\n",
       " 'What My Chinese Mother Made',\n",
       " 'Do You Think Teenagers Can Make a Difference in the World?',\n",
       " 'President Pledges to Let Politics Return to Pulpits',\n",
       " 'The Police Killed My Unarmed Son in 2012. I’m Still Waiting for Justice.',\n",
       " 'Video of Sheep Slaughtering Ignites a Dispute',\n",
       " 'This Will Change Your Mind',\n",
       " 'Busy Start for a President, and That Was in 1933']"
      ]
     },
     "execution_count": 4,
     "metadata": {},
     "output_type": "execute_result"
    }
   ],
   "source": [
    "all_headlines[:20]"
   ]
  },
  {
   "cell_type": "markdown",
   "id": "b928d4a8-fc72-4f85-a7e2-20255f6daa45",
   "metadata": {},
   "source": [
    "### 3b. Tokenization"
   ]
  },
  {
   "cell_type": "code",
   "execution_count": 5,
   "id": "aa9b6c26-1560-4e15-8625-e4c7de546b1f",
   "metadata": {},
   "outputs": [
    {
     "name": "stdout",
     "output_type": "stream",
     "text": [
      "Total words:  11753\n"
     ]
    }
   ],
   "source": [
    "from tensorflow.keras.preprocessing.text import Tokenizer\n",
    "\n",
    "# Tokenize the words in our headlines\n",
    "tokenizer = Tokenizer()\n",
    "tokenizer.fit_on_texts(all_headlines)\n",
    "total_words = len(tokenizer.word_index) + 1\n",
    "print('Total words: ', total_words)"
   ]
  },
  {
   "cell_type": "code",
   "execution_count": 6,
   "id": "9d1b463a-3394-4a2a-a350-3961b094bd53",
   "metadata": {},
   "outputs": [
    {
     "name": "stdout",
     "output_type": "stream",
     "text": [
      "{'a': 2, 'plan': 82, 'man': 139, 'panama': 2931, 'canal': 5487}\n"
     ]
    }
   ],
   "source": [
    "# Print a subset of the word_index dictionary created by Tokenizer\n",
    "subset_dict = {key: value for key, value in tokenizer.word_index.items() \\\n",
    "               if key in ['a','man','a','plan','a','canal','panama']}\n",
    "print(subset_dict)"
   ]
  },
  {
   "cell_type": "code",
   "execution_count": 7,
   "id": "4a8c2ce2-045a-44aa-a04c-c4c218435419",
   "metadata": {},
   "outputs": [
    {
     "data": {
      "text/plain": [
       "[[2], [139], [2], [82], [2], [5487], [2931]]"
      ]
     },
     "execution_count": 7,
     "metadata": {},
     "output_type": "execute_result"
    }
   ],
   "source": [
    "tokenizer.texts_to_sequences(['a','man','a','plan','a','canal','panama'])"
   ]
  },
  {
   "cell_type": "markdown",
   "id": "24c16213-bfdb-4310-836c-c435617689c7",
   "metadata": {},
   "source": [
    "### 3c. Create sequences of tokens"
   ]
  },
  {
   "cell_type": "code",
   "execution_count": 8,
   "id": "af0bb852-ecf1-407f-817f-97fd6b6438e0",
   "metadata": {},
   "outputs": [
    {
     "name": "stdout",
     "output_type": "stream",
     "text": [
      "['n f', 'n f l', 'n f l vs', 'n f l vs politics', 'n f l vs politics has']\n"
     ]
    },
    {
     "data": {
      "text/plain": [
       "[[193, 125],\n",
       " [193, 125, 253],\n",
       " [193, 125, 253, 157],\n",
       " [193, 125, 253, 157, 226],\n",
       " [193, 125, 253, 157, 226, 83]]"
      ]
     },
     "execution_count": 8,
     "metadata": {},
     "output_type": "execute_result"
    }
   ],
   "source": [
    "# Convert data to sequence of tokens \n",
    "\n",
    "input_sequences = []\n",
    "for line in all_headlines:\n",
    "    # Convert our headline into a sequence of tokens\n",
    "    token_list = tokenizer.texts_to_sequences([line])[0]\n",
    "    \n",
    "    # Create a series of sequences for each headline\n",
    "    for i in range(1, len(token_list)):\n",
    "        partial_sequence = token_list[:i+1]\n",
    "        input_sequences.append(partial_sequence)\n",
    "\n",
    "print(tokenizer.sequences_to_texts(input_sequences[:5]))\n",
    "input_sequences[:5]"
   ]
  },
  {
   "cell_type": "code",
   "execution_count": 9,
   "id": "75c2ab6c-469c-4ef5-85b8-417db37bd98c",
   "metadata": {},
   "outputs": [
    {
     "data": {
      "text/plain": [
       "array([  0,   0,   0,   0,   0,   0,   0,   0,   0,   0,   0,   0,   0,\n",
       "         0,   0,   0,   0,   0,   0,   0,   0,   0,   0,   0,   0,   0,\n",
       "       193, 125], dtype=int32)"
      ]
     },
     "execution_count": 9,
     "metadata": {},
     "output_type": "execute_result"
    }
   ],
   "source": [
    "# pad sequences to same length\n",
    "\n",
    "from tensorflow.keras.preprocessing.sequence import pad_sequences\n",
    "import numpy as np\n",
    "\n",
    "# Determine max sequence length\n",
    "max_sequence_len = max([len(x) for x in input_sequences])\n",
    "\n",
    "# Pad all sequences with zeros at the beginning to make them all max length\n",
    "input_sequences = np.array(pad_sequences(input_sequences, maxlen=max_sequence_len, padding='pre'))\n",
    "input_sequences[0]"
   ]
  },
  {
   "cell_type": "markdown",
   "id": "00b67575-7c27-41cb-a37b-0eb2551db4a3",
   "metadata": {},
   "source": [
    "### 3d. Create predictors and target labels"
   ]
  },
  {
   "cell_type": "code",
   "execution_count": 10,
   "id": "e9fd233a-2cac-46bd-bb45-12ce48e67943",
   "metadata": {},
   "outputs": [
    {
     "name": "stdout",
     "output_type": "stream",
     "text": [
      "(53305,) \n",
      "\n"
     ]
    },
    {
     "data": {
      "text/plain": [
       "array([125, 253, 157, 226,  83], dtype=int32)"
      ]
     },
     "execution_count": 10,
     "metadata": {},
     "output_type": "execute_result"
    }
   ],
   "source": [
    "# Predictors are every word except the last\n",
    "predictors = input_sequences[:,:-1]\n",
    "# Labels are the last word\n",
    "labels = input_sequences[:,-1]\n",
    "\n",
    "print(labels.shape, '\\n')\n",
    "labels[:5]"
   ]
  },
  {
   "cell_type": "code",
   "execution_count": 11,
   "id": "17892ead-db3e-403a-849e-d329edc67e9c",
   "metadata": {},
   "outputs": [
    {
     "name": "stdout",
     "output_type": "stream",
     "text": [
      "(53305, 11753) \n",
      "\n"
     ]
    },
    {
     "data": {
      "text/plain": [
       "array([[0., 0., 0., ..., 0., 0., 0.],\n",
       "       [0., 0., 0., ..., 0., 0., 0.],\n",
       "       [0., 0., 0., ..., 0., 0., 0.],\n",
       "       [0., 0., 0., ..., 0., 0., 0.],\n",
       "       [0., 0., 0., ..., 0., 0., 0.]], dtype=float32)"
      ]
     },
     "execution_count": 11,
     "metadata": {},
     "output_type": "execute_result"
    }
   ],
   "source": [
    "# make labels categorical\n",
    "\n",
    "from tensorflow.keras import utils\n",
    "\n",
    "labels = utils.to_categorical(labels, num_classes=total_words)\n",
    "\n",
    "print(labels.shape, '\\n')\n",
    "labels[:5]"
   ]
  },
  {
   "cell_type": "markdown",
   "id": "d49eedb7-2663-4318-8cbf-af1a3b7a350b",
   "metadata": {},
   "source": [
    "## 4. Create the model"
   ]
  },
  {
   "cell_type": "code",
   "execution_count": 12,
   "id": "b6159459-7d34-4432-9c71-c76860e33f86",
   "metadata": {},
   "outputs": [
    {
     "name": "stderr",
     "output_type": "stream",
     "text": [
      "2022-07-10 17:42:59.851378: I tensorflow/core/platform/cpu_feature_guard.cc:193] This TensorFlow binary is optimized with oneAPI Deep Neural Network Library (oneDNN) to use the following CPU instructions in performance-critical operations:  AVX2 FMA\n",
      "To enable them in other operations, rebuild TensorFlow with the appropriate compiler flags.\n"
     ]
    },
    {
     "name": "stdout",
     "output_type": "stream",
     "text": [
      "Model: \"sequential\"\n",
      "_________________________________________________________________\n",
      " Layer (type)                Output Shape              Param #   \n",
      "=================================================================\n",
      " embedding (Embedding)       (None, 27, 10)            117530    \n",
      "                                                                 \n",
      " lstm (LSTM)                 (None, 100)               44400     \n",
      "                                                                 \n",
      " dropout (Dropout)           (None, 100)               0         \n",
      "                                                                 \n",
      " dense (Dense)               (None, 11753)             1187053   \n",
      "                                                                 \n",
      "=================================================================\n",
      "Total params: 1,348,983\n",
      "Trainable params: 1,348,983\n",
      "Non-trainable params: 0\n",
      "_________________________________________________________________\n"
     ]
    }
   ],
   "source": [
    "from tensorflow.keras.layers import Embedding, LSTM, Dense, Dropout\n",
    "from tensorflow.keras.models import Sequential\n",
    "\n",
    "# Input is max sequence length - 1, as we've removed the last word for the label\n",
    "input_len = max_sequence_len - 1 \n",
    "\n",
    "model = Sequential()\n",
    "\n",
    "# Add input embedding layer\n",
    "model.add(Embedding(total_words, 10, input_length=input_len))\n",
    "\n",
    "# Add LSTM layer with 100 units\n",
    "model.add(LSTM(100))\n",
    "model.add(Dropout(0.1))\n",
    "\n",
    "# Add output layer\n",
    "model.add(Dense(total_words, activation='softmax'))\n",
    "\n",
    "model.summary()"
   ]
  },
  {
   "cell_type": "code",
   "execution_count": 13,
   "id": "bd099e23-7de6-4f7b-b961-8d4e7f626034",
   "metadata": {},
   "outputs": [],
   "source": [
    "# compile the model\n",
    "\n",
    "model.compile(loss='categorical_crossentropy', \n",
    "              optimizer='adam')"
   ]
  },
  {
   "cell_type": "markdown",
   "id": "6dd63b75-120c-411c-90f4-3458f6085f3d",
   "metadata": {},
   "source": [
    "## 5. Train/fit the model"
   ]
  },
  {
   "cell_type": "code",
   "execution_count": 14,
   "id": "58a7fe69-c572-4ca4-b8df-4e6dc081d8a6",
   "metadata": {},
   "outputs": [
    {
     "name": "stdout",
     "output_type": "stream",
     "text": [
      "Epoch 1/30\n",
      "1666/1666 [==============================] - 32s 18ms/step - loss: 7.8898\n",
      "Epoch 2/30\n",
      "1666/1666 [==============================] - 33s 20ms/step - loss: 7.4810\n",
      "Epoch 3/30\n",
      "1666/1666 [==============================] - 32s 19ms/step - loss: 7.2963\n",
      "Epoch 4/30\n",
      "1666/1666 [==============================] - 32s 19ms/step - loss: 7.0879\n",
      "Epoch 5/30\n",
      "1666/1666 [==============================] - 32s 19ms/step - loss: 6.8653\n",
      "Epoch 6/30\n",
      "1666/1666 [==============================] - 33s 20ms/step - loss: 6.6210\n",
      "Epoch 7/30\n",
      "1666/1666 [==============================] - 33s 20ms/step - loss: 6.3723\n",
      "Epoch 8/30\n",
      "1666/1666 [==============================] - 34s 21ms/step - loss: 6.1280\n",
      "Epoch 9/30\n",
      "1666/1666 [==============================] - 33s 20ms/step - loss: 5.8868\n",
      "Epoch 10/30\n",
      "1666/1666 [==============================] - 34s 20ms/step - loss: 5.6541\n",
      "Epoch 11/30\n",
      "1666/1666 [==============================] - 33s 20ms/step - loss: 5.4289\n",
      "Epoch 12/30\n",
      "1666/1666 [==============================] - 34s 20ms/step - loss: 5.2189\n",
      "Epoch 13/30\n",
      "1666/1666 [==============================] - 33s 20ms/step - loss: 5.0177\n",
      "Epoch 14/30\n",
      "1666/1666 [==============================] - 33s 20ms/step - loss: 4.8292\n",
      "Epoch 15/30\n",
      "1666/1666 [==============================] - 34s 20ms/step - loss: 4.6466\n",
      "Epoch 16/30\n",
      "1666/1666 [==============================] - 34s 20ms/step - loss: 4.4847\n",
      "Epoch 17/30\n",
      "1666/1666 [==============================] - 34s 21ms/step - loss: 4.3251\n",
      "Epoch 18/30\n",
      "1666/1666 [==============================] - 38s 23ms/step - loss: 4.1820\n",
      "Epoch 19/30\n",
      "1666/1666 [==============================] - 35s 21ms/step - loss: 4.0401\n",
      "Epoch 20/30\n",
      "1666/1666 [==============================] - 36s 22ms/step - loss: 3.9110\n",
      "Epoch 21/30\n",
      "1666/1666 [==============================] - 37s 22ms/step - loss: 3.7853\n",
      "Epoch 22/30\n",
      "1666/1666 [==============================] - 36s 21ms/step - loss: 3.6744\n",
      "Epoch 23/30\n",
      "1666/1666 [==============================] - 37s 22ms/step - loss: 3.5686\n",
      "Epoch 24/30\n",
      "1666/1666 [==============================] - 37s 22ms/step - loss: 3.4684\n",
      "Epoch 25/30\n",
      "1666/1666 [==============================] - 36s 21ms/step - loss: 3.3695\n",
      "Epoch 26/30\n",
      "1666/1666 [==============================] - 36s 21ms/step - loss: 3.2855\n",
      "Epoch 27/30\n",
      "1666/1666 [==============================] - 35s 21ms/step - loss: 3.1992\n",
      "Epoch 28/30\n",
      "1666/1666 [==============================] - 36s 22ms/step - loss: 3.1212\n",
      "Epoch 29/30\n",
      "1666/1666 [==============================] - 35s 21ms/step - loss: 3.0447\n",
      "Epoch 30/30\n",
      "1666/1666 [==============================] - 37s 22ms/step - loss: 2.9793\n"
     ]
    }
   ],
   "source": [
    "history = model.fit(predictors, labels, \n",
    "          epochs=30, \n",
    "          verbose=1)"
   ]
  },
  {
   "cell_type": "code",
   "execution_count": 15,
   "id": "7a59a4a8-2752-4eca-aa35-2d293f3666b7",
   "metadata": {},
   "outputs": [
    {
     "name": "stdout",
     "output_type": "stream",
     "text": [
      "dict_keys(['loss'])\n"
     ]
    }
   ],
   "source": [
    "# list all data in history\n",
    "\n",
    "print(history.history.keys())"
   ]
  },
  {
   "cell_type": "code",
   "execution_count": 17,
   "id": "aa7766d0-5cd8-4847-9d44-57c62a9a9d61",
   "metadata": {},
   "outputs": [
    {
     "data": {
      "image/png": "[encoded data removed]",
      "text/plain": [
       "<Figure size 432x288 with 1 Axes>"
      ]
     },
     "metadata": {
      "needs_background": "light"
     },
     "output_type": "display_data"
    }
   ],
   "source": [
    "import numpy as np\n",
    "import matplotlib.pyplot as plt\n",
    "\n",
    "plt.plot(history.history['loss'])\n",
    "plt.title('model loss')\n",
    "plt.ylabel('loss')\n",
    "plt.xlabel('epoch')\n",
    "plt.show()"
   ]
  },
  {
   "cell_type": "markdown",
   "id": "19dd9413-9100-41b4-abfd-a51d92e09fd1",
   "metadata": {},
   "source": [
    "## 6. Make predictions"
   ]
  },
  {
   "cell_type": "code",
   "execution_count": 18,
   "id": "6566f960-dee9-4a84-a9cf-946ba336637c",
   "metadata": {},
   "outputs": [],
   "source": [
    "def predict_next_token(seed_text):\n",
    "    token_list = tokenizer.texts_to_sequences([seed_text])[0]\n",
    "    token_list = pad_sequences([token_list], maxlen=max_sequence_len-1, padding='pre')\n",
    "    prediction = model.predict_classes(token_list, verbose=0)\n",
    "    return prediction"
   ]
  },
  {
   "cell_type": "code",
   "execution_count": 19,
   "id": "27f547be-e5de-41ad-ae54-a83be527d680",
   "metadata": {},
   "outputs": [
    {
     "ename": "AttributeError",
     "evalue": "'Sequential' object has no attribute 'predict_classes'",
     "output_type": "error",
     "traceback": [
      "\u001b[0;31m---------------------------------------------------------------------------\u001b[0m",
      "\u001b[0;31mAttributeError\u001b[0m                            Traceback (most recent call last)",
      "Input \u001b[0;32mIn [19]\u001b[0m, in \u001b[0;36m<cell line: 1>\u001b[0;34m()\u001b[0m\n\u001b[0;32m----> 1\u001b[0m prediction \u001b[38;5;241m=\u001b[39m \u001b[43mpredict_next_token\u001b[49m\u001b[43m(\u001b[49m\u001b[38;5;124;43m\"\u001b[39;49m\u001b[38;5;124;43mtoday in new york\u001b[39;49m\u001b[38;5;124;43m\"\u001b[39;49m\u001b[43m)\u001b[49m\n\u001b[1;32m      2\u001b[0m prediction\n",
      "Input \u001b[0;32mIn [18]\u001b[0m, in \u001b[0;36mpredict_next_token\u001b[0;34m(seed_text)\u001b[0m\n\u001b[1;32m      2\u001b[0m token_list \u001b[38;5;241m=\u001b[39m tokenizer\u001b[38;5;241m.\u001b[39mtexts_to_sequences([seed_text])[\u001b[38;5;241m0\u001b[39m]\n\u001b[1;32m      3\u001b[0m token_list \u001b[38;5;241m=\u001b[39m pad_sequences([token_list], maxlen\u001b[38;5;241m=\u001b[39mmax_sequence_len\u001b[38;5;241m-\u001b[39m\u001b[38;5;241m1\u001b[39m, padding\u001b[38;5;241m=\u001b[39m\u001b[38;5;124m'\u001b[39m\u001b[38;5;124mpre\u001b[39m\u001b[38;5;124m'\u001b[39m)\n\u001b[0;32m----> 4\u001b[0m prediction \u001b[38;5;241m=\u001b[39m \u001b[43mmodel\u001b[49m\u001b[38;5;241;43m.\u001b[39;49m\u001b[43mpredict_classes\u001b[49m(token_list, verbose\u001b[38;5;241m=\u001b[39m\u001b[38;5;241m0\u001b[39m)\n\u001b[1;32m      5\u001b[0m \u001b[38;5;28;01mreturn\u001b[39;00m prediction\n",
      "\u001b[0;31mAttributeError\u001b[0m: 'Sequential' object has no attribute 'predict_classes'"
     ]
    }
   ],
   "source": [
    "prediction = predict_next_token(\"today in new york\")\n",
    "prediction"
   ]
  },
  {
   "cell_type": "markdown",
   "id": "b9215d4f-3f1d-44e5-984d-8b1bfeb566a0",
   "metadata": {},
   "source": [
    "WARNING:tensorflow:From <ipython-input-16-bd91571ab9e2>:4: Sequential.predict_classes (from tensorflow.python.keras.engine.sequential) is deprecated and will be removed after 2021-01-01.\n",
    "Instructions for updating:\n",
    "Please use instead:* `np.argmax(model.predict(x), axis=-1)`,   if your model does multi-class classification   (e.g. if it uses a `softmax` last-layer activation).* `(model.predict(x) > 0.5).astype(\"int32\")`,   if your model does binary classification   (e.g. if it uses a `sigmoid` last-layer activation)."
   ]
  },
  {
   "cell_type": "code",
   "execution_count": 20,
   "id": "8a5312f1-1681-47ff-a3f1-ff20f9f8cbdc",
   "metadata": {},
   "outputs": [],
   "source": [
    "def predict_next_token(seed_text):\n",
    "    token_list = tokenizer.texts_to_sequences([seed_text])[0]\n",
    "    token_list = pad_sequences([token_list], maxlen=max_sequence_len-1, padding='pre')\n",
    "    prediction = np.argmax(model.predict(token_list), axis=-1)\n",
    "    return prediction"
   ]
  },
  {
   "cell_type": "code",
   "execution_count": 21,
   "id": "352b7e18-1b7b-400c-a272-d7b32f9e7bff",
   "metadata": {},
   "outputs": [
    {
     "name": "stdout",
     "output_type": "stream",
     "text": [
      "1/1 [==============================] - 1s 508ms/step\n"
     ]
    },
    {
     "data": {
      "text/plain": [
       "array([9])"
      ]
     },
     "execution_count": 21,
     "metadata": {},
     "output_type": "execute_result"
    }
   ],
   "source": [
    "prediction = predict_next_token(\"today in new york\")\n",
    "prediction"
   ]
  },
  {
   "cell_type": "code",
   "execution_count": 22,
   "id": "c178c860-421c-49b1-9c14-fb20ecf9df49",
   "metadata": {},
   "outputs": [
    {
     "data": {
      "text/plain": [
       "['is']"
      ]
     },
     "execution_count": 22,
     "metadata": {},
     "output_type": "execute_result"
    }
   ],
   "source": [
    "tokenizer.sequences_to_texts([prediction])"
   ]
  },
  {
   "cell_type": "code",
   "execution_count": 23,
   "id": "0eb704eb-2da1-474e-8c9d-073005ee70af",
   "metadata": {},
   "outputs": [],
   "source": [
    "# generate new headlines\n",
    "\n",
    "def generate_headline(seed_text, next_words=1):\n",
    "    for _ in range(next_words):\n",
    "        # Predict next token\n",
    "        prediction = predict_next_token(seed_text)\n",
    "        # Convert token to word\n",
    "        next_word = tokenizer.sequences_to_texts([prediction])[0]\n",
    "        # Add next word to the headline. This headline will be used in the next pass of the loop.\n",
    "        seed_text += \" \" + next_word\n",
    "    # Return headline as title-case\n",
    "    return seed_text.title()"
   ]
  },
  {
   "cell_type": "code",
   "execution_count": 24,
   "id": "e8b0dee3-bfe4-4e8c-9ee6-a5c092d1e10c",
   "metadata": {},
   "outputs": [
    {
     "name": "stdout",
     "output_type": "stream",
     "text": [
      "1/1 [==============================] - 0s 25ms/step\n",
      "1/1 [==============================] - 0s 19ms/step\n",
      "1/1 [==============================] - 0s 25ms/step\n",
      "1/1 [==============================] - 0s 16ms/step\n",
      "1/1 [==============================] - 0s 18ms/step\n",
      "Washington Dc Is This Plan To Curb Policies\n",
      "1/1 [==============================] - 0s 16ms/step\n",
      "1/1 [==============================] - 0s 19ms/step\n",
      "1/1 [==============================] - 0s 16ms/step\n",
      "1/1 [==============================] - 0s 16ms/step\n",
      "1/1 [==============================] - 0s 17ms/step\n",
      "Today In New York Is High Critics Are Not\n",
      "1/1 [==============================] - 0s 18ms/step\n",
      "1/1 [==============================] - 0s 17ms/step\n",
      "1/1 [==============================] - 0s 16ms/step\n",
      "1/1 [==============================] - 0s 16ms/step\n",
      "1/1 [==============================] - 0s 16ms/step\n",
      "The School District Has The Grid And Luxurious Women\n",
      "1/1 [==============================] - 0s 16ms/step\n",
      "1/1 [==============================] - 0s 16ms/step\n",
      "1/1 [==============================] - 0s 16ms/step\n",
      "1/1 [==============================] - 0s 16ms/step\n",
      "1/1 [==============================] - 0s 16ms/step\n",
      "Crime Has Become An Idiot Key Police In\n"
     ]
    }
   ],
   "source": [
    "seed_texts = [\n",
    "    'washington dc is',\n",
    "    'today in new york',\n",
    "    'the school district has',\n",
    "    'crime has become']\n",
    "for seed in seed_texts:\n",
    "    print(generate_headline(seed, next_words=5))"
   ]
  },
  {
   "cell_type": "code",
   "execution_count": null,
   "id": "73c1df60-cdb4-49a5-b957-21d51cb85789",
   "metadata": {},
   "outputs": [],
   "source": []
  }
 ],
 "metadata": {
  "kernelspec": {
   "display_name": "Python 3 (ipykernel)",
   "language": "python",
   "name": "python3"
  },
  "language_info": {
   "codemirror_mode": {
    "name": "ipython",
    "version": 3
   },
   "file_extension": ".py",
   "mimetype": "text/x-python",
   "name": "python",
   "nbconvert_exporter": "python",
   "pygments_lexer": "ipython3",
   "version": "3.9.13"
  }
 },
 "nbformat": 4,
 "nbformat_minor": 5
}
